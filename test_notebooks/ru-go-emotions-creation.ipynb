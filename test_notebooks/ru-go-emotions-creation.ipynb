{
  "nbformat": 4,
  "nbformat_minor": 2,
  "metadata": {},
  "cells": [
    {
      "metadata": {},
      "source": [
        "import time\n",
        "\n",
        "import pandas as pd\n",
        "from datasets import load_dataset\n",
        "from deep_translator import GoogleTranslator\n",
        "from huggingface_hub import notebook_login"
      ],
      "cell_type": "code",
      "outputs": [],
      "execution_count": null
    },
    {
      "metadata": {},
      "source": [
        "go_emotions = load_dataset(\"go_emotions\")"
      ],
      "cell_type": "code",
      "outputs": [
        {
          "output_type": "stream",
          "name": "stderr",
          "text": [
            "No config specified, defaulting to: go_emotions/simplified\n",
            "Found cached dataset go_emotions (/home/seara/.cache/huggingface/datasets/go_emotions/simplified/0.0.0/2637cfdd4e64d30249c3ed2150fa2b9d279766bfcd6a809b9f085c61a90d776d)\n"
          ]
        },
        {
          "output_type": "display_data",
          "data": {
            "application/vnd.jupyter.widget-view+json": {
              "model_id": "3e557f94b61c48d085111ae6a587b489",
              "version_major": 2,
              "version_minor": 0
            },
            "text/plain": [
              "  0%|          | 0/3 [00:00<?, ?it/s]"
            ]
          },
          "metadata": {}
        }
      ],
      "execution_count": null
    },
    {
      "metadata": {},
      "source": [
        "# translator = GoogleTranslator(source=\"en\", target=\"ru\")\n",
        "# for split in [\"train\", \"validation\"]:\n",
        "#     i = 0\n",
        "#     with open(f\"{split}.txt\", \"a\") as f:\n",
        "#         while i < len(go_emotions[split]):\n",
        "#             try:\n",
        "#                 batch = go_emotions[split][i : i + 100][\"text\"]\n",
        "#                 translations = translator.translate_batch(batch)\n",
        "#                 for j in range(len(translations)):\n",
        "#                     if not translations[j]:\n",
        "#                         print(\"Replaced\", translations[j], batch[j])\n",
        "#                         translations[j] = batch[j]\n",
        "#                 print(split, i, len(dict(zip(batch, translations))))\n",
        "#                 f.writelines(\"\\n\".join(translations))\n",
        "#                 f.write(\"\\n\")\n",
        "#                 i += 100\n",
        "#             except Exception as e:\n",
        "#                 print(e)\n",
        "#                 time.sleep(2)\n",
        "#                 continue\n",
        "#             if i % 100 == 0:\n",
        "#                 translator = GoogleTranslator(source=\"en\", target=\"ru\")"
      ],
      "cell_type": "code",
      "outputs": [],
      "execution_count": null
    },
    {
      "metadata": {},
      "source": [
        "# for split in [\"test\"]:\n",
        "#     i = 0\n",
        "#     with open(f\"{split}.txt\", \"a\") as f:\n",
        "#         while i < len(go_emotions[split]):\n",
        "#             try:\n",
        "#                 batch = go_emotions[split][i : i + 10][\"text\"]\n",
        "#                 translations = translator.translate_batch(batch)\n",
        "#                 for j in range(len(translations)):\n",
        "#                     if not translations[j]:\n",
        "#                         print(\"Replaced\", translations[j], batch[j])\n",
        "#                         translations[j] = batch[j]\n",
        "#                 print(split, i, len(dict(zip(batch, translations))))\n",
        "#                 f.writelines(\"\\n\".join(translations))\n",
        "#                 f.write(\"\\n\")\n",
        "#                 i += 10\n",
        "#             except Exception as e:\n",
        "#                 print(e)\n",
        "#                 time.sleep(2)\n",
        "#                 continue\n",
        "#             if i % 100 == 0:\n",
        "#                 translator = GoogleTranslator(source=\"en\", target=\"ru\")"
      ],
      "cell_type": "code",
      "outputs": [],
      "execution_count": null
    },
    {
      "metadata": {},
      "source": [
        "ru_go_emotions = go_emotions\n",
        "for split in ru_go_emotions:\n",
        "    with open(f\"{split}.txt\") as f:\n",
        "        text = f.readlines()\n",
        "        text = [x.rstrip() for x in text]\n",
        "        ru_go_emotions[split] = ru_go_emotions[split].add_column(\"ru_text\", text)"
      ],
      "cell_type": "code",
      "outputs": [],
      "execution_count": null
    },
    {
      "metadata": {},
      "source": [
        "pd.DataFrame(ru_go_emotions[\"train\"])"
      ],
      "cell_type": "code",
      "outputs": [
        {
          "output_type": "execute_result",
          "data": {
            "text/html": [
              "<div>\n",
              "<style scoped>\n",
              "    .dataframe tbody tr th:only-of-type {\n",
              "        vertical-align: middle;\n",
              "    }\n",
              "\n",
              "    .dataframe tbody tr th {\n",
              "        vertical-align: top;\n",
              "    }\n",
              "\n",
              "    .dataframe thead th {\n",
              "        text-align: right;\n",
              "    }\n",
              "</style>\n",
              "<table border=\"1\" class=\"dataframe\">\n",
              "  <thead>\n",
              "    <tr style=\"text-align: right;\">\n",
              "      <th></th>\n",
              "      <th>text</th>\n",
              "      <th>labels</th>\n",
              "      <th>id</th>\n",
              "      <th>ru_text</th>\n",
              "    </tr>\n",
              "  </thead>\n",
              "  <tbody>\n",
              "    <tr>\n",
              "      <th>0</th>\n",
              "      <td>My favourite food is anything I didn't have to...</td>\n",
              "      <td>[27]</td>\n",
              "      <td>eebbqej</td>\n",
              "      <td>\u041c\u043e\u044f \u043b\u044e\u0431\u0438\u043c\u0430\u044f \u0435\u0434\u0430 \u2014 \u044d\u0442\u043e \u0432\u0441\u0435, \u0447\u0442\u043e \u043c\u043d\u0435 \u043d\u0435 \u043f\u0440\u0438\u0445\u043e\u0434\u0438\u043b...</td>\n",
              "    </tr>\n",
              "    <tr>\n",
              "      <th>1</th>\n",
              "      <td>Now if he does off himself, everyone will thin...</td>\n",
              "      <td>[27]</td>\n",
              "      <td>ed00q6i</td>\n",
              "      <td>\u0422\u0435\u043f\u0435\u0440\u044c, \u0435\u0441\u043b\u0438 \u043e\u043d \u043f\u043e\u043a\u043e\u043d\u0447\u0438\u0442 \u0441 \u0441\u043e\u0431\u043e\u0439, \u0432\u0441\u0435 \u0431\u0443\u0434\u0443\u0442 \u0434\u0443...</td>\n",
              "    </tr>\n",
              "    <tr>\n",
              "      <th>2</th>\n",
              "      <td>WHY THE FUCK IS BAYLESS ISOING</td>\n",
              "      <td>[2]</td>\n",
              "      <td>eezlygj</td>\n",
              "      <td>\u041f\u041e\u0427\u0415\u041c\u0423, \u0411\u041b\u042f\u0414\u042c, \u0411\u0415\u0417 \u0411\u0415\u0419\u041b\u0415\u0421-\u0418\u0417\u041e\u0418\u041d\u0413</td>\n",
              "    </tr>\n",
              "    <tr>\n",
              "      <th>3</th>\n",
              "      <td>To make her feel threatened</td>\n",
              "      <td>[14]</td>\n",
              "      <td>ed7ypvh</td>\n",
              "      <td>\u0427\u0442\u043e\u0431\u044b \u0437\u0430\u0441\u0442\u0430\u0432\u0438\u0442\u044c \u0435\u0435 \u0447\u0443\u0432\u0441\u0442\u0432\u043e\u0432\u0430\u0442\u044c \u0441\u0435\u0431\u044f \u043f\u043e\u0434 \u0443\u0433\u0440\u043e\u0437\u043e\u0439</td>\n",
              "    </tr>\n",
              "    <tr>\n",
              "      <th>4</th>\n",
              "      <td>Dirty Southern Wankers</td>\n",
              "      <td>[3]</td>\n",
              "      <td>ed0bdzj</td>\n",
              "      <td>\u0413\u0440\u044f\u0437\u043d\u044b\u0435 \u044e\u0436\u043d\u044b\u0435 \u0434\u0440\u043e\u0447\u043a\u0438</td>\n",
              "    </tr>\n",
              "    <tr>\n",
              "      <th>...</th>\n",
              "      <td>...</td>\n",
              "      <td>...</td>\n",
              "      <td>...</td>\n",
              "      <td>...</td>\n",
              "    </tr>\n",
              "    <tr>\n",
              "      <th>43405</th>\n",
              "      <td>Added you mate well I\u2019ve just got the bow and ...</td>\n",
              "      <td>[18]</td>\n",
              "      <td>edsb738</td>\n",
              "      <td>\u0414\u043e\u0431\u0430\u0432\u0438\u043b, \u0434\u0440\u0443\u0436\u0438\u0449\u0435, \u044f \u0442\u043e\u043b\u044c\u043a\u043e \u0447\u0442\u043e \u043f\u043e\u043b\u0443\u0447\u0438\u043b \u043b\u0443\u043a, \u0438 ...</td>\n",
              "    </tr>\n",
              "    <tr>\n",
              "      <th>43406</th>\n",
              "      <td>Always thought that was funny but is it a refe...</td>\n",
              "      <td>[6]</td>\n",
              "      <td>ee7fdou</td>\n",
              "      <td>\u0412\u0441\u0435\u0433\u0434\u0430 \u0434\u0443\u043c\u0430\u043b, \u0447\u0442\u043e \u044d\u0442\u043e \u0441\u043c\u0435\u0448\u043d\u043e, \u043d\u043e \u044d\u0442\u043e \u043e\u0442\u0441\u044b\u043b\u043a\u0430 \u043a...</td>\n",
              "    </tr>\n",
              "    <tr>\n",
              "      <th>43407</th>\n",
              "      <td>What are you talking about? Anything bad that ...</td>\n",
              "      <td>[3]</td>\n",
              "      <td>efgbhks</td>\n",
              "      <td>\u041e \u0447\u0435\u043c \u0442\u044b \u0433\u043e\u0432\u043e\u0440\u0438\u0448\u044c? \u0412\u0441\u0435 \u043f\u043b\u043e\u0445\u043e\u0435, \u0447\u0442\u043e \u0441\u043b\u0443\u0447\u0438\u043b\u043e\u0441\u044c, ...</td>\n",
              "    </tr>\n",
              "    <tr>\n",
              "      <th>43408</th>\n",
              "      <td>More like a baptism, with sexy results!</td>\n",
              "      <td>[13]</td>\n",
              "      <td>ed1naf8</td>\n",
              "      <td>\u0411\u043e\u043b\u044c\u0448\u0435 \u043f\u043e\u0445\u043e\u0436\u0435 \u043d\u0430 \u043a\u0440\u0435\u0449\u0435\u043d\u0438\u0435, \u0441 \u0441\u0435\u043a\u0441\u0443\u0430\u043b\u044c\u043d\u044b\u043c\u0438 \u0440\u0435\u0437\u0443...</td>\n",
              "    </tr>\n",
              "    <tr>\n",
              "      <th>43409</th>\n",
              "      <td>Enjoy the ride!</td>\n",
              "      <td>[17]</td>\n",
              "      <td>eecwmbq</td>\n",
              "      <td>\u041d\u0430\u0441\u043b\u0430\u0434\u0438\u0442\u044c\u0441\u044f \u043f\u043e\u0435\u0437\u0434\u043a\u043e\u0439!</td>\n",
              "    </tr>\n",
              "  </tbody>\n",
              "</table>\n",
              "<p>43410 rows \u00d7 4 columns</p>\n",
              "</div>"
            ],
            "text/plain": [
              "                                                    text labels       id  \\\n",
              "0      My favourite food is anything I didn't have to...   [27]  eebbqej   \n",
              "1      Now if he does off himself, everyone will thin...   [27]  ed00q6i   \n",
              "2                         WHY THE FUCK IS BAYLESS ISOING    [2]  eezlygj   \n",
              "3                            To make her feel threatened   [14]  ed7ypvh   \n",
              "4                                 Dirty Southern Wankers    [3]  ed0bdzj   \n",
              "...                                                  ...    ...      ...   \n",
              "43405  Added you mate well I\u2019ve just got the bow and ...   [18]  edsb738   \n",
              "43406  Always thought that was funny but is it a refe...    [6]  ee7fdou   \n",
              "43407  What are you talking about? Anything bad that ...    [3]  efgbhks   \n",
              "43408            More like a baptism, with sexy results!   [13]  ed1naf8   \n",
              "43409                                    Enjoy the ride!   [17]  eecwmbq   \n",
              "\n",
              "                                                 ru_text  \n",
              "0      \u041c\u043e\u044f \u043b\u044e\u0431\u0438\u043c\u0430\u044f \u0435\u0434\u0430 \u2014 \u044d\u0442\u043e \u0432\u0441\u0435, \u0447\u0442\u043e \u043c\u043d\u0435 \u043d\u0435 \u043f\u0440\u0438\u0445\u043e\u0434\u0438\u043b...  \n",
              "1      \u0422\u0435\u043f\u0435\u0440\u044c, \u0435\u0441\u043b\u0438 \u043e\u043d \u043f\u043e\u043a\u043e\u043d\u0447\u0438\u0442 \u0441 \u0441\u043e\u0431\u043e\u0439, \u0432\u0441\u0435 \u0431\u0443\u0434\u0443\u0442 \u0434\u0443...  \n",
              "2                       \u041f\u041e\u0427\u0415\u041c\u0423, \u0411\u041b\u042f\u0414\u042c, \u0411\u0415\u0417 \u0411\u0415\u0419\u041b\u0415\u0421-\u0418\u0417\u041e\u0418\u041d\u0413  \n",
              "3        \u0427\u0442\u043e\u0431\u044b \u0437\u0430\u0441\u0442\u0430\u0432\u0438\u0442\u044c \u0435\u0435 \u0447\u0443\u0432\u0441\u0442\u0432\u043e\u0432\u0430\u0442\u044c \u0441\u0435\u0431\u044f \u043f\u043e\u0434 \u0443\u0433\u0440\u043e\u0437\u043e\u0439  \n",
              "4                                   \u0413\u0440\u044f\u0437\u043d\u044b\u0435 \u044e\u0436\u043d\u044b\u0435 \u0434\u0440\u043e\u0447\u043a\u0438  \n",
              "...                                                  ...  \n",
              "43405  \u0414\u043e\u0431\u0430\u0432\u0438\u043b, \u0434\u0440\u0443\u0436\u0438\u0449\u0435, \u044f \u0442\u043e\u043b\u044c\u043a\u043e \u0447\u0442\u043e \u043f\u043e\u043b\u0443\u0447\u0438\u043b \u043b\u0443\u043a, \u0438 ...  \n",
              "43406  \u0412\u0441\u0435\u0433\u0434\u0430 \u0434\u0443\u043c\u0430\u043b, \u0447\u0442\u043e \u044d\u0442\u043e \u0441\u043c\u0435\u0448\u043d\u043e, \u043d\u043e \u044d\u0442\u043e \u043e\u0442\u0441\u044b\u043b\u043a\u0430 \u043a...  \n",
              "43407  \u041e \u0447\u0435\u043c \u0442\u044b \u0433\u043e\u0432\u043e\u0440\u0438\u0448\u044c? \u0412\u0441\u0435 \u043f\u043b\u043e\u0445\u043e\u0435, \u0447\u0442\u043e \u0441\u043b\u0443\u0447\u0438\u043b\u043e\u0441\u044c, ...  \n",
              "43408  \u0411\u043e\u043b\u044c\u0448\u0435 \u043f\u043e\u0445\u043e\u0436\u0435 \u043d\u0430 \u043a\u0440\u0435\u0449\u0435\u043d\u0438\u0435, \u0441 \u0441\u0435\u043a\u0441\u0443\u0430\u043b\u044c\u043d\u044b\u043c\u0438 \u0440\u0435\u0437\u0443...  \n",
              "43409                              \u041d\u0430\u0441\u043b\u0430\u0434\u0438\u0442\u044c\u0441\u044f \u043f\u043e\u0435\u0437\u0434\u043a\u043e\u0439!  \n",
              "\n",
              "[43410 rows x 4 columns]"
            ]
          },
          "metadata": {},
          "execution_count": 6
        }
      ],
      "execution_count": null
    },
    {
      "metadata": {},
      "source": [
        "notebook_login()"
      ],
      "cell_type": "code",
      "outputs": [
        {
          "output_type": "stream",
          "name": "stdout",
          "text": [
            "Token is valid.\n",
            "Your token has been saved in your configured git credential helpers (store).\n",
            "Your token has been saved to /home/seara/.cache/huggingface/token\n",
            "Login successful\n"
          ]
        }
      ],
      "execution_count": null
    },
    {
      "metadata": {},
      "source": [
        "ru_go_emotions.push_to_hub(\"ru-go-emotions\")"
      ],
      "cell_type": "code",
      "outputs": [
        {
          "output_type": "stream",
          "name": "stderr",
          "text": [
            "Pushing split train to the Hub.\n"
          ]
        },
        {
          "output_type": "display_data",
          "data": {
            "application/vnd.jupyter.widget-view+json": {
              "model_id": "a03404c66f7f4fdd881894d72fd18c55",
              "version_major": 2,
              "version_minor": 0
            },
            "text/plain": [
              "Pushing dataset shards to the dataset hub:   0%|          | 0/1 [00:00<?, ?it/s]"
            ]
          },
          "metadata": {}
        },
        {
          "output_type": "display_data",
          "data": {
            "application/vnd.jupyter.widget-view+json": {
              "model_id": "3d17c649353b477189ce6dfaaece9c7e",
              "version_major": 2,
              "version_minor": 0
            },
            "text/plain": [
              "Creating parquet from Arrow format:   0%|          | 0/44 [00:00<?, ?ba/s]"
            ]
          },
          "metadata": {}
        },
        {
          "output_type": "display_data",
          "data": {
            "application/vnd.jupyter.widget-view+json": {
              "model_id": "aab7922574f14bed974737c73e4c4de6",
              "version_major": 2,
              "version_minor": 0
            },
            "text/plain": [
              "Upload 1 LFS files:   0%|          | 0/1 [00:00<?, ?it/s]"
            ]
          },
          "metadata": {}
        },
        {
          "output_type": "stream",
          "name": "stderr",
          "text": [
            "Pushing split validation to the Hub.\n"
          ]
        },
        {
          "output_type": "display_data",
          "data": {
            "application/vnd.jupyter.widget-view+json": {
              "model_id": "eaf21b9d24b445c4b97ede3031309af8",
              "version_major": 2,
              "version_minor": 0
            },
            "text/plain": [
              "Pushing dataset shards to the dataset hub:   0%|          | 0/1 [00:00<?, ?it/s]"
            ]
          },
          "metadata": {}
        },
        {
          "output_type": "display_data",
          "data": {
            "application/vnd.jupyter.widget-view+json": {
              "model_id": "2f5e179c9b7e407ab5d9aafb50948c63",
              "version_major": 2,
              "version_minor": 0
            },
            "text/plain": [
              "Creating parquet from Arrow format:   0%|          | 0/6 [00:00<?, ?ba/s]"
            ]
          },
          "metadata": {}
        },
        {
          "output_type": "display_data",
          "data": {
            "application/vnd.jupyter.widget-view+json": {
              "model_id": "94adfc65f8ae42698220d327b5d24aef",
              "version_major": 2,
              "version_minor": 0
            },
            "text/plain": [
              "Upload 1 LFS files:   0%|          | 0/1 [00:00<?, ?it/s]"
            ]
          },
          "metadata": {}
        },
        {
          "output_type": "stream",
          "name": "stderr",
          "text": [
            "Pushing split test to the Hub.\n"
          ]
        },
        {
          "output_type": "display_data",
          "data": {
            "application/vnd.jupyter.widget-view+json": {
              "model_id": "36b2f41601f747ba8513803790765768",
              "version_major": 2,
              "version_minor": 0
            },
            "text/plain": [
              "Pushing dataset shards to the dataset hub:   0%|          | 0/1 [00:00<?, ?it/s]"
            ]
          },
          "metadata": {}
        },
        {
          "output_type": "display_data",
          "data": {
            "application/vnd.jupyter.widget-view+json": {
              "model_id": "c1e024bb5a4f465baef184fb5afb3da9",
              "version_major": 2,
              "version_minor": 0
            },
            "text/plain": [
              "Creating parquet from Arrow format:   0%|          | 0/6 [00:00<?, ?ba/s]"
            ]
          },
          "metadata": {}
        },
        {
          "output_type": "display_data",
          "data": {
            "application/vnd.jupyter.widget-view+json": {
              "model_id": "e971ea8dc8bc425bbf85a7b0a447c3a6",
              "version_major": 2,
              "version_minor": 0
            },
            "text/plain": [
              "Upload 1 LFS files:   0%|          | 0/1 [00:00<?, ?it/s]"
            ]
          },
          "metadata": {}
        }
      ],
      "execution_count": null
    },
    {
      "metadata": {},
      "source": [
        "ru_go_emotions = load_dataset(\"seara/ru_go_emotions\")"
      ],
      "cell_type": "code",
      "outputs": [
        {
          "output_type": "display_data",
          "data": {
            "application/vnd.jupyter.widget-view+json": {
              "model_id": "b1fdc530bb224ca5a7fea2ce4398a2e2",
              "version_major": 2,
              "version_minor": 0
            },
            "text/plain": [
              "Downloading readme:   0%|          | 0.00/1.31k [00:00<?, ?B/s]"
            ]
          },
          "metadata": {}
        },
        {
          "output_type": "stream",
          "name": "stderr",
          "text": [
            "Using custom data configuration seara--ru-go-emotions-010f1c10233a04e9\n"
          ]
        },
        {
          "output_type": "stream",
          "name": "stdout",
          "text": [
            "Downloading and preparing dataset None/None to /home/seara/.cache/huggingface/datasets/seara___parquet/seara--ru-go-emotions-010f1c10233a04e9/0.0.0/2a3b91fbd88a2c90d1dbbb32b460cf621d31bd5b05b934492fdef7d8d6f236ec...\n"
          ]
        },
        {
          "output_type": "display_data",
          "data": {
            "application/vnd.jupyter.widget-view+json": {
              "model_id": "922ad064348f4243a7927decc4b4d339",
              "version_major": 2,
              "version_minor": 0
            },
            "text/plain": [
              "Downloading data files:   0%|          | 0/3 [00:00<?, ?it/s]"
            ]
          },
          "metadata": {}
        },
        {
          "output_type": "display_data",
          "data": {
            "application/vnd.jupyter.widget-view+json": {
              "model_id": "196a6733d8ff4680921dd7b98d25b35e",
              "version_major": 2,
              "version_minor": 0
            },
            "text/plain": [
              "Downloading data:   0%|          | 0.00/6.05M [00:00<?, ?B/s]"
            ]
          },
          "metadata": {}
        },
        {
          "output_type": "display_data",
          "data": {
            "application/vnd.jupyter.widget-view+json": {
              "model_id": "b767603f144e40589e9178925233aa3d",
              "version_major": 2,
              "version_minor": 0
            },
            "text/plain": [
              "Downloading data:   0%|          | 0.00/758k [00:00<?, ?B/s]"
            ]
          },
          "metadata": {}
        },
        {
          "output_type": "display_data",
          "data": {
            "application/vnd.jupyter.widget-view+json": {
              "model_id": "e6be3274238a42ccbd13dbbc4b5ce9c0",
              "version_major": 2,
              "version_minor": 0
            },
            "text/plain": [
              "Downloading data:   0%|          | 0.00/753k [00:00<?, ?B/s]"
            ]
          },
          "metadata": {}
        },
        {
          "output_type": "display_data",
          "data": {
            "application/vnd.jupyter.widget-view+json": {
              "model_id": "5bec949e4f8a4567ab6bcccf0778228d",
              "version_major": 2,
              "version_minor": 0
            },
            "text/plain": [
              "Extracting data files:   0%|          | 0/3 [00:00<?, ?it/s]"
            ]
          },
          "metadata": {}
        },
        {
          "output_type": "display_data",
          "data": {
            "application/vnd.jupyter.widget-view+json": {
              "model_id": "9e219955dbf84965ae3135af8f817e2c",
              "version_major": 2,
              "version_minor": 0
            },
            "text/plain": [
              "Generating train split:   0%|          | 0/43410 [00:00<?, ? examples/s]"
            ]
          },
          "metadata": {}
        },
        {
          "output_type": "display_data",
          "data": {
            "application/vnd.jupyter.widget-view+json": {
              "model_id": "6f085d8959f04ca594acf9a48712307a",
              "version_major": 2,
              "version_minor": 0
            },
            "text/plain": [
              "Generating validation split:   0%|          | 0/5426 [00:00<?, ? examples/s]"
            ]
          },
          "metadata": {}
        },
        {
          "output_type": "display_data",
          "data": {
            "application/vnd.jupyter.widget-view+json": {
              "model_id": "3c11a866771643589ab0d73b7746510e",
              "version_major": 2,
              "version_minor": 0
            },
            "text/plain": [
              "Generating test split:   0%|          | 0/5427 [00:00<?, ? examples/s]"
            ]
          },
          "metadata": {}
        },
        {
          "output_type": "stream",
          "name": "stdout",
          "text": [
            "Dataset parquet downloaded and prepared to /home/seara/.cache/huggingface/datasets/seara___parquet/seara--ru-go-emotions-010f1c10233a04e9/0.0.0/2a3b91fbd88a2c90d1dbbb32b460cf621d31bd5b05b934492fdef7d8d6f236ec. Subsequent calls will reuse this data.\n"
          ]
        },
        {
          "output_type": "display_data",
          "data": {
            "application/vnd.jupyter.widget-view+json": {
              "model_id": "e388e02af8544a6e843e4422aeb8ef60",
              "version_major": 2,
              "version_minor": 0
            },
            "text/plain": [
              "  0%|          | 0/3 [00:00<?, ?it/s]"
            ]
          },
          "metadata": {}
        }
      ],
      "execution_count": null
    },
    {
      "metadata": {},
      "source": [
        "len(ru_go_emotions[\"train\"].features[\"labels\"].feature.names)"
      ],
      "cell_type": "code",
      "outputs": [
        {
          "output_type": "execute_result",
          "data": {
            "text/plain": [
              "28"
            ]
          },
          "metadata": {},
          "execution_count": 10
        }
      ],
      "execution_count": null
    },
    {
      "metadata": {},
      "source": [
        "dict(enumerate(ru_go_emotions[\"train\"].features[\"labels\"].feature.names))"
      ],
      "cell_type": "code",
      "outputs": [
        {
          "output_type": "execute_result",
          "data": {
            "text/plain": [
              "{0: 'admiration',\n",
              " 1: 'amusement',\n",
              " 2: 'anger',\n",
              " 3: 'annoyance',\n",
              " 4: 'approval',\n",
              " 5: 'caring',\n",
              " 6: 'confusion',\n",
              " 7: 'curiosity',\n",
              " 8: 'desire',\n",
              " 9: 'disappointment',\n",
              " 10: 'disapproval',\n",
              " 11: 'disgust',\n",
              " 12: 'embarrassment',\n",
              " 13: 'excitement',\n",
              " 14: 'fear',\n",
              " 15: 'gratitude',\n",
              " 16: 'grief',\n",
              " 17: 'joy',\n",
              " 18: 'love',\n",
              " 19: 'nervousness',\n",
              " 20: 'optimism',\n",
              " 21: 'pride',\n",
              " 22: 'realization',\n",
              " 23: 'relief',\n",
              " 24: 'remorse',\n",
              " 25: 'sadness',\n",
              " 26: 'surprise',\n",
              " 27: 'neutral'}"
            ]
          },
          "metadata": {},
          "execution_count": 12
        }
      ],
      "execution_count": null
    }
  ]
}

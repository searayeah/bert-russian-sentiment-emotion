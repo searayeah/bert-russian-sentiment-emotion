{
 "nbformat": 4,
 "nbformat_minor": 0,
 "metadata": {},
 "cells": [
  {
   "metadata": {},
   "source": [
    "!wget https://otecmicro.s-ul.eu/"
   ],
   "cell_type": "code",
   "outputs": [],
   "execution_count": null
  },
  {
   "metadata": {},
   "source": [
    "!unzip "
   ],
   "cell_type": "code",
   "outputs": [],
   "execution_count": null
  },
  {
   "metadata": {},
   "source": [
    "!pip install transformers datasets wandb sentencepiece hydra-core pandarallel -qqq"
   ],
   "cell_type": "code",
   "outputs": [],
   "execution_count": null
  },
  {
   "metadata": {},
   "source": [
    "import wandb\n",
    "from huggingface_hub import login, notebook_login\n",
    "\n",
    "wandb.login(key=\"\")"
   ],
   "cell_type": "code",
   "outputs": [],
   "execution_count": null
  },
  {
   "metadata": {},
   "source": [
    "login(\"\", True)"
   ],
   "cell_type": "code",
   "outputs": [],
   "execution_count": null
  },
  {
   "metadata": {},
   "source": [
    "!python main.py model=rubert-base-cased dataset=russian-sentiment trainer.num_epochs=2"
   ],
   "cell_type": "code",
   "outputs": [],
   "execution_count": null
  },
  {
   "metadata": {},
   "source": [
    "!nvidia-smi"
   ],
   "cell_type": "code",
   "outputs": [],
   "execution_count": null
  },
  {
   "metadata": {},
   "source": [],
   "cell_type": "code",
   "outputs": [],
   "execution_count": null
  }
 ]
}

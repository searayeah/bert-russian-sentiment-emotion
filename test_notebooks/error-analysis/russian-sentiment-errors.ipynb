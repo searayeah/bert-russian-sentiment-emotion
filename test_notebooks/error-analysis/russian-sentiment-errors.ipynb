{
 "nbformat": 4,
 "nbformat_minor": 2,
 "metadata": {},
 "cells": [
  {
   "metadata": {},
   "source": [
    "import numpy as np\n",
    "import pandas as pd\n",
    "from datasets import load_dataset\n",
    "from sklearn.metrics import f1_score\n",
    "from src.data.ru_go_emotions import get_dataloaders\n",
    "from src.data.russian_sentiment import *\n",
    "from src.model.models import get_model\n",
    "from src.trainer.eval import eval\n",
    "from transformers import pipeline\n",
    "\n",
    "pd.options.display.max_colwidth = 80"
   ],
   "cell_type": "code",
   "outputs": [],
   "execution_count": null
  },
  {
   "metadata": {},
   "source": [
    "# pipe = pipeline(\n",
    "#     model=\"seara/rubert-tiny2-russian-sentiment\",\n",
    "#     device=0,\n",
    "# )\n",
    "pipe = pipeline(\n",
    "    model=\"seara/rubert-tiny2-russian-sentiment\",\n",
    "    device=0,\n",
    ")\n",
    "\n",
    "# pipe = pipeline(\n",
    "#     model=\"sismetanin/rubert-ru-sentiment-liniscrowd\",\n",
    "#     device=0,\n",
    "# )"
   ],
   "cell_type": "code",
   "outputs": [],
   "execution_count": null
  },
  {
   "metadata": {},
   "source": [
    "_, _, russian_sentiment_test = get_russian_sentiment_all()"
   ],
   "cell_type": "code",
   "outputs": [
    {
     "output_type": "stream",
     "name": "stdout",
     "text": [
      "INFO: Pandarallel will run on 8 workers.\n",
      "INFO: Pandarallel will use Memory file system to transfer data between the main process and workers.\n"
     ]
    },
    {
     "output_type": "display_data",
     "data": {
      "application/vnd.jupyter.widget-view+json": {
       "model_id": "9f7e8c3204784cd2ab2a5304ad8677ce",
       "version_major": 2,
       "version_minor": 0
      },
      "text/plain": [
       "VBox(children=(HBox(children=(IntProgress(value=0, description='0.00%', max=7393), Label(value='0 / 7393'))), …"
      ]
     },
     "metadata": {}
    },
    {
     "output_type": "stream",
     "name": "stdout",
     "text": [
      "Loaded Linis: train 4694, val 586, test 586\n",
      "Loaded RuReviews: train 72000, val 9000, test 9000\n",
      "Loaded RuSentiment: train 18969, val 2095, test 2214\n",
      "Loaded Kaggle: train 6611, val 826, test 826\n",
      "Loaded all datasets: train 102274, val 12507, test 12626\n"
     ]
    }
   ],
   "execution_count": null
  },
  {
   "metadata": {},
   "source": [
    "def get_answers(dataset):\n",
    "    answers = pipe(\n",
    "        dataset[\"text\"].to_list(),\n",
    "        truncation=True,\n",
    "        max_length=512,\n",
    "        batch_size=64,\n",
    "    )\n",
    "    true_answers = dataset[\"label\"]\n",
    "    processed_answers = [item[\"label\"] for item in answers]\n",
    "    return processed_answers, true_answers"
   ],
   "cell_type": "code",
   "outputs": [],
   "execution_count": null
  },
  {
   "metadata": {},
   "source": [
    "processed_answers, true_answers = get_answers(russian_sentiment_test)"
   ],
   "cell_type": "code",
   "outputs": [],
   "execution_count": null
  },
  {
   "metadata": {},
   "source": [
    "errors = pd.DataFrame(\n",
    "    {\n",
    "        \"text\": russian_sentiment_test[\"text\"].to_list(),\n",
    "        \"Предсказание\": processed_answers,\n",
    "        \"Факт\": true_answers,\n",
    "    }\n",
    ")\n",
    "errors[\"length\"] = errors[\"text\"].apply(len)"
   ],
   "cell_type": "code",
   "outputs": [],
   "execution_count": null
  },
  {
   "metadata": {},
   "source": [
    "errors[(errors[\"Факт\"] != errors[\"Предсказание\"]) & (errors[\"length\"] > 70)].sample(5)"
   ],
   "cell_type": "code",
   "outputs": [
    {
     "output_type": "execute_result",
     "data": {
      "text/html": [
       "<div>\n",
       "<style scoped>\n",
       "    .dataframe tbody tr th:only-of-type {\n",
       "        vertical-align: middle;\n",
       "    }\n",
       "\n",
       "    .dataframe tbody tr th {\n",
       "        vertical-align: top;\n",
       "    }\n",
       "\n",
       "    .dataframe thead th {\n",
       "        text-align: right;\n",
       "    }\n",
       "</style>\n",
       "<table border=\"1\" class=\"dataframe\">\n",
       "  <thead>\n",
       "    <tr style=\"text-align: right;\">\n",
       "      <th></th>\n",
       "      <th>text</th>\n",
       "      <th>Предсказание</th>\n",
       "      <th>Факт</th>\n",
       "      <th>length</th>\n",
       "    </tr>\n",
       "  </thead>\n",
       "  <tbody>\n",
       "    <tr>\n",
       "      <th>330</th>\n",
       "      <td>разделены, агащазз! аж полтора метра пространства.  Во-первых, разделение за...</td>\n",
       "      <td>neutral</td>\n",
       "      <td>negative</td>\n",
       "      <td>700</td>\n",
       "    </tr>\n",
       "    <tr>\n",
       "      <th>344</th>\n",
       "      <td>которые тот в одном из ресторанов вручил оперативникам 39-го отдела Управлен...</td>\n",
       "      <td>negative</td>\n",
       "      <td>neutral</td>\n",
       "      <td>783</td>\n",
       "    </tr>\n",
       "    <tr>\n",
       "      <th>7678</th>\n",
       "      <td>Товар пришёл за месяц, цвет немного отличается, более к оранжевому что ли вн...</td>\n",
       "      <td>negative</td>\n",
       "      <td>neutral</td>\n",
       "      <td>274</td>\n",
       "    </tr>\n",
       "    <tr>\n",
       "      <th>3754</th>\n",
       "      <td>Носки я так и не получила, идут с апреля, заказала 2 пары, открыла спор, вер...</td>\n",
       "      <td>neutral</td>\n",
       "      <td>negative</td>\n",
       "      <td>159</td>\n",
       "    </tr>\n",
       "    <tr>\n",
       "      <th>10250</th>\n",
       "      <td>Ключ от моего сердца Ты уже не получишь. Ты для меня бывший, Я не хочу больш...</td>\n",
       "      <td>neutral</td>\n",
       "      <td>negative</td>\n",
       "      <td>152</td>\n",
       "    </tr>\n",
       "  </tbody>\n",
       "</table>\n",
       "</div>"
      ],
      "text/plain": [
       "                                                                                  text  \\\n",
       "330    разделены, агащазз! аж полтора метра пространства.  Во-первых, разделение за...   \n",
       "344    которые тот в одном из ресторанов вручил оперативникам 39-го отдела Управлен...   \n",
       "7678   Товар пришёл за месяц, цвет немного отличается, более к оранжевому что ли вн...   \n",
       "3754   Носки я так и не получила, идут с апреля, заказала 2 пары, открыла спор, вер...   \n",
       "10250  Ключ от моего сердца Ты уже не получишь. Ты для меня бывший, Я не хочу больш...   \n",
       "\n",
       "      Предсказание      Факт  length  \n",
       "330        neutral  negative     700  \n",
       "344       negative   neutral     783  \n",
       "7678      negative   neutral     274  \n",
       "3754       neutral  negative     159  \n",
       "10250      neutral  negative     152  "
      ]
     },
     "metadata": {},
     "execution_count": 11
    }
   ],
   "execution_count": null
  },
  {
   "metadata": {},
   "source": [
    "_, _, rusent_test = get_rusentiment()\n",
    "_, _, kaggle_test = get_kaggle_russian_news()\n",
    "_, _, ru_reviews_test = get_rureviews()\n",
    "_, _, linis_crowd_test = get_linis_crowd()"
   ],
   "cell_type": "code",
   "outputs": [
    {
     "output_type": "stream",
     "name": "stdout",
     "text": [
      "Loaded RuSentiment: train 18969, val 2095, test 2214\n",
      "Loaded Kaggle: train 6611, val 826, test 826\n",
      "Loaded RuReviews: train 72000, val 9000, test 9000\n",
      "INFO: Pandarallel will run on 8 workers.\n",
      "INFO: Pandarallel will use Memory file system to transfer data between the main process and workers.\n"
     ]
    },
    {
     "output_type": "display_data",
     "data": {
      "application/vnd.jupyter.widget-view+json": {
       "model_id": "2acd36690ba74118a7c7e0f6099d1fe1",
       "version_major": 2,
       "version_minor": 0
      },
      "text/plain": [
       "VBox(children=(HBox(children=(IntProgress(value=0, description='0.00%', max=7393), Label(value='0 / 7393'))), …"
      ]
     },
     "metadata": {}
    },
    {
     "output_type": "stream",
     "name": "stdout",
     "text": [
      "Loaded Linis: train 4694, val 586, test 586\n"
     ]
    }
   ],
   "execution_count": null
  },
  {
   "metadata": {},
   "source": [
    "processed_answers, true_answers = get_answers(rusent_test)\n",
    "print([f1_score(true_answers, processed_answers, average=x) for x in [\"micro\", \"macro\", \"weighted\"]])\n",
    "# rubert base 512 max length [0.7854561878952122, 0.7421749036549401, 0.7899501191412032]"
   ],
   "cell_type": "code",
   "outputs": [
    {
     "output_type": "stream",
     "name": "stdout",
     "text": [
      "[0.7443541102077688, 0.6757648775672119, 0.7460020442809914]\n"
     ]
    }
   ],
   "execution_count": null
  },
  {
   "metadata": {},
   "source": [
    "processed_answers, true_answers = get_answers(kaggle_test)\n",
    "print([f1_score(true_answers, processed_answers, average=x) for x in [\"micro\", \"macro\", \"weighted\"]])\n",
    "# rubert base 512 max length [0.6828087167070218, 0.6855471137727359, 0.682538032864983]\n",
    "# rubert base 256 max length [0.6888619854721549, 0.6903670682028832, 0.6884098926374688]"
   ],
   "cell_type": "code",
   "outputs": [
    {
     "output_type": "stream",
     "name": "stdout",
     "text": [
      "[0.6694915254237288, 0.6634355597666822, 0.6694778038003001]\n"
     ]
    }
   ],
   "execution_count": null
  },
  {
   "metadata": {},
   "source": [
    "processed_answers, true_answers = get_answers(ru_reviews_test)\n",
    "print([f1_score(true_answers, processed_answers, average=x) for x in [\"micro\", \"macro\", \"weighted\"]])\n",
    "# rubert base 512 max length [0.7765555555555556, 0.7791678279730907, 0.7785926751117154]\n",
    "# rubert base 256 max length [0.7765555555555556, 0.7791678279730907, 0.7785926751117154]"
   ],
   "cell_type": "code",
   "outputs": [
    {
     "output_type": "stream",
     "name": "stdout",
     "text": [
      "[0.7672222222222224, 0.7697909701964688, 0.7692519416443958]\n"
     ]
    }
   ],
   "execution_count": null
  },
  {
   "metadata": {},
   "source": [
    "processed_answers, true_answers = get_answers(linis_crowd_test)\n",
    "print([f1_score(true_answers, processed_answers, average=x) for x in [\"micro\", \"macro\", \"weighted\"]])\n",
    "# rubert base 512 max length [0.6245733788395904, 0.48631446965682823, 0.6139836927631701]\n",
    "# rubert base 256 max length [0.621160409556314, 0.48313649126484587, 0.6107666718246818]"
   ],
   "cell_type": "code",
   "outputs": [
    {
     "output_type": "stream",
     "name": "stdout",
     "text": [
      "[0.6467576791808873, 0.5346158182823235, 0.6426316575413891]\n"
     ]
    }
   ],
   "execution_count": null
  },
  {
   "metadata": {},
   "source": [
    "# mapping = {\"LABEL_2\": \"positive\", \"LABEL_1\": \"neutral\", \"LABEL_0\": \"negative\"}\n",
    "# processed_answers = [mapping[x] for x in processed_answers]"
   ],
   "cell_type": "code",
   "outputs": [],
   "execution_count": null
  }
 ]
}

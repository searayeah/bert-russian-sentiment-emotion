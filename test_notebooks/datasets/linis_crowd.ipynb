{
 "nbformat": 4,
 "nbformat_minor": 2,
 "metadata": {},
 "cells": [
  {
   "metadata": {},
   "source": [
    "import pandas as pd\n",
    "from datasets import Dataset, DatasetDict\n",
    "from pandarallel import pandarallel\n",
    "from sklearn.model_selection import train_test_split\n",
    "from src.utils.utils import my_most_common, sentiment_postprocessor, sentiment_preprocessor\n",
    "from torch.utils.data import DataLoader\n",
    "from transformers import DataCollatorWithPadding\n",
    "\n",
    "RANDOM_STATE = 42\n",
    "PANDARALLEL_WORKERS = 8\n",
    "\n",
    "\n",
    "def sentiment_preprocessor(label):\n",
    "    if label >= 1:\n",
    "        return \"позитив\"\n",
    "    elif label == 0:\n",
    "        return \"нейтральность\"\n",
    "    elif label <= -1:\n",
    "        return \"негатив\""
   ],
   "cell_type": "code",
   "outputs": [],
   "execution_count": null
  },
  {
   "metadata": {},
   "source": [
    "def get_linis_crowd():\n",
    "    linis_crowd_2015_path = \"data/linis-crowd-2015/text_rating_final.xlsx\"\n",
    "    linis_crowd_2016_path = \"data/linis-crowd-2016/doc_comment_summary.xlsx\"\n",
    "    column_names = [\"text\", \"label\"]\n",
    "\n",
    "    linis_crowd_2016 = pd.read_excel(linis_crowd_2016_path, header=None, names=column_names).dropna()\n",
    "    linis_crowd_2016 = linis_crowd_2016[linis_crowd_2016[\"label\"].isin([-2, -1, 0, 1, 2])].copy()\n",
    "\n",
    "    linis_crowd_2016[\"label\"] = linis_crowd_2016[\"label\"].apply(sentiment_preprocessor)\n",
    "    linis_crowd_2016[\"text\"] = linis_crowd_2016[\"text\"].apply(lambda x: x.replace(\"\\n\", \" \").replace(\"\\t\", \"\"))\n",
    "\n",
    "    linis_crowd_2015 = pd.read_excel(linis_crowd_2015_path, header=None, names=column_names).dropna()\n",
    "    linis_crowd_2015 = linis_crowd_2015[linis_crowd_2015[\"label\"].isin([-2, -1, 0, 1, 2])].copy()\n",
    "\n",
    "    linis_crowd_2015[\"label\"] = linis_crowd_2015[\"label\"].apply(sentiment_preprocessor)\n",
    "    linis_crowd_2015[\"text\"] = linis_crowd_2015[\"text\"].apply(lambda x: x.replace(\"\\n\", \" \").replace(\"\\t\", \"\"))\n",
    "\n",
    "    linis_crowd = pd.concat([linis_crowd_2015, linis_crowd_2016], ignore_index=True)\n",
    "\n",
    "    pandarallel.initialize(progress_bar=True, nb_workers=PANDARALLEL_WORKERS)\n",
    "\n",
    "    linis_crowd[\"occur\"] = linis_crowd[\"text\"].parallel_apply(lambda x: (linis_crowd[\"text\"] == x).sum())\n",
    "\n",
    "    processed_linis_crowd = linis_crowd[linis_crowd[\"occur\"] >= 3]\n",
    "\n",
    "    unique_mapping = {}\n",
    "\n",
    "    for index, row in processed_linis_crowd.iterrows():\n",
    "        if row[\"text\"] in unique_mapping:\n",
    "            unique_mapping[row[\"text\"]].append(row[\"label\"])\n",
    "        else:\n",
    "            unique_mapping[row[\"text\"]] = [row[\"label\"]]\n",
    "\n",
    "    final_df_map = {}\n",
    "\n",
    "    for key in unique_mapping:\n",
    "        most_common = my_most_common(unique_mapping[key])\n",
    "        if most_common is not False:\n",
    "            final_df_map[key] = most_common\n",
    "\n",
    "    final_linis_crowd = pd.DataFrame(final_df_map.items(), columns=column_names)\n",
    "    return final_linis_crowd"
   ],
   "cell_type": "code",
   "outputs": [],
   "execution_count": null
  },
  {
   "metadata": {},
   "source": [
    "linis_crowd = get_linis_crowd()"
   ],
   "cell_type": "code",
   "outputs": [
    {
     "output_type": "stream",
     "name": "stdout",
     "text": [
      "INFO: Pandarallel will run on 8 workers.\n",
      "INFO: Pandarallel will use Memory file system to transfer data between the main process and workers.\n"
     ]
    },
    {
     "output_type": "display_data",
     "data": {
      "application/vnd.jupyter.widget-view+json": {
       "model_id": "b0f909951a3845278f894a949ed373ec",
       "version_major": 2,
       "version_minor": 0
      },
      "text/plain": [
       "VBox(children=(HBox(children=(IntProgress(value=0, description='0.00%', max=7393), Label(value='0 / 7393'))), …"
      ]
     },
     "metadata": {}
    }
   ],
   "execution_count": null
  },
  {
   "metadata": {},
   "source": [
    "linis_crowd[\"text\"]"
   ],
   "cell_type": "code",
   "outputs": [
    {
     "output_type": "execute_result",
     "data": {
      "text/plain": [
       "0       Не рациональная системность, а интуитивный поз...\n",
       "1       Когда возникнут трудности, они тебе не помогут...\n",
       "2       Кривая национализация это политический компром...\n",
       "3       Такой вид биологического оружия не действует н...\n",
       "4       В Эль-Кусейре /к западу от Хомса/ сирийские по...\n",
       "                              ...                        \n",
       "5861    Зачем разглагольствовать на тему как сделано в...\n",
       "5862    Самые умные и те, кому надо влезть быстрее все...\n",
       "5863    А нет желания поднять вопрос о нарушении УК де...\n",
       "5864    html  Реальный шанс выкарабкаться из дерьма дл...\n",
       "5865    т Януковича спокойно избавится в любой момент ...\n",
       "Name: text, Length: 5866, dtype: object"
      ]
     },
     "metadata": {},
     "execution_count": 7
    }
   ],
   "execution_count": null
  },
  {
   "metadata": {},
   "source": [
    "pd.options.display.max_colwidth = 80"
   ],
   "cell_type": "code",
   "outputs": [],
   "execution_count": null
  },
  {
   "metadata": {},
   "source": [
    "linis_crowd.sample(3)"
   ],
   "cell_type": "code",
   "outputs": [
    {
     "output_type": "execute_result",
     "data": {
      "text/html": [
       "<div>\n",
       "<style scoped>\n",
       "    .dataframe tbody tr th:only-of-type {\n",
       "        vertical-align: middle;\n",
       "    }\n",
       "\n",
       "    .dataframe tbody tr th {\n",
       "        vertical-align: top;\n",
       "    }\n",
       "\n",
       "    .dataframe thead th {\n",
       "        text-align: right;\n",
       "    }\n",
       "</style>\n",
       "<table border=\"1\" class=\"dataframe\">\n",
       "  <thead>\n",
       "    <tr style=\"text-align: right;\">\n",
       "      <th></th>\n",
       "      <th>text</th>\n",
       "      <th>label</th>\n",
       "    </tr>\n",
       "  </thead>\n",
       "  <tbody>\n",
       "    <tr>\n",
       "      <th>944</th>\n",
       "      <td>флагманский корабль ВМС Азербайджана СКР G-121 Гусары, бывший СКР проекта 15...</td>\n",
       "      <td>нейтральность</td>\n",
       "    </tr>\n",
       "    <tr>\n",
       "      <th>2652</th>\n",
       "      <td>К назначению пребиотиков в развитых странах относятся с осторожностью. 4. Ва...</td>\n",
       "      <td>негатив</td>\n",
       "    </tr>\n",
       "    <tr>\n",
       "      <th>5654</th>\n",
       "      <td>атрешек :   ну да, древности же :-)  World Wide Web :-)  ну да, ну да ...  н...</td>\n",
       "      <td>позитив</td>\n",
       "    </tr>\n",
       "  </tbody>\n",
       "</table>\n",
       "</div>"
      ],
      "text/plain": [
       "                                                                                 text  \\\n",
       "944   флагманский корабль ВМС Азербайджана СКР G-121 Гусары, бывший СКР проекта 15...   \n",
       "2652  К назначению пребиотиков в развитых странах относятся с осторожностью. 4. Ва...   \n",
       "5654  атрешек :   ну да, древности же :-)  World Wide Web :-)  ну да, ну да ...  н...   \n",
       "\n",
       "              label  \n",
       "944   нейтральность  \n",
       "2652        негатив  \n",
       "5654        позитив  "
      ]
     },
     "metadata": {},
     "execution_count": 10
    }
   ],
   "execution_count": null
  },
  {
   "metadata": {},
   "source": [
    "linis_crowd[\"Length words\"] = linis_crowd[\"text\"].apply(lambda x: len(x.split()))\n",
    "linis_crowd[\"Length\"] = linis_crowd[\"text\"].apply(len)"
   ],
   "cell_type": "code",
   "outputs": [],
   "execution_count": null
  },
  {
   "metadata": {},
   "source": [
    "linis_crowd[\"Length words\"].mean()"
   ],
   "cell_type": "code",
   "outputs": [
    {
     "output_type": "execute_result",
     "data": {
      "text/plain": [
       "149.0487555404023"
      ]
     },
     "metadata": {},
     "execution_count": 12
    }
   ],
   "execution_count": null
  },
  {
   "metadata": {},
   "source": [
    "linis_crowd[\"Length\"].mean()"
   ],
   "cell_type": "code",
   "outputs": [
    {
     "output_type": "execute_result",
     "data": {
      "text/plain": [
       "1073.2083191271736"
      ]
     },
     "metadata": {},
     "execution_count": 13
    }
   ],
   "execution_count": null
  },
  {
   "metadata": {},
   "source": [
    "len(linis_crowd)"
   ],
   "cell_type": "code",
   "outputs": [
    {
     "output_type": "execute_result",
     "data": {
      "text/plain": [
       "5866"
      ]
     },
     "metadata": {},
     "execution_count": 14
    }
   ],
   "execution_count": null
  },
  {
   "metadata": {},
   "source": [
    "linis_crowd.groupby(\"label\").sample(2)[[\"text\", \"label\"]]"
   ],
   "cell_type": "code",
   "outputs": [
    {
     "output_type": "execute_result",
     "data": {
      "text/html": [
       "<div>\n",
       "<style scoped>\n",
       "    .dataframe tbody tr th:only-of-type {\n",
       "        vertical-align: middle;\n",
       "    }\n",
       "\n",
       "    .dataframe tbody tr th {\n",
       "        vertical-align: top;\n",
       "    }\n",
       "\n",
       "    .dataframe thead th {\n",
       "        text-align: right;\n",
       "    }\n",
       "</style>\n",
       "<table border=\"1\" class=\"dataframe\">\n",
       "  <thead>\n",
       "    <tr style=\"text-align: right;\">\n",
       "      <th></th>\n",
       "      <th>text</th>\n",
       "      <th>label</th>\n",
       "    </tr>\n",
       "  </thead>\n",
       "  <tbody>\n",
       "    <tr>\n",
       "      <th>2165</th>\n",
       "      <td>18 марта в Стамбуле, как мы уже сообщали, состоялись так называемые выборы Н...</td>\n",
       "      <td>негатив</td>\n",
       "    </tr>\n",
       "    <tr>\n",
       "      <th>829</th>\n",
       "      <td>Не важно, сколькими духовными реализациями мы обладаем: до тех пор, пока в н...</td>\n",
       "      <td>негатив</td>\n",
       "    </tr>\n",
       "    <tr>\n",
       "      <th>4896</th>\n",
       "      <td>Смотрю. Потому и вопрос - что время пришло  Лунтика в расход?  Я.Надеюсь что...</td>\n",
       "      <td>нейтральность</td>\n",
       "    </tr>\n",
       "    <tr>\n",
       "      <th>5527</th>\n",
       "      <td>если лицо отказавшееся от полномочий, тут же наделяется этими полномочиями с...</td>\n",
       "      <td>нейтральность</td>\n",
       "    </tr>\n",
       "    <tr>\n",
       "      <th>1183</th>\n",
       "      <td>Глубокую рецитации мантры вы завершаете кратким подношением и восхвалением (...</td>\n",
       "      <td>позитив</td>\n",
       "    </tr>\n",
       "    <tr>\n",
       "      <th>1711</th>\n",
       "      <td>Как бы вы прокомментировали это мнение? Доктор Лайтнер: Да, существует миф с...</td>\n",
       "      <td>позитив</td>\n",
       "    </tr>\n",
       "  </tbody>\n",
       "</table>\n",
       "</div>"
      ],
      "text/plain": [
       "                                                                                 text  \\\n",
       "2165  18 марта в Стамбуле, как мы уже сообщали, состоялись так называемые выборы Н...   \n",
       "829   Не важно, сколькими духовными реализациями мы обладаем: до тех пор, пока в н...   \n",
       "4896  Смотрю. Потому и вопрос - что время пришло  Лунтика в расход?  Я.Надеюсь что...   \n",
       "5527  если лицо отказавшееся от полномочий, тут же наделяется этими полномочиями с...   \n",
       "1183  Глубокую рецитации мантры вы завершаете кратким подношением и восхвалением (...   \n",
       "1711  Как бы вы прокомментировали это мнение? Доктор Лайтнер: Да, существует миф с...   \n",
       "\n",
       "              label  \n",
       "2165        негатив  \n",
       "829         негатив  \n",
       "4896  нейтральность  \n",
       "5527  нейтральность  \n",
       "1183        позитив  \n",
       "1711        позитив  "
      ]
     },
     "metadata": {},
     "execution_count": 17
    }
   ],
   "execution_count": null
  },
  {
   "metadata": {},
   "source": [
    "linis_crowd_2016[\"label\"]"
   ],
   "cell_type": "code",
   "outputs": [
    {
     "output_type": "execute_result",
     "data": {
      "text/plain": [
       "0              негатив\n",
       "1              негатив\n",
       "2              негатив\n",
       "3        нейтральность\n",
       "4        нейтральность\n",
       "             ...      \n",
       "26868          негатив\n",
       "26869          негатив\n",
       "26870    нейтральность\n",
       "26871    нейтральность\n",
       "26872    нейтральность\n",
       "Name: label, Length: 26752, dtype: object"
      ]
     },
     "metadata": {},
     "execution_count": 11
    }
   ],
   "execution_count": null
  },
  {
   "metadata": {},
   "source": [
    "linis_crowd[\"label\"].value_counts().plot.barh(xlabel=\"Количество элементов\", ylabel=\"Класс\")"
   ],
   "cell_type": "code",
   "outputs": [
    {
     "output_type": "execute_result",
     "data": {
      "text/plain": [
       "<AxesSubplot: xlabel='Количество элементов', ylabel='Класс'>"
      ]
     },
     "metadata": {},
     "execution_count": 18
    },
    {
     "output_type": "display_data",
     "data": {
      "image/png": "[encoded data removed]",
      "text/plain": [
       "<Figure size 640x480 with 1 Axes>"
      ]
     },
     "metadata": {}
    }
   ],
   "execution_count": null
  },
  {
   "metadata": {},
   "source": [],
   "cell_type": "code",
   "outputs": [],
   "execution_count": null
  }
 ]
}

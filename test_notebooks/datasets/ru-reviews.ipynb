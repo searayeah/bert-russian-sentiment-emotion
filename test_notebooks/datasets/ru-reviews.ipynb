{
 "nbformat": 4,
 "nbformat_minor": 2,
 "metadata": {},
 "cells": [
  {
   "metadata": {},
   "source": [
    "import pandas as pd\n",
    "from datasets import Dataset, DatasetDict\n",
    "from sklearn.model_selection import train_test_split\n",
    "from src.utils.utils import sentiment_postprocessor, sentiment_preprocessor\n",
    "from torch.utils.data import DataLoader\n",
    "from transformers import DataCollatorWithPadding\n",
    "\n",
    "RANDOM_STATE = 42\n",
    "\n",
    "\n",
    "def sentiment_preprocessor(label):\n",
    "    if label == \"positive\":\n",
    "        return \"позитив\"\n",
    "    elif label == \"neautral\" or label == \"neutral\":\n",
    "        return \"нейтральность\"\n",
    "    elif label == \"negative\":\n",
    "        return \"негатив\""
   ],
   "cell_type": "code",
   "outputs": [],
   "execution_count": null
  },
  {
   "metadata": {},
   "source": [
    "ru_reviews_path = \"data/ru-reviews/women-clothing-accessories.3-class.balanced.csv\"\n",
    "column_names = [\"text\", \"label\"]\n",
    "\n",
    "ru_reviews = pd.read_csv(ru_reviews_path, sep=\"\\t\", names=column_names, skiprows=1)"
   ],
   "cell_type": "code",
   "outputs": [],
   "execution_count": null
  },
  {
   "metadata": {},
   "source": [
    "ru_reviews[\"label\"] = ru_reviews[\"label\"].apply(lambda x: \"neutral\" if x == \"neautral\" else x)\n",
    "ru_reviews[\"text\"] = ru_reviews[\"text\"].apply(lambda x: x.replace(\"\\n\", \" \").replace(\"\\t\", \"\"))"
   ],
   "cell_type": "code",
   "outputs": [],
   "execution_count": null
  },
  {
   "metadata": {},
   "source": [
    "pd.options.display.max_colwidth = 80"
   ],
   "cell_type": "code",
   "outputs": [],
   "execution_count": null
  },
  {
   "metadata": {},
   "source": [
    "ru_reviews.sample(3)"
   ],
   "cell_type": "code",
   "outputs": [
    {
     "output_type": "execute_result",
     "data": {
      "text/html": [
       "<div>\n",
       "<style scoped>\n",
       "    .dataframe tbody tr th:only-of-type {\n",
       "        vertical-align: middle;\n",
       "    }\n",
       "\n",
       "    .dataframe tbody tr th {\n",
       "        vertical-align: top;\n",
       "    }\n",
       "\n",
       "    .dataframe thead th {\n",
       "        text-align: right;\n",
       "    }\n",
       "</style>\n",
       "<table border=\"1\" class=\"dataframe\">\n",
       "  <thead>\n",
       "    <tr style=\"text-align: right;\">\n",
       "      <th></th>\n",
       "      <th>text</th>\n",
       "      <th>label</th>\n",
       "    </tr>\n",
       "  </thead>\n",
       "  <tbody>\n",
       "    <tr>\n",
       "      <th>1511</th>\n",
       "      <td>может мне не повезло... но это платье носить не буду, очень плохое качество....</td>\n",
       "      <td>negative</td>\n",
       "    </tr>\n",
       "    <tr>\n",
       "      <th>55139</th>\n",
       "      <td>заказала розовую и чёрную пижамы.К сожалению,от чёрной все простыни стали се...</td>\n",
       "      <td>neutral</td>\n",
       "    </tr>\n",
       "    <tr>\n",
       "      <th>61268</th>\n",
       "      <td>Отличный джемпер. Швы ровные. Правда не бархатный на вид, как на фото, но то...</td>\n",
       "      <td>positive</td>\n",
       "    </tr>\n",
       "  </tbody>\n",
       "</table>\n",
       "</div>"
      ],
      "text/plain": [
       "                                                                                  text  \\\n",
       "1511   может мне не повезло... но это платье носить не буду, очень плохое качество....   \n",
       "55139  заказала розовую и чёрную пижамы.К сожалению,от чёрной все простыни стали се...   \n",
       "61268  Отличный джемпер. Швы ровные. Правда не бархатный на вид, как на фото, но то...   \n",
       "\n",
       "          label  \n",
       "1511   negative  \n",
       "55139   neutral  \n",
       "61268  positive  "
      ]
     },
     "metadata": {},
     "execution_count": 8
    }
   ],
   "execution_count": null
  },
  {
   "metadata": {},
   "source": [
    "ru_reviews[\"Length words\"] = ru_reviews[\"text\"].apply(lambda x: len(x.split()))\n",
    "ru_reviews[\"Length\"] = ru_reviews[\"text\"].apply(len)"
   ],
   "cell_type": "code",
   "outputs": [],
   "execution_count": null
  },
  {
   "metadata": {},
   "source": [
    "ru_reviews[\"Length words\"].mean()"
   ],
   "cell_type": "code",
   "outputs": [
    {
     "output_type": "execute_result",
     "data": {
      "text/plain": [
       "20.01108888888889"
      ]
     },
     "metadata": {},
     "execution_count": 10
    }
   ],
   "execution_count": null
  },
  {
   "metadata": {},
   "source": [
    "ru_reviews[\"Length\"].mean()"
   ],
   "cell_type": "code",
   "outputs": [
    {
     "output_type": "execute_result",
     "data": {
      "text/plain": [
       "130.06925555555554"
      ]
     },
     "metadata": {},
     "execution_count": 11
    }
   ],
   "execution_count": null
  },
  {
   "metadata": {},
   "source": [
    "ru_reviews.loc[5697]"
   ],
   "cell_type": "code",
   "outputs": [
    {
     "output_type": "execute_result",
     "data": {
      "text/plain": [
       "text            Заказ не пришёл, УРОДЫ!!!!!\n",
       "label                               негатив\n",
       "Length words                              4\n",
       "Length                                   27\n",
       "Name: 5697, dtype: object"
      ]
     },
     "metadata": {},
     "execution_count": 15
    }
   ],
   "execution_count": null
  },
  {
   "metadata": {},
   "source": [
    "ru_reviews[\"label\"] = ru_reviews[\"label\"].apply(sentiment_preprocessor)"
   ],
   "cell_type": "code",
   "outputs": [],
   "execution_count": null
  },
  {
   "metadata": {},
   "source": [
    "ru_reviews.groupby(\"label\").sample(2)"
   ],
   "cell_type": "code",
   "outputs": [
    {
     "output_type": "execute_result",
     "data": {
      "text/html": [
       "<div>\n",
       "<style scoped>\n",
       "    .dataframe tbody tr th:only-of-type {\n",
       "        vertical-align: middle;\n",
       "    }\n",
       "\n",
       "    .dataframe tbody tr th {\n",
       "        vertical-align: top;\n",
       "    }\n",
       "\n",
       "    .dataframe thead th {\n",
       "        text-align: right;\n",
       "    }\n",
       "</style>\n",
       "<table border=\"1\" class=\"dataframe\">\n",
       "  <thead>\n",
       "    <tr style=\"text-align: right;\">\n",
       "      <th></th>\n",
       "      <th>text</th>\n",
       "      <th>label</th>\n",
       "      <th>Length words</th>\n",
       "      <th>Length</th>\n",
       "    </tr>\n",
       "  </thead>\n",
       "  <tbody>\n",
       "    <tr>\n",
       "      <th>5697</th>\n",
       "      <td>Заказ не пришёл, УРОДЫ!!!!!</td>\n",
       "      <td>негатив</td>\n",
       "      <td>4</td>\n",
       "      <td>27</td>\n",
       "    </tr>\n",
       "    <tr>\n",
       "      <th>23253</th>\n",
       "      <td>очень разочарована этим костюмом. продавец зачем то уточняет размер, обещает...</td>\n",
       "      <td>негатив</td>\n",
       "      <td>138</td>\n",
       "      <td>875</td>\n",
       "    </tr>\n",
       "    <tr>\n",
       "      <th>51223</th>\n",
       "      <td>РУБАШКА СШИТА МЕШКОВАТО,МАТЕРИАЛ СУХОЙ,ЖЕСТКИЙ, 5 XL НЕ СООТВЕТСТУЕТ 54     ...</td>\n",
       "      <td>нейтральность</td>\n",
       "      <td>38</td>\n",
       "      <td>263</td>\n",
       "    </tr>\n",
       "    <tr>\n",
       "      <th>37578</th>\n",
       "      <td>Пришла за 14 дней, но некоторых заклепок нету, и один из замков вставлен не ...</td>\n",
       "      <td>нейтральность</td>\n",
       "      <td>16</td>\n",
       "      <td>87</td>\n",
       "    </tr>\n",
       "    <tr>\n",
       "      <th>85782</th>\n",
       "      <td>Все отлично. Рисунок чуть темнее чем на картинке. Качество супер!</td>\n",
       "      <td>позитив</td>\n",
       "      <td>10</td>\n",
       "      <td>65</td>\n",
       "    </tr>\n",
       "    <tr>\n",
       "      <th>89315</th>\n",
       "      <td>Джинсы супер, уже 3тий раз заказываю у этого продовца, мне они очень нравитс...</td>\n",
       "      <td>позитив</td>\n",
       "      <td>40</td>\n",
       "      <td>232</td>\n",
       "    </tr>\n",
       "  </tbody>\n",
       "</table>\n",
       "</div>"
      ],
      "text/plain": [
       "                                                                                  text  \\\n",
       "5697                                                       Заказ не пришёл, УРОДЫ!!!!!   \n",
       "23253  очень разочарована этим костюмом. продавец зачем то уточняет размер, обещает...   \n",
       "51223  РУБАШКА СШИТА МЕШКОВАТО,МАТЕРИАЛ СУХОЙ,ЖЕСТКИЙ, 5 XL НЕ СООТВЕТСТУЕТ 54     ...   \n",
       "37578  Пришла за 14 дней, но некоторых заклепок нету, и один из замков вставлен не ...   \n",
       "85782                Все отлично. Рисунок чуть темнее чем на картинке. Качество супер!   \n",
       "89315  Джинсы супер, уже 3тий раз заказываю у этого продовца, мне они очень нравитс...   \n",
       "\n",
       "               label  Length words  Length  \n",
       "5697         негатив             4      27  \n",
       "23253        негатив           138     875  \n",
       "51223  нейтральность            38     263  \n",
       "37578  нейтральность            16      87  \n",
       "85782        позитив            10      65  \n",
       "89315        позитив            40     232  "
      ]
     },
     "metadata": {},
     "execution_count": 13
    }
   ],
   "execution_count": null
  },
  {
   "metadata": {},
   "source": [
    "ru_reviews[\"label\"].value_counts().plot.barh(xlabel=\"Количество элементов\", ylabel=\"Класс\")"
   ],
   "cell_type": "code",
   "outputs": [
    {
     "output_type": "execute_result",
     "data": {
      "text/plain": [
       "<AxesSubplot: xlabel='Количество элементов', ylabel='Класс'>"
      ]
     },
     "metadata": {},
     "execution_count": 11
    },
    {
     "output_type": "display_data",
     "data": {
      "image/png": "[encoded data removed]",
      "text/plain": [
       "<Figure size 640x480 with 1 Axes>"
      ]
     },
     "metadata": {}
    }
   ],
   "execution_count": null
  },
  {
   "metadata": {},
   "source": [
    "size = ru_reviews.shape[0]\n",
    "val_test_size = int(size * 0.1)\n",
    "\n",
    "ru_reviews_train_val, ru_reviews_test = train_test_split(\n",
    "    ru_reviews, test_size=val_test_size, shuffle=True, random_state=RANDOM_STATE\n",
    ")\n",
    "\n",
    "ru_reviews_train, ru_reviews_val = train_test_split(\n",
    "    ru_reviews_train_val,\n",
    "    test_size=val_test_size,\n",
    "    shuffle=True,\n",
    "    random_state=RANDOM_STATE,\n",
    ")\n",
    "\n",
    "print(\n",
    "    f\"Loaded RuReviews: train {ru_reviews_train.shape[0]},\",\n",
    "    f\"val {ru_reviews_val.shape[0]},\",\n",
    "    f\"test {ru_reviews_test.shape[0]}\",\n",
    ")"
   ],
   "cell_type": "code",
   "outputs": [
    {
     "output_type": "stream",
     "name": "stdout",
     "text": [
      "Loaded RuReviews: train 72000, val 9000, test 9000\n"
     ]
    }
   ],
   "execution_count": null
  }
 ]
}

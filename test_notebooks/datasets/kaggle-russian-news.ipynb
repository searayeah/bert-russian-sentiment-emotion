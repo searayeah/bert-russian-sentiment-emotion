{
  "nbformat": 4,
  "nbformat_minor": 2,
  "metadata": {},
  "cells": [
    {
      "metadata": {},
      "source": [
        "import pandas as pd\n",
        "from datasets import Dataset, DatasetDict\n",
        "from sklearn.model_selection import train_test_split\n",
        "from src.utils.utils import sentiment_postprocessor, sentiment_preprocessor\n",
        "from torch.utils.data import DataLoader\n",
        "from transformers import DataCollatorWithPadding\n",
        "\n",
        "RANDOM_STATE = 42\n",
        "\n",
        "\n",
        "def sentiment_preprocessor(label):\n",
        "    if label == \"positive\":\n",
        "        return \"\u043f\u043e\u0437\u0438\u0442\u0438\u0432\"\n",
        "    elif label == \"neautral\" or label == \"neutral\":\n",
        "        return \"\u043d\u0435\u0439\u0442\u0440\u0430\u043b\u044c\u043d\u043e\u0441\u0442\u044c\"\n",
        "    elif label == \"negative\":\n",
        "        return \"\u043d\u0435\u0433\u0430\u0442\u0438\u0432\""
      ],
      "cell_type": "code",
      "outputs": [],
      "execution_count": null
    },
    {
      "metadata": {},
      "source": [
        "kaggle_path = \"data/kaggle-ru-news/train.json\"\n",
        "column_names = [\"text\", \"label\"]\n",
        "\n",
        "kaggle = pd.read_json(kaggle_path).drop(\"id\", axis=1)\n",
        "kaggle.columns = column_names\n",
        "\n",
        "kaggle[\"text\"] = kaggle[\"text\"].apply(lambda x: x.replace(\"\\n\", \"\").replace(\"\\t\", \"\"))"
      ],
      "cell_type": "code",
      "outputs": [],
      "execution_count": null
    },
    {
      "metadata": {},
      "source": [
        "pd.options.display.max_colwidth = 80"
      ],
      "cell_type": "code",
      "outputs": [],
      "execution_count": null
    },
    {
      "metadata": {},
      "source": [
        "kaggle.sample(5)"
      ],
      "cell_type": "code",
      "outputs": [
        {
          "output_type": "execute_result",
          "data": {
            "text/html": [
              "<div>\n",
              "<style scoped>\n",
              "    .dataframe tbody tr th:only-of-type {\n",
              "        vertical-align: middle;\n",
              "    }\n",
              "\n",
              "    .dataframe tbody tr th {\n",
              "        vertical-align: top;\n",
              "    }\n",
              "\n",
              "    .dataframe thead th {\n",
              "        text-align: right;\n",
              "    }\n",
              "</style>\n",
              "<table border=\"1\" class=\"dataframe\">\n",
              "  <thead>\n",
              "    <tr style=\"text-align: right;\">\n",
              "      <th></th>\n",
              "      <th>text</th>\n",
              "      <th>label</th>\n",
              "    </tr>\n",
              "  </thead>\n",
              "  <tbody>\n",
              "    <tr>\n",
              "      <th>5290</th>\n",
              "      <td>\"\u0413\u043e\u0440\u043e\u0434\u043e\u043c-\u0433\u0435\u0440\u043e\u0435\u043c\", \u0441\u0434\u0430\u0432\u0448\u0438\u043c \u0431\u043e\u043b\u044c\u0448\u0435 \u0432\u0441\u0435\u0433\u043e \u0430\u0432\u0442\u043e\u043c\u043e\u0431\u0438\u043b\u0435\u0439, \u0441\u0442\u0430\u043b \u0428\u044b\u043c\u043a\u0435\u043d\u0442 \u2013 661 \u0430\u0432\u0442\u043e\u043c...</td>\n",
              "      <td>positive</td>\n",
              "    </tr>\n",
              "    <tr>\n",
              "      <th>4199</th>\n",
              "      <td>\u0413\u0440\u0430\u0436\u0434\u0430\u043d\u0430\u043c \u043f\u0440\u0435\u0434\u043b\u043e\u0436\u0430\u0442 \u0440\u0438\u0441\u043a\u043d\u0443\u0442\u044c \u0441\u0432\u043e\u0438\u043c\u0438 \u043f\u0435\u043d\u0441\u0438\u044f\u043c\u0438 \u0412 \u0415\u041d\u041f\u0424 \u043f\u043e\u0434\u0434\u0435\u0440\u0436\u0438\u0432\u0430\u044e\u0442 \u0432\u043e\u0437\u043c\u043e\u0436\u043d\u043e\u0441\u0442\u044c...</td>\n",
              "      <td>neutral</td>\n",
              "    </tr>\n",
              "    <tr>\n",
              "      <th>36</th>\n",
              "      <td>\u042f\u043d \u041c\u043b\u0430\u0434\u0435\u043a, \u0424\u043e\u0442\u043e: \u0424\u0438\u043b\u0438\u043f \u042f\u043d\u0434\u043e\u0443\u0440\u0435\u043a, \u0427\u0435\u0448\u0441\u043a\u043e\u0435 \u0440\u0430\u0434\u0438\u043e \u041c\u0438\u043d\u0438\u0441\u0442\u0440 \u043f\u0440\u043e\u043c\u044b\u0448\u043b\u0435\u043d\u043d\u043e\u0441\u0442\u0438 \u0438 \u0442\u043e\u0440\u0433...</td>\n",
              "      <td>neutral</td>\n",
              "    </tr>\n",
              "    <tr>\n",
              "      <th>3626</th>\n",
              "      <td>\u041a\u0422\u0416 \u043d\u0435\u043e\u0431\u0445\u043e\u0434\u0438\u043c\u043e \u0441\u0440\u043e\u0447\u043d\u043e \u043e\u0431\u043d\u043e\u0432\u0438\u0442\u044c \u0436\u0435\u043b\u0435\u0437\u043d\u043e\u0434\u043e\u0440\u043e\u0436\u043d\u044b\u0439 \u043f\u0430\u0440\u043a, \u0441\u0447\u0438\u0442\u0430\u0435\u0442 \u0434\u0435\u043f\u0443\u0442\u0430\u0442 \u0421\u0430\u043a\u0435\u043d \u0423...</td>\n",
              "      <td>negative</td>\n",
              "    </tr>\n",
              "    <tr>\n",
              "      <th>6303</th>\n",
              "      <td>\u0415\u0436\u0435\u043a\u0432\u0430\u0440\u0442\u0430\u043b\u044c\u043d\u043e \u0433\u0440\u0430\u0436\u0434\u0430\u043d\u0435 \u041a\u0430\u0437\u0430\u0445\u0441\u0442\u0430\u043d\u0430 \u043f\u043e\u043a\u0443\u043f\u0430\u044e\u0442 \u043e\u043a\u043e\u043b\u043e 10 \u0442\u044b\u0441\u044f\u0447 \u043d\u043e\u0432\u044b\u0445 \u0430\u0432\u0442\u043e\u043c\u043e\u0431\u0438\u043b\u0435\u0439 ...</td>\n",
              "      <td>positive</td>\n",
              "    </tr>\n",
              "  </tbody>\n",
              "</table>\n",
              "</div>"
            ],
            "text/plain": [
              "                                                                                 text  \\\n",
              "5290  \"\u0413\u043e\u0440\u043e\u0434\u043e\u043c-\u0433\u0435\u0440\u043e\u0435\u043c\", \u0441\u0434\u0430\u0432\u0448\u0438\u043c \u0431\u043e\u043b\u044c\u0448\u0435 \u0432\u0441\u0435\u0433\u043e \u0430\u0432\u0442\u043e\u043c\u043e\u0431\u0438\u043b\u0435\u0439, \u0441\u0442\u0430\u043b \u0428\u044b\u043c\u043a\u0435\u043d\u0442 \u2013 661 \u0430\u0432\u0442\u043e\u043c...   \n",
              "4199  \u0413\u0440\u0430\u0436\u0434\u0430\u043d\u0430\u043c \u043f\u0440\u0435\u0434\u043b\u043e\u0436\u0430\u0442 \u0440\u0438\u0441\u043a\u043d\u0443\u0442\u044c \u0441\u0432\u043e\u0438\u043c\u0438 \u043f\u0435\u043d\u0441\u0438\u044f\u043c\u0438 \u0412 \u0415\u041d\u041f\u0424 \u043f\u043e\u0434\u0434\u0435\u0440\u0436\u0438\u0432\u0430\u044e\u0442 \u0432\u043e\u0437\u043c\u043e\u0436\u043d\u043e\u0441\u0442\u044c...   \n",
              "36    \u042f\u043d \u041c\u043b\u0430\u0434\u0435\u043a, \u0424\u043e\u0442\u043e: \u0424\u0438\u043b\u0438\u043f \u042f\u043d\u0434\u043e\u0443\u0440\u0435\u043a, \u0427\u0435\u0448\u0441\u043a\u043e\u0435 \u0440\u0430\u0434\u0438\u043e \u041c\u0438\u043d\u0438\u0441\u0442\u0440 \u043f\u0440\u043e\u043c\u044b\u0448\u043b\u0435\u043d\u043d\u043e\u0441\u0442\u0438 \u0438 \u0442\u043e\u0440\u0433...   \n",
              "3626  \u041a\u0422\u0416 \u043d\u0435\u043e\u0431\u0445\u043e\u0434\u0438\u043c\u043e \u0441\u0440\u043e\u0447\u043d\u043e \u043e\u0431\u043d\u043e\u0432\u0438\u0442\u044c \u0436\u0435\u043b\u0435\u0437\u043d\u043e\u0434\u043e\u0440\u043e\u0436\u043d\u044b\u0439 \u043f\u0430\u0440\u043a, \u0441\u0447\u0438\u0442\u0430\u0435\u0442 \u0434\u0435\u043f\u0443\u0442\u0430\u0442 \u0421\u0430\u043a\u0435\u043d \u0423...   \n",
              "6303  \u0415\u0436\u0435\u043a\u0432\u0430\u0440\u0442\u0430\u043b\u044c\u043d\u043e \u0433\u0440\u0430\u0436\u0434\u0430\u043d\u0435 \u041a\u0430\u0437\u0430\u0445\u0441\u0442\u0430\u043d\u0430 \u043f\u043e\u043a\u0443\u043f\u0430\u044e\u0442 \u043e\u043a\u043e\u043b\u043e 10 \u0442\u044b\u0441\u044f\u0447 \u043d\u043e\u0432\u044b\u0445 \u0430\u0432\u0442\u043e\u043c\u043e\u0431\u0438\u043b\u0435\u0439 ...   \n",
              "\n",
              "         label  \n",
              "5290  positive  \n",
              "4199   neutral  \n",
              "36     neutral  \n",
              "3626  negative  \n",
              "6303  positive  "
            ]
          },
          "metadata": {},
          "execution_count": 4
        }
      ],
      "execution_count": null
    },
    {
      "metadata": {},
      "source": [
        "kaggle[\"Length words\"] = kaggle[\"text\"].apply(lambda x: len(x.split()))\n",
        "kaggle[\"Length\"] = kaggle[\"text\"].apply(len)"
      ],
      "cell_type": "code",
      "outputs": [],
      "execution_count": null
    },
    {
      "metadata": {},
      "source": [
        "len(kaggle)"
      ],
      "cell_type": "code",
      "outputs": [
        {
          "output_type": "execute_result",
          "data": {
            "text/plain": [
              "8263"
            ]
          },
          "metadata": {},
          "execution_count": 12
        }
      ],
      "execution_count": null
    },
    {
      "metadata": {},
      "source": [
        "kaggle[\"Length words\"].mean()"
      ],
      "cell_type": "code",
      "outputs": [
        {
          "output_type": "execute_result",
          "data": {
            "text/plain": [
              "506.7170519181895"
            ]
          },
          "metadata": {},
          "execution_count": 6
        }
      ],
      "execution_count": null
    },
    {
      "metadata": {},
      "source": [
        "kaggle[\"Length\"].mean()"
      ],
      "cell_type": "code",
      "outputs": [
        {
          "output_type": "execute_result",
          "data": {
            "text/plain": [
              "3888.608858768002"
            ]
          },
          "metadata": {},
          "execution_count": 7
        }
      ],
      "execution_count": null
    },
    {
      "metadata": {},
      "source": [
        "kaggle[\"label\"] = kaggle[\"label\"].apply(sentiment_preprocessor)"
      ],
      "cell_type": "code",
      "outputs": [],
      "execution_count": null
    },
    {
      "metadata": {},
      "source": [
        "kaggle.groupby(\"label\").sample(2)"
      ],
      "cell_type": "code",
      "outputs": [
        {
          "output_type": "execute_result",
          "data": {
            "text/html": [
              "<div>\n",
              "<style scoped>\n",
              "    .dataframe tbody tr th:only-of-type {\n",
              "        vertical-align: middle;\n",
              "    }\n",
              "\n",
              "    .dataframe tbody tr th {\n",
              "        vertical-align: top;\n",
              "    }\n",
              "\n",
              "    .dataframe thead th {\n",
              "        text-align: right;\n",
              "    }\n",
              "</style>\n",
              "<table border=\"1\" class=\"dataframe\">\n",
              "  <thead>\n",
              "    <tr style=\"text-align: right;\">\n",
              "      <th></th>\n",
              "      <th>text</th>\n",
              "      <th>label</th>\n",
              "      <th>Length words</th>\n",
              "      <th>Length</th>\n",
              "    </tr>\n",
              "  </thead>\n",
              "  <tbody>\n",
              "    <tr>\n",
              "      <th>5611</th>\n",
              "      <td>\u041f\u0440\u043e\u0432\u0435\u0440\u043a\u0443 \u0434\u0435\u044f\u0442\u0435\u043b\u044c\u043d\u043e\u0441\u0442\u0438 \u0415\u0434\u0438\u043d\u043e\u0433\u043e \u043d\u0430\u043a\u043e\u043f\u0438\u0442\u0435\u043b\u044c\u043d\u043e\u0433\u043e \u043f\u0435\u043d\u0441\u0438\u043e\u043d\u043d\u043e\u0433\u043e \u0444\u043e\u043d\u0434\u0430 (\u0415\u041d\u041f\u0424) \u043f\u0440\u043e\u0432\u043e\u0434...</td>\n",
              "      <td>\u043d\u0435\u0433\u0430\u0442\u0438\u0432</td>\n",
              "      <td>197</td>\n",
              "      <td>1593</td>\n",
              "    </tr>\n",
              "    <tr>\n",
              "      <th>5147</th>\n",
              "      <td>7 \u043d\u043e\u044f\u0431\u0440\u044f \u0432 5 \u0447\u0430\u0441\u043e\u0432 18 \u043c\u0438\u043d\u0443\u0442 \u043d\u0430 \u0441\u0442\u0430\u043d\u0446\u0438\u0438 \u0421\u0430\u0437 \u0443\u0447\u0430\u0441\u0442\u043a\u0430 \u0410\u043b\u043c\u0430\u0442\u044b-\u041e\u0442\u0430 \u0432 \u0410\u043b\u043c\u0430\u0442\u0438\u043d\u0441\u043a\u043e\u0439 ...</td>\n",
              "      <td>\u043d\u0435\u0433\u0430\u0442\u0438\u0432</td>\n",
              "      <td>79</td>\n",
              "      <td>582</td>\n",
              "    </tr>\n",
              "    <tr>\n",
              "      <th>6841</th>\n",
              "      <td>30.01.2017, 16:01\u041a\u0430\u0437\u0430\u0445\u0441\u0442\u0430\u043d\u0441\u043a\u0438\u0435 \u0431\u0430\u043d\u043a\u0438 \u043f\u0440\u043e\u0434\u043e\u043b\u0436\u0430\u0442 \u043f\u0440\u043e\u0446\u0435\u0441\u0441 \u0443\u043a\u0440\u0443\u043f\u043d\u0435\u043d\u0438\u044f, \u0441\u0447\u0438\u0442\u0430\u0435\u0442 \u0433...</td>\n",
              "      <td>\u043d\u0435\u0439\u0442\u0440\u0430\u043b\u044c\u043d\u043e\u0441\u0442\u044c</td>\n",
              "      <td>42</td>\n",
              "      <td>382</td>\n",
              "    </tr>\n",
              "    <tr>\n",
              "      <th>3917</th>\n",
              "      <td>\u0410\u0441\u0442\u0430\u043d\u0430. 2 \u0434\u0435\u043a\u0430\u0431\u0440\u044f. Kazakhstan Today - \u0418\u043d\u0444\u043b\u044f\u0446\u0438\u044f \u0432 \u0420\u0435\u0441\u043f\u0443\u0431\u043b\u0438\u043a\u0435 \u041a\u0430\u0437\u0430\u0445\u0441\u0442\u0430\u043d \u0437\u0430 \u044f\u043d\u0432...</td>\n",
              "      <td>\u043d\u0435\u0439\u0442\u0440\u0430\u043b\u044c\u043d\u043e\u0441\u0442\u044c</td>\n",
              "      <td>318</td>\n",
              "      <td>2264</td>\n",
              "    </tr>\n",
              "    <tr>\n",
              "      <th>6517</th>\n",
              "      <td>\u041a\u0430\u043a \u043e\u0442\u043c\u0435\u0442\u0438\u043b \u0415\u043b\u0431\u0430\u0441\u044b, \u0430\u0433\u0440\u043e\u043f\u0440\u043e\u043c\u044b\u0448\u043b\u0435\u043d\u043d\u044b\u0439 \u043a\u043e\u043c\u043f\u043b\u0435\u043a\u0441 \u0438\u043c\u0435\u0435\u0442 \u043f\u0435\u0440\u0441\u043f\u0435\u043a\u0442\u0438\u0432\u043d\u043e\u0435 \u0431\u0443\u0434\u0443\u0449\u0435\u0435. \"...</td>\n",
              "      <td>\u043f\u043e\u0437\u0438\u0442\u0438\u0432</td>\n",
              "      <td>230</td>\n",
              "      <td>1874</td>\n",
              "    </tr>\n",
              "    <tr>\n",
              "      <th>6077</th>\n",
              "      <td>\u0410\u0421\u0422\u0410\u041d\u0410. 8 \u043d\u043e\u044f\u0431\u0440\u044f. \u041a\u0410\u0417\u0418\u041d\u0424\u041e\u0420\u041c - \u041a\u0430\u0437\u0438\u043d\u0444\u043e\u0440\u043c \u043f\u0440\u0435\u0434\u043b\u0430\u0433\u0430\u0435\u0442 \u0447\u0438\u0442\u0430\u0442\u0435\u043b\u044f\u043c \u0438\u043d\u0444\u043e\u0440\u043c\u0430\u0446\u0438\u043e\u043d\u043d\u044b\u0439 ...</td>\n",
              "      <td>\u043f\u043e\u0437\u0438\u0442\u0438\u0432</td>\n",
              "      <td>4018</td>\n",
              "      <td>35047</td>\n",
              "    </tr>\n",
              "  </tbody>\n",
              "</table>\n",
              "</div>"
            ],
            "text/plain": [
              "                                                                                 text  \\\n",
              "5611  \u041f\u0440\u043e\u0432\u0435\u0440\u043a\u0443 \u0434\u0435\u044f\u0442\u0435\u043b\u044c\u043d\u043e\u0441\u0442\u0438 \u0415\u0434\u0438\u043d\u043e\u0433\u043e \u043d\u0430\u043a\u043e\u043f\u0438\u0442\u0435\u043b\u044c\u043d\u043e\u0433\u043e \u043f\u0435\u043d\u0441\u0438\u043e\u043d\u043d\u043e\u0433\u043e \u0444\u043e\u043d\u0434\u0430 (\u0415\u041d\u041f\u0424) \u043f\u0440\u043e\u0432\u043e\u0434...   \n",
              "5147  7 \u043d\u043e\u044f\u0431\u0440\u044f \u0432 5 \u0447\u0430\u0441\u043e\u0432 18 \u043c\u0438\u043d\u0443\u0442 \u043d\u0430 \u0441\u0442\u0430\u043d\u0446\u0438\u0438 \u0421\u0430\u0437 \u0443\u0447\u0430\u0441\u0442\u043a\u0430 \u0410\u043b\u043c\u0430\u0442\u044b-\u041e\u0442\u0430 \u0432 \u0410\u043b\u043c\u0430\u0442\u0438\u043d\u0441\u043a\u043e\u0439 ...   \n",
              "6841  30.01.2017, 16:01\u041a\u0430\u0437\u0430\u0445\u0441\u0442\u0430\u043d\u0441\u043a\u0438\u0435 \u0431\u0430\u043d\u043a\u0438 \u043f\u0440\u043e\u0434\u043e\u043b\u0436\u0430\u0442 \u043f\u0440\u043e\u0446\u0435\u0441\u0441 \u0443\u043a\u0440\u0443\u043f\u043d\u0435\u043d\u0438\u044f, \u0441\u0447\u0438\u0442\u0430\u0435\u0442 \u0433...   \n",
              "3917  \u0410\u0441\u0442\u0430\u043d\u0430. 2 \u0434\u0435\u043a\u0430\u0431\u0440\u044f. Kazakhstan Today - \u0418\u043d\u0444\u043b\u044f\u0446\u0438\u044f \u0432 \u0420\u0435\u0441\u043f\u0443\u0431\u043b\u0438\u043a\u0435 \u041a\u0430\u0437\u0430\u0445\u0441\u0442\u0430\u043d \u0437\u0430 \u044f\u043d\u0432...   \n",
              "6517  \u041a\u0430\u043a \u043e\u0442\u043c\u0435\u0442\u0438\u043b \u0415\u043b\u0431\u0430\u0441\u044b, \u0430\u0433\u0440\u043e\u043f\u0440\u043e\u043c\u044b\u0448\u043b\u0435\u043d\u043d\u044b\u0439 \u043a\u043e\u043c\u043f\u043b\u0435\u043a\u0441 \u0438\u043c\u0435\u0435\u0442 \u043f\u0435\u0440\u0441\u043f\u0435\u043a\u0442\u0438\u0432\u043d\u043e\u0435 \u0431\u0443\u0434\u0443\u0449\u0435\u0435. \"...   \n",
              "6077  \u0410\u0421\u0422\u0410\u041d\u0410. 8 \u043d\u043e\u044f\u0431\u0440\u044f. \u041a\u0410\u0417\u0418\u041d\u0424\u041e\u0420\u041c - \u041a\u0430\u0437\u0438\u043d\u0444\u043e\u0440\u043c \u043f\u0440\u0435\u0434\u043b\u0430\u0433\u0430\u0435\u0442 \u0447\u0438\u0442\u0430\u0442\u0435\u043b\u044f\u043c \u0438\u043d\u0444\u043e\u0440\u043c\u0430\u0446\u0438\u043e\u043d\u043d\u044b\u0439 ...   \n",
              "\n",
              "              label  Length words  Length  \n",
              "5611        \u043d\u0435\u0433\u0430\u0442\u0438\u0432           197    1593  \n",
              "5147        \u043d\u0435\u0433\u0430\u0442\u0438\u0432            79     582  \n",
              "6841  \u043d\u0435\u0439\u0442\u0440\u0430\u043b\u044c\u043d\u043e\u0441\u0442\u044c            42     382  \n",
              "3917  \u043d\u0435\u0439\u0442\u0440\u0430\u043b\u044c\u043d\u043e\u0441\u0442\u044c           318    2264  \n",
              "6517        \u043f\u043e\u0437\u0438\u0442\u0438\u0432           230    1874  \n",
              "6077        \u043f\u043e\u0437\u0438\u0442\u0438\u0432          4018   35047  "
            ]
          },
          "metadata": {},
          "execution_count": 9
        }
      ],
      "execution_count": null
    },
    {
      "metadata": {},
      "source": [
        "kaggle[\"label\"].value_counts().plot.barh(xlabel=\"\u041a\u043e\u043b\u0438\u0447\u0435\u0441\u0442\u0432\u043e \u044d\u043b\u0435\u043c\u0435\u043d\u0442\u043e\u0432\", ylabel=\"\u041a\u043b\u0430\u0441\u0441\")"
      ],
      "cell_type": "code",
      "outputs": [
        {
          "output_type": "execute_result",
          "data": {
            "text/plain": [
              "<AxesSubplot: xlabel='\u041a\u043e\u043b\u0438\u0447\u0435\u0441\u0442\u0432\u043e \u044d\u043b\u0435\u043c\u0435\u043d\u0442\u043e\u0432', ylabel='\u041a\u043b\u0430\u0441\u0441'>"
            ]
          },
          "metadata": {},
          "execution_count": 10
        },
        {
          "output_type": "display_data",
          "data": {
            "image/png": "[encoded data removed]",
            "text/plain": [
              "<Figure size 640x480 with 1 Axes>"
            ]
          },
          "metadata": {}
        }
      ],
      "execution_count": null
    },
    {
      "metadata": {},
      "source": [
        "size = kaggle.shape[0]\n",
        "val_test_size = int(size * 0.1)\n",
        "\n",
        "kaggle_train_val, kaggle_test = train_test_split(\n",
        "    kaggle, test_size=val_test_size, shuffle=True, random_state=RANDOM_STATE\n",
        ")\n",
        "\n",
        "kaggle_train, kaggle_val = train_test_split(\n",
        "    kaggle_train_val,\n",
        "    test_size=val_test_size,\n",
        "    shuffle=True,\n",
        "    random_state=RANDOM_STATE,\n",
        ")\n",
        "\n",
        "print(\n",
        "    f\"Loaded RuReviews: train {kaggle_train.shape[0]},\",\n",
        "    f\"val {kaggle_val.shape[0]},\",\n",
        "    f\"test {kaggle_test.shape[0]}\",\n",
        ")"
      ],
      "cell_type": "code",
      "outputs": [
        {
          "output_type": "stream",
          "name": "stdout",
          "text": [
            "Loaded RuReviews: train 6611, val 826, test 826\n"
          ]
        }
      ],
      "execution_count": null
    }
  ]
}

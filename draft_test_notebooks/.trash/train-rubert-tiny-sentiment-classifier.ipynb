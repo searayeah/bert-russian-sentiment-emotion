{
 "nbformat": 4,
 "nbformat_minor": 0,
 "metadata": {},
 "cells": [
  {
   "metadata": {},
   "source": [
    "<a href=\"https://colab.research.google.com/gist/avidale/e678c5478086c1d1adc52a85cb2b93e6/train-rubert-tiny-sentiment-classifier.ipynb\" target=\"_parent\"><img src=\"https://colab.research.google.com/assets/colab-badge.svg\" alt=\"Open In Colab\"/></a>"
   ],
   "cell_type": "markdown"
  },
  {
   "metadata": {},
   "source": [
    "В этом блокноте мы обучаем маленький BERT распознавать в коротких русских текстах сентимент. Результирующая модель выложена в открытый доступ: https://huggingface.co/cointegrated/rubert-tiny-sentiment-balanced. \n",
    "\n",
    "Данные возьмём из проекта Сметанина: https://github.com/sismetanin/sentiment-analysis-in-russian\n",
    "\n",
    "Для удобства я вручную скачал все данные и сложил на гугл диск. Результирующий датасет (он собирается посередине этого блокнота) вы можете выкачать [тут](https://drive.google.com/file/d/1dir_lixYfReDXxRS5oGGljH8T_f7vVqm/view?usp=sharing).\n"
   ],
   "cell_type": "markdown"
  },
  {
   "metadata": {},
   "source": [
    "import gc\n",
    "import random\n",
    "\n",
    "import joblib\n",
    "import numpy as np\n",
    "import pandas as pd\n",
    "import torch\n",
    "import xmltodict\n",
    "from datasets import Dataset, DatasetDict\n",
    "from google.colab import drive\n",
    "from IPython.display import display\n",
    "from sklearn.feature_extraction.text import HashingVectorizer\n",
    "from sklearn.linear_model import LogisticRegression\n",
    "from sklearn.metrics import accuracy_score, f1_score, precision_recall_fscore_support, roc_auc_score\n",
    "from sklearn.pipeline import make_pipeline\n",
    "from torch.utils.data import DataLoader\n",
    "from tqdm.auto import tqdm, trange\n",
    "from transformers import AutoModelForSequenceClassification, AutoTokenizer, DataCollatorWithPadding\n",
    "\n",
    "drive.mount(\"/gd\")"
   ],
   "cell_type": "code",
   "outputs": [
    {
     "output_type": "stream",
     "name": "stdout",
     "text": [
      "Drive already mounted at /gd; to attempt to forcibly remount, call drive.mount(\"/gd\", force_remount=True).\n"
     ]
    }
   ],
   "execution_count": null
  },
  {
   "metadata": {},
   "source": [
    "! pip install datasets transformers xmltodict --quiet"
   ],
   "cell_type": "code",
   "outputs": [
    {
     "output_type": "stream",
     "name": "stdout",
     "text": [
      "\u001b[K     |████████████████████████████████| 264 kB 5.0 MB/s \n",
      "\u001b[K     |████████████████████████████████| 2.6 MB 65.4 MB/s \n",
      "\u001b[K     |████████████████████████████████| 118 kB 68.6 MB/s \n",
      "\u001b[K     |████████████████████████████████| 243 kB 70.7 MB/s \n",
      "\u001b[K     |████████████████████████████████| 43 kB 2.5 MB/s \n",
      "\u001b[K     |████████████████████████████████| 895 kB 57.0 MB/s \n",
      "\u001b[K     |████████████████████████████████| 3.3 MB 61.1 MB/s \n",
      "\u001b[K     |████████████████████████████████| 636 kB 61.7 MB/s \n",
      "\u001b[?25h"
     ]
    }
   ],
   "execution_count": null
  },
  {
   "metadata": {},
   "source": [
    "# Load and unify data"
   ],
   "cell_type": "markdown"
  },
  {
   "metadata": {},
   "source": [
    "## SentiRuEval2016\n",
    "\n",
    "http://www.dialog-21.ru/evaluation/2016/sentiment/\n",
    "\n",
    "https://drive.google.com/drive/folders/0BxlA8wH3PTUfV1F1UTBwVTJPd3c?resourcekey=0-k9mcoCJ0D8bfaHa9h3fIWw"
   ],
   "cell_type": "markdown"
  },
  {
   "metadata": {},
   "source": [
    "!ls /gd/MyDrive/datasets/nlp/sentiment/SentiRuEval_2016"
   ],
   "cell_type": "code",
   "outputs": [
    {
     "output_type": "stream",
     "name": "stdout",
     "text": [
      " banks_test_2016.xml\t tkk_test_2016.xml\n",
      " banks_test_etalon.xml\t tkk_test_etalon.xml\n",
      " bank_train_2016.xml\t tkk_train_2016.xml\n",
      " eval\t\t\t'Результаты SentiRueval 2016.gsheet'\n"
     ]
    }
   ],
   "execution_count": null
  },
  {
   "metadata": {},
   "source": [
    "dirname = \"/gd/MyDrive/datasets/nlp/sentiment/SentiRuEval_2016/\""
   ],
   "cell_type": "code",
   "outputs": [],
   "execution_count": null
  },
  {
   "metadata": {},
   "source": [
    "with open(dirname + \"bank_train_2016.xml\") as f:\n",
    "    data = xmltodict.parse(f.read())\n",
    "objects = [\n",
    "    \"sberbank\",\n",
    "    \"vtb\",\n",
    "    \"gazprom\",\n",
    "    \"alfabank\",\n",
    "    \"bankmoskvy\",\n",
    "    \"raiffeisen\",\n",
    "    \"uralsib\",\n",
    "    \"rshb\",\n",
    "]\n",
    "\n",
    "senti_data_banks = []\n",
    "for item in data[\"pma_xml_export\"][\"database\"][\"table\"]:\n",
    "    item_dict = {v[\"@name\"]: v[\"#text\"] for v in item[\"column\"]}\n",
    "    for o in objects:\n",
    "        if item_dict[o] != \"NULL\":\n",
    "            senti_data_banks.append({\"text\": item_dict[\"text\"], \"label\": int(item_dict[o]), \"object\": o})\n",
    "senti_data_banks = pd.DataFrame(senti_data_banks)\n",
    "print(senti_data_banks.shape)\n",
    "print(senti_data_banks.label.value_counts())"
   ],
   "cell_type": "code",
   "outputs": [
    {
     "output_type": "stream",
     "name": "stdout",
     "text": [
      "(10725, 3)\n",
      " 0    7158\n",
      "-1    2807\n",
      " 1     760\n",
      "Name: label, dtype: int64\n"
     ]
    }
   ],
   "execution_count": null
  },
  {
   "metadata": {},
   "source": [
    "def foo(x):\n",
    "    if x == 1:\n",
    "        return \"positive\"\n",
    "    if x == 0:\n",
    "        return \"neutral\"\n",
    "    if x == -1:\n",
    "        return \"negative\"\n",
    "    return x\n",
    "\n",
    "\n",
    "senti_data_banks.label = senti_data_banks.label.apply(foo)\n",
    "senti_data_banks.label.value_counts()"
   ],
   "cell_type": "code",
   "outputs": [
    {
     "output_type": "execute_result",
     "data": {
      "text/plain": [
       "neutral     7158\n",
       "negative    2807\n",
       "positive     760\n",
       "Name: label, dtype: int64"
      ]
     },
     "metadata": {},
     "execution_count": 8
    }
   ],
   "execution_count": null
  },
  {
   "metadata": {},
   "source": [
    "with open(dirname + \"tkk_train_2016.xml\") as f:\n",
    "    data = xmltodict.parse(f.read())"
   ],
   "cell_type": "code",
   "outputs": [],
   "execution_count": null
  },
  {
   "metadata": {},
   "source": [
    "data[\"pma_xml_export\"][\"database\"][\"table\"][0]"
   ],
   "cell_type": "code",
   "outputs": [
    {
     "output_type": "execute_result",
     "data": {
      "text/plain": [
       "OrderedDict([('@name', 'tkk_train_2016'),\n",
       "             ('column',\n",
       "              [OrderedDict([('@name', 'id'), ('#text', '1')]),\n",
       "               OrderedDict([('@name', 'twitid'),\n",
       "                            ('#text', '492367588165680000')]),\n",
       "               OrderedDict([('@name', 'date'), ('#text', '1406224555')]),\n",
       "               OrderedDict([('@name', 'text'),\n",
       "                            ('#text',\n",
       "                             '@mkomov Максим, Вашем письмо мы получили. Наши сотрудники свяжутся с Вами завтра и направят запрос инженерам для проверки. #билайн')]),\n",
       "               OrderedDict([('@name', 'beeline'), ('#text', '0')]),\n",
       "               OrderedDict([('@name', 'mts'), ('#text', 'NULL')]),\n",
       "               OrderedDict([('@name', 'megafon'), ('#text', 'NULL')]),\n",
       "               OrderedDict([('@name', 'tele2'), ('#text', 'NULL')]),\n",
       "               OrderedDict([('@name', 'rostelecom'), ('#text', 'NULL')]),\n",
       "               OrderedDict([('@name', 'komstar'), ('#text', 'NULL')]),\n",
       "               OrderedDict([('@name', 'skylink'), ('#text', 'NULL')])])])"
      ]
     },
     "metadata": {},
     "execution_count": 10
    }
   ],
   "execution_count": null
  },
  {
   "metadata": {},
   "source": [
    "with open(dirname + \"tkk_train_2016.xml\") as f:\n",
    "    data = xmltodict.parse(f.read())\n",
    "objects = [\"beeline\", \"mts\", \"megafon\", \"tele2\", \"rostelecom\", \"komstar\", \"skylink\"]\n",
    "\n",
    "senti_data_tele = []\n",
    "for item in data[\"pma_xml_export\"][\"database\"][\"table\"]:\n",
    "    item_dict = {v[\"@name\"]: v[\"#text\"] for v in item[\"column\"]}\n",
    "    for o in objects:\n",
    "        if item_dict[o] != \"NULL\":\n",
    "            senti_data_tele.append({\"text\": item_dict[\"text\"], \"label\": int(item_dict[o]), \"object\": o})\n",
    "senti_data_tele = pd.DataFrame(senti_data_tele)\n",
    "print(senti_data_tele.shape)\n",
    "print(senti_data_tele.label.value_counts())"
   ],
   "cell_type": "code",
   "outputs": [
    {
     "output_type": "stream",
     "name": "stdout",
     "text": [
      "(9209, 3)\n",
      " 0    5213\n",
      "-1    2611\n",
      " 1    1385\n",
      "Name: label, dtype: int64\n"
     ]
    }
   ],
   "execution_count": null
  },
  {
   "metadata": {},
   "source": [
    "def foo(x):\n",
    "    if x == 1:\n",
    "        return \"positive\"\n",
    "    if x == 0:\n",
    "        return \"neutral\"\n",
    "    if x == -1:\n",
    "        return \"negative\"\n",
    "    return x\n",
    "\n",
    "\n",
    "senti_data_tele.label = senti_data_tele.label.apply(foo)\n",
    "senti_data_tele.label.value_counts()"
   ],
   "cell_type": "code",
   "outputs": [
    {
     "output_type": "execute_result",
     "data": {
      "text/plain": [
       "neutral     5213\n",
       "negative    2611\n",
       "positive    1385\n",
       "Name: label, dtype: int64"
      ]
     },
     "metadata": {},
     "execution_count": 12
    }
   ],
   "execution_count": null
  },
  {
   "metadata": {},
   "source": [
    "senti_data_tele[\"source\"] = \"SentiRuEval2016_tele\"\n",
    "senti_data_banks[\"source\"] = \"SentiRuEval2016_banks\""
   ],
   "cell_type": "code",
   "outputs": [],
   "execution_count": null
  },
  {
   "metadata": {},
   "source": [
    "## SentiRuEval2015\n",
    "\n",
    "https://drive.google.com/drive/folders/1f2bIJ-JDxIRCI1gEdEdB1kMe7lGJK02m"
   ],
   "cell_type": "markdown"
  },
  {
   "metadata": {},
   "source": [
    "!ls /gd/MyDrive/datasets/nlp/sentiment/SentiRuEval-2015"
   ],
   "cell_type": "code",
   "outputs": [
    {
     "output_type": "stream",
     "name": "stdout",
     "text": [
      "Aspects_guidelines.doc\t\t SentiRuEval_car_markup_train.xml\n",
      "eval\t\t\t\t SentiRuEval_rest_markup_test.xml\n",
      "readme.txt\t\t\t SentiRuEval_rest_markup_train.xml\n",
      "SentiRuEval_car_markup_test.xml  SentiRuEval_results.gsheet\n"
     ]
    }
   ],
   "execution_count": null
  },
  {
   "metadata": {},
   "source": [
    "dirname = \"/gd/MyDrive/datasets/nlp/sentiment/SentiRuEval-2015/\"\n",
    "with open(dirname + \"SentiRuEval_car_markup_train.xml\") as f:\n",
    "    data = xmltodict.parse(f.read())\n",
    "print(len(data[\"reviews\"][\"review\"]))"
   ],
   "cell_type": "code",
   "outputs": [
    {
     "output_type": "stream",
     "name": "stdout",
     "text": [
      "217\n"
     ]
    }
   ],
   "execution_count": null
  },
  {
   "metadata": {},
   "source": [
    "dirname = \"/gd/MyDrive/datasets/nlp/sentiment/SentiRuEval-2015/\"\n",
    "with open(dirname + \"SentiRuEval_rest_markup_train.xml\") as f:\n",
    "    data = xmltodict.parse(f.read())\n",
    "print(len(data[\"reviews\"][\"review\"]))"
   ],
   "cell_type": "code",
   "outputs": [
    {
     "output_type": "stream",
     "name": "stdout",
     "text": [
      "201\n"
     ]
    }
   ],
   "execution_count": null
  },
  {
   "metadata": {},
   "source": [
    "Этот датасет направлен на анализ аспектов, а не текста в целом, самих текстов мало, и оценить их - сложно. Поэтому пока что забью на эту тему. "
   ],
   "cell_type": "markdown"
  },
  {
   "metadata": {},
   "source": [
    "## RuTweetCorp\n",
    "\n",
    "https://study.mokoron.com/#download\n",
    "\n",
    "Нейтральные тексты я сам насэмплил для единообразия. Для этого я обучил простой классификатор (логрег на символьных n-граммах) отличать позитивные и негативные твиты от каких попало твитов, и выбрал 200К случайных твитов, с высокой уверенностью классифицированных как \"что попало\". "
   ],
   "cell_type": "markdown"
  },
  {
   "metadata": {},
   "source": [
    "cols = [\n",
    "    \"id\",\n",
    "    \"date\",\n",
    "    \"username\",\n",
    "    \"text\",\n",
    "    \"label\",\n",
    "    \"rep\",\n",
    "    \"fav\",\n",
    "    \"stcount\",\n",
    "    \"fol\",\n",
    "    \"frien\",\n",
    "    \"listcount\",\n",
    "    \"hz\",\n",
    "]\n",
    "tweet_pos = pd.read_csv(\"/gd/MyDrive/datasets/nlp/sentiment/mocoron/positive.csv\", sep=\";\", header=None)\n",
    "tweet_pos.columns = cols\n",
    "tweet_neg = pd.read_csv(\"/gd/MyDrive/datasets/nlp/sentiment/mocoron/negative.csv\", sep=\";\", header=None)\n",
    "tweet_neg.columns = cols"
   ],
   "cell_type": "code",
   "outputs": [],
   "execution_count": null
  },
  {
   "metadata": {},
   "source": [
    "tweet_neut = pd.read_csv(\"/gd/MyDrive/datasets/nlp/sentiment/mocoron/neutral.csv\")"
   ],
   "cell_type": "code",
   "outputs": [],
   "execution_count": null
  },
  {
   "metadata": {},
   "source": [
    "tweet_data = pd.DataFrame(\n",
    "    {\n",
    "        \"text\": tweet_pos.text.tolist() + tweet_neg.text.tolist() + tweet_neut.text.tolist(),\n",
    "        \"label\": [\"positive\"] * tweet_pos.shape[0]\n",
    "        + [\"negative\"] * tweet_neg.shape[0]\n",
    "        + [\"neutral\"] * tweet_neut.shape[0],\n",
    "    }\n",
    ")\n",
    "print(tweet_data.shape)\n",
    "tweet_data.label.value_counts()"
   ],
   "cell_type": "code",
   "outputs": [
    {
     "output_type": "stream",
     "name": "stdout",
     "text": [
      "(519592, 2)\n"
     ]
    },
    {
     "output_type": "execute_result",
     "data": {
      "text/plain": [
       "neutral     292758\n",
       "positive    114911\n",
       "negative    111923\n",
       "Name: label, dtype: int64"
      ]
     },
     "metadata": {},
     "execution_count": 19
    }
   ],
   "execution_count": null
  },
  {
   "metadata": {},
   "source": [
    "tweet_data[\"source\"] = \"mokoron\""
   ],
   "cell_type": "code",
   "outputs": [],
   "execution_count": null
  },
  {
   "metadata": {},
   "source": [
    "## Linis"
   ],
   "cell_type": "markdown"
  },
  {
   "metadata": {},
   "source": [
    "linis_data = pd.read_excel(\n",
    "    \"/gd/MyDrive/datasets/nlp/sentiment/linis-crowd-doc_comment_summary.xlsx\",\n",
    "    header=None,\n",
    ")"
   ],
   "cell_type": "code",
   "outputs": [],
   "execution_count": null
  },
  {
   "metadata": {},
   "source": [
    "linis_data.columns = [\"text\", \"label\"]\n",
    "linis_data.label.value_counts()"
   ],
   "cell_type": "code",
   "outputs": [
    {
     "output_type": "execute_result",
     "data": {
      "text/plain": [
       "0                        13930\n",
       "-1                        9203\n",
       "1                         1795\n",
       "-2                        1534\n",
       "2                          365\n",
       "GalinaPozd                   6\n",
       "Виталия Салина               5\n",
       "Минченкова Елизавета         2\n",
       "22158                        2\n",
       "23523                        1\n",
       "23486                        1\n",
       "Иван Мишалкин                1\n",
       "Yudenkova Dasha              1\n",
       "21887                        1\n",
       "Арина Макковеева             1\n",
       "Анна Вейдер                  1\n",
       "Анна Аникина                 1\n",
       "Name: label, dtype: int64"
      ]
     },
     "metadata": {},
     "execution_count": 22
    }
   ],
   "execution_count": null
  },
  {
   "metadata": {},
   "source": [
    "linis_data = linis_data[linis_data.label.apply(lambda x: x in {-2, -1, 0, 1, 2})].copy()\n",
    "linis_data.label.value_counts().sort_index()"
   ],
   "cell_type": "code",
   "outputs": [
    {
     "output_type": "execute_result",
     "data": {
      "text/plain": [
       "-2     1534\n",
       "-1     9203\n",
       " 0    13930\n",
       " 1     1795\n",
       " 2      365\n",
       "Name: label, dtype: int64"
      ]
     },
     "metadata": {},
     "execution_count": 23
    }
   ],
   "execution_count": null
  },
  {
   "metadata": {},
   "source": [
    "def foo(x):\n",
    "    if x >= 1:\n",
    "        return \"positive\"\n",
    "    if x == 0:\n",
    "        return \"neutral\"\n",
    "    if x <= -1:\n",
    "        return \"negative\"\n",
    "    return x\n",
    "\n",
    "\n",
    "linis_data.label = linis_data.label.apply(foo)\n",
    "linis_data.label.value_counts()"
   ],
   "cell_type": "code",
   "outputs": [
    {
     "output_type": "execute_result",
     "data": {
      "text/plain": [
       "neutral     13930\n",
       "negative    10737\n",
       "positive     2160\n",
       "Name: label, dtype: int64"
      ]
     },
     "metadata": {},
     "execution_count": 24
    }
   ],
   "execution_count": null
  },
  {
   "metadata": {},
   "source": [
    "linis_data[\"source\"] = \"linis\""
   ],
   "cell_type": "code",
   "outputs": [],
   "execution_count": null
  },
  {
   "metadata": {},
   "source": [
    "## RuSentiment"
   ],
   "cell_type": "markdown"
  },
  {
   "metadata": {},
   "source": [
    "rusent_random = pd.read_csv(\"/gd/MyDrive/datasets/nlp/sentiment/Rusentiment/rusentiment_random_posts.csv\")\n",
    "print(rusent_random.shape)\n",
    "rusent_random.sample(3)"
   ],
   "cell_type": "code",
   "outputs": [
    {
     "output_type": "stream",
     "name": "stdout",
     "text": [
      "(21268, 2)\n"
     ]
    },
    {
     "output_type": "execute_result",
     "data": {
      "text/html": [
       "<div>\n",
       "<style scoped>\n",
       "    .dataframe tbody tr th:only-of-type {\n",
       "        vertical-align: middle;\n",
       "    }\n",
       "\n",
       "    .dataframe tbody tr th {\n",
       "        vertical-align: top;\n",
       "    }\n",
       "\n",
       "    .dataframe thead th {\n",
       "        text-align: right;\n",
       "    }\n",
       "</style>\n",
       "<table border=\"1\" class=\"dataframe\">\n",
       "  <thead>\n",
       "    <tr style=\"text-align: right;\">\n",
       "      <th></th>\n",
       "      <th>label</th>\n",
       "      <th>text</th>\n",
       "    </tr>\n",
       "  </thead>\n",
       "  <tbody>\n",
       "    <tr>\n",
       "      <th>707</th>\n",
       "      <td>speech</td>\n",
       "      <td>С Днём рождения!!!\\nПусть у тебя ВСЁ получится)))</td>\n",
       "    </tr>\n",
       "    <tr>\n",
       "      <th>565</th>\n",
       "      <td>speech</td>\n",
       "      <td>С Днем Рождения! Всех благ и просветления!)</td>\n",
       "    </tr>\n",
       "    <tr>\n",
       "      <th>18330</th>\n",
       "      <td>neutral</td>\n",
       "      <td>КАКОЙ ВОЗРАСТ ВАШИХ ДЕТОК:</td>\n",
       "    </tr>\n",
       "  </tbody>\n",
       "</table>\n",
       "</div>"
      ],
      "text/plain": [
       "         label                                               text\n",
       "707     speech  С Днём рождения!!!\\nПусть у тебя ВСЁ получится)))\n",
       "565     speech        С Днем Рождения! Всех благ и просветления!)\n",
       "18330  neutral                         КАКОЙ ВОЗРАСТ ВАШИХ ДЕТОК:"
      ]
     },
     "metadata": {},
     "execution_count": 26
    }
   ],
   "execution_count": null
  },
  {
   "metadata": {},
   "source": [
    "rusent_active = pd.read_csv(\"/gd/MyDrive/datasets/nlp/sentiment/Rusentiment/rusentiment_preselected_posts.csv\")\n",
    "print(rusent_active.shape)\n",
    "rusent_active.sample(3)"
   ],
   "cell_type": "code",
   "outputs": [
    {
     "output_type": "stream",
     "name": "stdout",
     "text": [
      "(6950, 2)\n"
     ]
    },
    {
     "output_type": "execute_result",
     "data": {
      "text/html": [
       "<div>\n",
       "<style scoped>\n",
       "    .dataframe tbody tr th:only-of-type {\n",
       "        vertical-align: middle;\n",
       "    }\n",
       "\n",
       "    .dataframe tbody tr th {\n",
       "        vertical-align: top;\n",
       "    }\n",
       "\n",
       "    .dataframe thead th {\n",
       "        text-align: right;\n",
       "    }\n",
       "</style>\n",
       "<table border=\"1\" class=\"dataframe\">\n",
       "  <thead>\n",
       "    <tr style=\"text-align: right;\">\n",
       "      <th></th>\n",
       "      <th>label</th>\n",
       "      <th>text</th>\n",
       "    </tr>\n",
       "  </thead>\n",
       "  <tbody>\n",
       "    <tr>\n",
       "      <th>3686</th>\n",
       "      <td>positive</td>\n",
       "      <td>вот смешно!)</td>\n",
       "    </tr>\n",
       "    <tr>\n",
       "      <th>1143</th>\n",
       "      <td>neutral</td>\n",
       "      <td>Все социальные отношения строятся на лжи. Начн...</td>\n",
       "    </tr>\n",
       "    <tr>\n",
       "      <th>2077</th>\n",
       "      <td>neutral</td>\n",
       "      <td>Если победит невежество, то меня первого спаля...</td>\n",
       "    </tr>\n",
       "  </tbody>\n",
       "</table>\n",
       "</div>"
      ],
      "text/plain": [
       "         label                                               text\n",
       "3686  positive                                       вот смешно!)\n",
       "1143   neutral  Все социальные отношения строятся на лжи. Начн...\n",
       "2077   neutral  Если победит невежество, то меня первого спаля..."
      ]
     },
     "metadata": {},
     "execution_count": 27
    }
   ],
   "execution_count": null
  },
  {
   "metadata": {},
   "source": [
    "rusent_random.label.value_counts()"
   ],
   "cell_type": "code",
   "outputs": [
    {
     "output_type": "execute_result",
     "data": {
      "text/plain": [
       "neutral     8323\n",
       "positive    4635\n",
       "skip        3190\n",
       "speech      2826\n",
       "negative    2294\n",
       "Name: label, dtype: int64"
      ]
     },
     "metadata": {},
     "execution_count": 28
    }
   ],
   "execution_count": null
  },
  {
   "metadata": {},
   "source": [
    "pd.options.display.max_colwidth = 300"
   ],
   "cell_type": "code",
   "outputs": [],
   "execution_count": null
  },
  {
   "metadata": {},
   "source": [
    "rusent_random.groupby(\"label\").sample(3)"
   ],
   "cell_type": "code",
   "outputs": [
    {
     "output_type": "execute_result",
     "data": {
      "text/html": [
       "<div>\n",
       "<style scoped>\n",
       "    .dataframe tbody tr th:only-of-type {\n",
       "        vertical-align: middle;\n",
       "    }\n",
       "\n",
       "    .dataframe tbody tr th {\n",
       "        vertical-align: top;\n",
       "    }\n",
       "\n",
       "    .dataframe thead th {\n",
       "        text-align: right;\n",
       "    }\n",
       "</style>\n",
       "<table border=\"1\" class=\"dataframe\">\n",
       "  <thead>\n",
       "    <tr style=\"text-align: right;\">\n",
       "      <th></th>\n",
       "      <th>label</th>\n",
       "      <th>text</th>\n",
       "    </tr>\n",
       "  </thead>\n",
       "  <tbody>\n",
       "    <tr>\n",
       "      <th>226</th>\n",
       "      <td>negative</td>\n",
       "      <td>\\nРебята мы ведь можем по 4 часа в день трудиться. нас рабски используют.Платят медный грош или совсем забывают заплатить.</td>\n",
       "    </tr>\n",
       "    <tr>\n",
       "      <th>140</th>\n",
       "      <td>negative</td>\n",
       "      <td>Раньше слово \"ЛЮБЛЮ\" было, как платье от Коко Шанель. Теперь, как дешевая майка с вьетнамского рынка</td>\n",
       "    </tr>\n",
       "    <tr>\n",
       "      <th>19127</th>\n",
       "      <td>negative</td>\n",
       "      <td>Бедный Влад..</td>\n",
       "    </tr>\n",
       "    <tr>\n",
       "      <th>906</th>\n",
       "      <td>neutral</td>\n",
       "      <td>После работы посидел</td>\n",
       "    </tr>\n",
       "    <tr>\n",
       "      <th>14041</th>\n",
       "      <td>neutral</td>\n",
       "      <td>ФУТБОЛЬЧИК МАЛЬЧИКИ ПОХОДЯТ НА КАЧКОВ</td>\n",
       "    </tr>\n",
       "    <tr>\n",
       "      <th>3830</th>\n",
       "      <td>neutral</td>\n",
       "      <td>Ребят, кто оформлял визу в Европу, а именно в Италию, Поделитесь контактами хорошего проверенного визового центра, пожалуйста! ASAP! 🙏🙏🙏</td>\n",
       "    </tr>\n",
       "    <tr>\n",
       "      <th>2342</th>\n",
       "      <td>positive</td>\n",
       "      <td>наконецто пятница и мы уежаем в Харьков...STREET WORKOUT...!!!</td>\n",
       "    </tr>\n",
       "    <tr>\n",
       "      <th>20865</th>\n",
       "      <td>positive</td>\n",
       "      <td>Верь в себя ;)</td>\n",
       "    </tr>\n",
       "    <tr>\n",
       "      <th>16093</th>\n",
       "      <td>positive</td>\n",
       "      <td>жду тебя, как воробей лета!</td>\n",
       "    </tr>\n",
       "    <tr>\n",
       "      <th>6728</th>\n",
       "      <td>skip</td>\n",
       "      <td>з прошедчим</td>\n",
       "    </tr>\n",
       "    <tr>\n",
       "      <th>3794</th>\n",
       "      <td>skip</td>\n",
       "      <td>чим маешся?</td>\n",
       "    </tr>\n",
       "    <tr>\n",
       "      <th>16156</th>\n",
       "      <td>skip</td>\n",
       "      <td>Шел, говорят, к успеху шоколад :(</td>\n",
       "    </tr>\n",
       "    <tr>\n",
       "      <th>9132</th>\n",
       "      <td>speech</td>\n",
       "      <td>С днём рождения, Настёна, поздравляю!\\nВ личный праздник от души тебе желаю:\\nЖить на полную катушку без оглядки,\\nПусть удача не играет с тобой в прятки.\\n\\nПусть доходною работа твоя будет,\\nПоцелуями любимый пусть будит.\\nКаждый день пусть будет ярок и не скушен,\\nВетер счастья будет пусть те...</td>\n",
       "    </tr>\n",
       "    <tr>\n",
       "      <th>6141</th>\n",
       "      <td>speech</td>\n",
       "      <td>С днём рождения!:)</td>\n",
       "    </tr>\n",
       "    <tr>\n",
       "      <th>11186</th>\n",
       "      <td>speech</td>\n",
       "      <td>С новым годом дорогая***) люблю скучаю**)</td>\n",
       "    </tr>\n",
       "  </tbody>\n",
       "</table>\n",
       "</div>"
      ],
      "text/plain": [
       "          label                                                                                                                                                                                                                                                                                                         text\n",
       "226    negative                                                                                                                                                                                   \\nРебята мы ведь можем по 4 часа в день трудиться. нас рабски используют.Платят медный грош или совсем забывают заплатить.\n",
       "140    negative                                                                                                                                                                                                         Раньше слово \"ЛЮБЛЮ\" было, как платье от Коко Шанель. Теперь, как дешевая майка с вьетнамского рынка\n",
       "19127  negative                                                                                                                                                                                                                                                                                                Бедный Влад..\n",
       "906     neutral                                                                                                                                                                                                                                                                                         После работы посидел\n",
       "14041   neutral                                                                                                                                                                                                                                                                        ФУТБОЛЬЧИК МАЛЬЧИКИ ПОХОДЯТ НА КАЧКОВ\n",
       "3830    neutral                                                                                                                                                                     Ребят, кто оформлял визу в Европу, а именно в Италию, Поделитесь контактами хорошего проверенного визового центра, пожалуйста! ASAP! 🙏🙏🙏\n",
       "2342   positive                                                                                                                                                                                                                                               наконецто пятница и мы уежаем в Харьков...STREET WORKOUT...!!!\n",
       "20865  positive                                                                                                                                                                                                                                                                                               Верь в себя ;)\n",
       "16093  positive                                                                                                                                                                                                                                                                                  жду тебя, как воробей лета!\n",
       "6728       skip                                                                                                                                                                                                                                                                                                  з прошедчим\n",
       "3794       skip                                                                                                                                                                                                                                                                                                  чим маешся?\n",
       "16156      skip                                                                                                                                                                                                                                                                            Шел, говорят, к успеху шоколад :(\n",
       "9132     speech  С днём рождения, Настёна, поздравляю!\\nВ личный праздник от души тебе желаю:\\nЖить на полную катушку без оглядки,\\nПусть удача не играет с тобой в прятки.\\n\\nПусть доходною работа твоя будет,\\nПоцелуями любимый пусть будит.\\nКаждый день пусть будет ярок и не скушен,\\nВетер счастья будет пусть те...\n",
       "6141     speech                                                                                                                                                                                                                                                                                           С днём рождения!:)\n",
       "11186    speech                                                                                                                                                                                                                                                                    С новым годом дорогая***) люблю скучаю**)"
      ]
     },
     "metadata": {},
     "execution_count": 30
    }
   ],
   "execution_count": null
  },
  {
   "metadata": {},
   "source": [
    "rusent_active.label.value_counts()"
   ],
   "cell_type": "code",
   "outputs": [
    {
     "output_type": "execute_result",
     "data": {
      "text/plain": [
       "neutral     2977\n",
       "positive    1475\n",
       "negative    1360\n",
       "skip         904\n",
       "speech       234\n",
       "Name: label, dtype: int64"
      ]
     },
     "metadata": {},
     "execution_count": 31
    }
   ],
   "execution_count": null
  },
  {
   "metadata": {},
   "source": [
    "rusent_data = pd.concat([rusent_active, rusent_random], ignore_index=True)\n",
    "rusent_data = rusent_data[rusent_data.label.apply(lambda x: x in {\"neutral\", \"negative\", \"positive\"})].copy()\n",
    "rusent_data.label.value_counts()"
   ],
   "cell_type": "code",
   "outputs": [
    {
     "output_type": "execute_result",
     "data": {
      "text/plain": [
       "neutral     11300\n",
       "positive     6110\n",
       "negative     3654\n",
       "Name: label, dtype: int64"
      ]
     },
     "metadata": {},
     "execution_count": 32
    }
   ],
   "execution_count": null
  },
  {
   "metadata": {},
   "source": [
    "rusent_data[\"source\"] = \"rusentiment\""
   ],
   "cell_type": "code",
   "outputs": [],
   "execution_count": null
  },
  {
   "metadata": {},
   "source": [
    "## Kaggle data"
   ],
   "cell_type": "markdown"
  },
  {
   "metadata": {},
   "source": [
    "kaggle_df = pd.read_json(\"/gd/MyDrive/datasets/nlp/sentiment/kaggle-sentiment-analysis-in-russian/train.json\")\n",
    "print(kaggle_df.shape)"
   ],
   "cell_type": "code",
   "outputs": [
    {
     "output_type": "stream",
     "name": "stdout",
     "text": [
      "(8263, 3)\n"
     ]
    }
   ],
   "execution_count": null
  },
  {
   "metadata": {},
   "source": [
    "kaggle_df.sentiment.value_counts()"
   ],
   "cell_type": "code",
   "outputs": [
    {
     "output_type": "execute_result",
     "data": {
      "text/plain": [
       "neutral     4034\n",
       "positive    2795\n",
       "negative    1434\n",
       "Name: sentiment, dtype: int64"
      ]
     },
     "metadata": {},
     "execution_count": 35
    }
   ],
   "execution_count": null
  },
  {
   "metadata": {},
   "source": [
    "kaggle_df.sample(3)"
   ],
   "cell_type": "code",
   "outputs": [
    {
     "output_type": "execute_result",
     "data": {
      "text/html": [
       "<div>\n",
       "<style scoped>\n",
       "    .dataframe tbody tr th:only-of-type {\n",
       "        vertical-align: middle;\n",
       "    }\n",
       "\n",
       "    .dataframe tbody tr th {\n",
       "        vertical-align: top;\n",
       "    }\n",
       "\n",
       "    .dataframe thead th {\n",
       "        text-align: right;\n",
       "    }\n",
       "</style>\n",
       "<table border=\"1\" class=\"dataframe\">\n",
       "  <thead>\n",
       "    <tr style=\"text-align: right;\">\n",
       "      <th></th>\n",
       "      <th>text</th>\n",
       "      <th>id</th>\n",
       "      <th>sentiment</th>\n",
       "    </tr>\n",
       "  </thead>\n",
       "  <tbody>\n",
       "    <tr>\n",
       "      <th>2934</th>\n",
       "      <td>Астана. 28 декабря. Kazakhstan Today - Движение поездов на участке Караганда - Астана, нарушенное из-за схода электровоза и 12 грузовых вагонов, восстановлено, сообщила пресс-служба АО \"НК \"Казакстан темір жолы\".\\n\"27 декабря текущего года в 23.00 движение поездов по станции Бабатай на участке К...</td>\n",
       "      <td>4988</td>\n",
       "      <td>neutral</td>\n",
       "    </tr>\n",
       "    <tr>\n",
       "      <th>4255</th>\n",
       "      <td>\\n\\nВладельцы старых авто смогут сдать транспортное средство категории М1 (легковой автомобиль) на дальнейшую утилизацию и взамен получить денежную компенсацию, сообщает primeminister.kz. Стоит отметить, что транспортное средство будет оцениваться по двум категориям: полной комплектации – 150 ты...</td>\n",
       "      <td>6309</td>\n",
       "      <td>positive</td>\n",
       "    </tr>\n",
       "    <tr>\n",
       "      <th>4993</th>\n",
       "      <td>С декабря ОТЛК формирует контейнерные поезда по новому маршруту Гамбург - Чунцин в направлении Европа-Китай на еженедельной основе, говорится в сообщении. \\n \\n У ОАО \"Российские железные дороги\" 99,84% акций в ОТЛК, у АО \"Национальная компания \"Казахстан темир жолы\" (Казахстанские железные доро...</td>\n",
       "      <td>7047</td>\n",
       "      <td>neutral</td>\n",
       "    </tr>\n",
       "  </tbody>\n",
       "</table>\n",
       "</div>"
      ],
      "text/plain": [
       "                                                                                                                                                                                                                                                                                                             text  ...  sentiment\n",
       "2934  Астана. 28 декабря. Kazakhstan Today - Движение поездов на участке Караганда - Астана, нарушенное из-за схода электровоза и 12 грузовых вагонов, восстановлено, сообщила пресс-служба АО \"НК \"Казакстан темір жолы\".\\n\"27 декабря текущего года в 23.00 движение поездов по станции Бабатай на участке К...  ...    neutral\n",
       "4255  \\n\\nВладельцы старых авто смогут сдать транспортное средство категории М1 (легковой автомобиль) на дальнейшую утилизацию и взамен получить денежную компенсацию, сообщает primeminister.kz. Стоит отметить, что транспортное средство будет оцениваться по двум категориям: полной комплектации – 150 ты...  ...   positive\n",
       "4993  С декабря ОТЛК формирует контейнерные поезда по новому маршруту Гамбург - Чунцин в направлении Европа-Китай на еженедельной основе, говорится в сообщении. \\n \\n У ОАО \"Российские железные дороги\" 99,84% акций в ОТЛК, у АО \"Национальная компания \"Казахстан темир жолы\" (Казахстанские железные доро...  ...    neutral\n",
       "\n",
       "[3 rows x 3 columns]"
      ]
     },
     "metadata": {},
     "execution_count": 36
    }
   ],
   "execution_count": null
  },
  {
   "metadata": {},
   "source": [
    "kaggle_data = kaggle_df[[\"text\", \"sentiment\"]].copy()\n",
    "kaggle_data.columns = [\"text\", \"label\"]"
   ],
   "cell_type": "code",
   "outputs": [],
   "execution_count": null
  },
  {
   "metadata": {},
   "source": [
    "kaggle_data[\"source\"] = \"kaggle_news\""
   ],
   "cell_type": "code",
   "outputs": [],
   "execution_count": null
  },
  {
   "metadata": {},
   "source": [
    "## RuReviews"
   ],
   "cell_type": "markdown"
  },
  {
   "metadata": {},
   "source": [
    "rureviews_data = pd.read_csv(\n",
    "    \"/gd/MyDrive/datasets/nlp/sentiment/rureviews-women-clothing-accessories.3-class.balanced.csv\",\n",
    "    sep=\"\\t\",\n",
    ")\n",
    "print(rureviews_data.shape)\n",
    "print(rureviews_data.sentiment.value_counts())\n",
    "rureviews_data.sample(3)"
   ],
   "cell_type": "code",
   "outputs": [
    {
     "output_type": "stream",
     "name": "stdout",
     "text": [
      "(90000, 2)\n",
      "neautral    30000\n",
      "negative    30000\n",
      "positive    30000\n",
      "Name: sentiment, dtype: int64\n"
     ]
    },
    {
     "output_type": "execute_result",
     "data": {
      "text/html": [
       "<div>\n",
       "<style scoped>\n",
       "    .dataframe tbody tr th:only-of-type {\n",
       "        vertical-align: middle;\n",
       "    }\n",
       "\n",
       "    .dataframe tbody tr th {\n",
       "        vertical-align: top;\n",
       "    }\n",
       "\n",
       "    .dataframe thead th {\n",
       "        text-align: right;\n",
       "    }\n",
       "</style>\n",
       "<table border=\"1\" class=\"dataframe\">\n",
       "  <thead>\n",
       "    <tr style=\"text-align: right;\">\n",
       "      <th></th>\n",
       "      <th>review</th>\n",
       "      <th>sentiment</th>\n",
       "    </tr>\n",
       "  </thead>\n",
       "  <tbody>\n",
       "    <tr>\n",
       "      <th>76394</th>\n",
       "      <td>За свои деньги отлично. На рост 170 подошли. Отлично тянутся</td>\n",
       "      <td>positive</td>\n",
       "    </tr>\n",
       "    <tr>\n",
       "      <th>73217</th>\n",
       "      <td>Футболка, хорошего качества, дошла быстро! спасибо!</td>\n",
       "      <td>positive</td>\n",
       "    </tr>\n",
       "    <tr>\n",
       "      <th>74278</th>\n",
       "      <td>заказом довольна за такие деньги местами нитки торчат но все швы прошиты правда пакет пришел порваный но вещь не повредилась</td>\n",
       "      <td>positive</td>\n",
       "    </tr>\n",
       "  </tbody>\n",
       "</table>\n",
       "</div>"
      ],
      "text/plain": [
       "                                                                                                                             review sentiment\n",
       "76394                                                                 За свои деньги отлично. На рост 170 подошли. Отлично тянутся   positive\n",
       "73217                                                                           Футболка, хорошего качества, дошла быстро! спасибо!  positive\n",
       "74278  заказом довольна за такие деньги местами нитки торчат но все швы прошиты правда пакет пришел порваный но вещь не повредилась  positive"
      ]
     },
     "metadata": {},
     "execution_count": 39
    }
   ],
   "execution_count": null
  },
  {
   "metadata": {},
   "source": [
    "rureviews_data.columns = [\"text\", \"label\"]\n",
    "\n",
    "\n",
    "def foo(x):\n",
    "    if x == \"neautral\":\n",
    "        return \"neutral\"\n",
    "    return x\n",
    "\n",
    "\n",
    "rureviews_data.label = rureviews_data.label.apply(foo)\n",
    "rureviews_data.label.value_counts()"
   ],
   "cell_type": "code",
   "outputs": [
    {
     "output_type": "execute_result",
     "data": {
      "text/plain": [
       "negative    30000\n",
       "positive    30000\n",
       "neutral     30000\n",
       "Name: label, dtype: int64"
      ]
     },
     "metadata": {},
     "execution_count": 40
    }
   ],
   "execution_count": null
  },
  {
   "metadata": {},
   "source": [
    "rureviews_data[\"source\"] = \"rureviews\""
   ],
   "cell_type": "code",
   "outputs": [],
   "execution_count": null
  },
  {
   "metadata": {},
   "source": [
    "# Join data"
   ],
   "cell_type": "markdown"
  },
  {
   "metadata": {},
   "source": [
    "all_dfs = [\n",
    "    senti_data_tele,\n",
    "    senti_data_banks,\n",
    "    tweet_data,\n",
    "    linis_data,\n",
    "    rusent_data,\n",
    "    kaggle_data,\n",
    "    rureviews_data,\n",
    "]"
   ],
   "cell_type": "code",
   "outputs": [],
   "execution_count": null
  },
  {
   "metadata": {},
   "source": [
    "full_sentiment_data = pd.concat([df[[\"text\", \"label\", \"source\"]] for df in all_dfs], ignore_index=True).dropna()"
   ],
   "cell_type": "code",
   "outputs": [],
   "execution_count": null
  },
  {
   "metadata": {},
   "source": [
    "print(full_sentiment_data.shape)\n",
    "full_sentiment_data.source.value_counts()"
   ],
   "cell_type": "code",
   "outputs": [
    {
     "output_type": "stream",
     "name": "stdout",
     "text": [
      "(685605, 3)\n"
     ]
    },
    {
     "output_type": "execute_result",
     "data": {
      "text/plain": [
       "mokoron                  519592\n",
       "rureviews                 90000\n",
       "linis                     26752\n",
       "rusentiment               21064\n",
       "SentiRuEval2016_banks     10725\n",
       "SentiRuEval2016_tele       9209\n",
       "kaggle_news                8263\n",
       "Name: source, dtype: int64"
      ]
     },
     "metadata": {},
     "execution_count": 63
    }
   ],
   "execution_count": null
  },
  {
   "metadata": {},
   "source": [
    "full_sentiment_data.label.value_counts()"
   ],
   "cell_type": "code",
   "outputs": [
    {
     "output_type": "execute_result",
     "data": {
      "text/plain": [
       "neutral     364321\n",
       "negative    163164\n",
       "positive    158120\n",
       "Name: label, dtype: int64"
      ]
     },
     "metadata": {},
     "execution_count": 64
    }
   ],
   "execution_count": null
  },
  {
   "metadata": {},
   "source": [
    "def do_split(x):\n",
    "    if random.random() < 0.8:\n",
    "        return \"train\"\n",
    "    if random.random() < 0.5:\n",
    "        return \"dev\"\n",
    "    return \"test\"\n",
    "\n",
    "\n",
    "random.seed(1)\n",
    "full_sentiment_data[\"split\"] = full_sentiment_data.text.apply(do_split)"
   ],
   "cell_type": "code",
   "outputs": [],
   "execution_count": null
  },
  {
   "metadata": {},
   "source": [
    "full_sentiment_data[\"split\"].head(20)"
   ],
   "cell_type": "code",
   "outputs": [
    {
     "output_type": "execute_result",
     "data": {
      "text/plain": [
       "0     train\n",
       "1      test\n",
       "2     train\n",
       "3     train\n",
       "4     train\n",
       "5     train\n",
       "6     train\n",
       "7     train\n",
       "8     train\n",
       "9       dev\n",
       "10    train\n",
       "11    train\n",
       "12    train\n",
       "13    train\n",
       "14    train\n",
       "15     test\n",
       "16    train\n",
       "17    train\n",
       "18    train\n",
       "19      dev\n",
       "Name: split, dtype: object"
      ]
     },
     "metadata": {},
     "execution_count": 66
    }
   ],
   "execution_count": null
  },
  {
   "metadata": {},
   "source": [
    "```\n",
    "0     train\n",
    "1      test\n",
    "2     train\n",
    "3     train\n",
    "4     train\n",
    "5     train\n",
    "6     train\n",
    "7     train\n",
    "8     train\n",
    "9       dev\n",
    "10    train\n",
    "11    train\n",
    "12    train\n",
    "13    train\n",
    "14    train\n",
    "15     test\n",
    "16    train\n",
    "17    train\n",
    "18    train\n",
    "19      dev```"
   ],
   "cell_type": "markdown"
  },
  {
   "metadata": {},
   "source": [
    "full_sentiment_data.to_csv(\"sentiment_data.tsv\", sep=\"\\t\", index=None)"
   ],
   "cell_type": "code",
   "outputs": [],
   "execution_count": null
  },
  {
   "metadata": {},
   "source": [
    "# Load the joint data"
   ],
   "cell_type": "markdown"
  },
  {
   "metadata": {},
   "source": [
    "full_sentiment_data = pd.read_csv(\"/gd/MyDrive/datasets/nlp/sentiment/joint_sentiment_data.tsv\", sep=\"\\t\")"
   ],
   "cell_type": "code",
   "outputs": [],
   "execution_count": null
  },
  {
   "metadata": {},
   "source": [
    "dev_balanced = (\n",
    "    full_sentiment_data[full_sentiment_data.split == \"dev\"].groupby([\"source\", \"label\"]).sample(70, random_state=1)\n",
    ")\n",
    "torch_dev_balanced = Dataset.from_pandas(dev_balanced[[\"text\", \"label\"]].reset_index(drop=True))"
   ],
   "cell_type": "code",
   "outputs": [],
   "execution_count": null
  },
  {
   "metadata": {},
   "source": [
    "train_data = full_sentiment_data[full_sentiment_data.split == \"train\"].dropna().reset_index(drop=True)\n",
    "train_data.shape"
   ],
   "cell_type": "code",
   "outputs": [
    {
     "output_type": "execute_result",
     "data": {
      "text/plain": [
       "(548422, 4)"
      ]
     },
     "metadata": {},
     "execution_count": 6
    }
   ],
   "execution_count": null
  },
  {
   "metadata": {},
   "source": [
    "torch_data = DatasetDict(\n",
    "    {\n",
    "        \"train\": Dataset.from_pandas(train_data[[\"text\", \"label\"]].reset_index(drop=True)),\n",
    "        \"dev\": Dataset.from_pandas(\n",
    "            full_sentiment_data[full_sentiment_data.split == \"dev\"][[\"text\", \"label\"]].reset_index(drop=True)\n",
    "        ),\n",
    "    }\n",
    ")\n",
    "torch_data"
   ],
   "cell_type": "code",
   "outputs": [
    {
     "output_type": "execute_result",
     "data": {
      "text/plain": [
       "DatasetDict({\n",
       "    train: Dataset({\n",
       "        features: ['text', 'label'],\n",
       "        num_rows: 548422\n",
       "    })\n",
       "    dev: Dataset({\n",
       "        features: ['text', 'label'],\n",
       "        num_rows: 68676\n",
       "    })\n",
       "})"
      ]
     },
     "metadata": {},
     "execution_count": 7
    }
   ],
   "execution_count": null
  },
  {
   "metadata": {},
   "source": [
    "# Modelling"
   ],
   "cell_type": "markdown"
  },
  {
   "metadata": {},
   "source": [
    "all_labels = [\"negative\", \"neutral\", \"positive\"]"
   ],
   "cell_type": "code",
   "outputs": [],
   "execution_count": null
  },
  {
   "metadata": {},
   "source": [
    "model_checkpoint = \"cointegrated/rubert-tiny\""
   ],
   "cell_type": "code",
   "outputs": [],
   "execution_count": null
  },
  {
   "metadata": {},
   "source": [
    "tokenizer = AutoTokenizer.from_pretrained(model_checkpoint)"
   ],
   "cell_type": "code",
   "outputs": [],
   "execution_count": null
  },
  {
   "metadata": {},
   "source": [
    "data_collator = DataCollatorWithPadding(tokenizer)"
   ],
   "cell_type": "code",
   "outputs": [],
   "execution_count": null
  },
  {
   "metadata": {},
   "source": [
    "def cleanup():\n",
    "    gc.collect()\n",
    "    torch.cuda.empty_cache()\n",
    "\n",
    "\n",
    "cleanup()"
   ],
   "cell_type": "code",
   "outputs": [],
   "execution_count": null
  },
  {
   "metadata": {},
   "source": [
    "def evaluate_model(model, dev_dataloader, verbose=False, labels=None):\n",
    "    facts, preds = predict_with_model(model, dev_dataloader)\n",
    "    pfrs, aucs = get_classification_report(facts, preds, labels)\n",
    "    if verbose:\n",
    "        display(pfrs)\n",
    "        print(\"aucs:\", aucs, np.mean(aucs))\n",
    "    return np.mean(aucs)\n",
    "\n",
    "\n",
    "def predict_with_model(model, dataloader):\n",
    "    preds = []\n",
    "    facts = []\n",
    "\n",
    "    for batch in tqdm(dataloader):\n",
    "        facts.append(batch.labels.cpu().numpy())\n",
    "        batch = batch.to(model.device)\n",
    "        with torch.no_grad():\n",
    "            pr = model(\n",
    "                input_ids=batch.input_ids,\n",
    "                attention_mask=batch.attention_mask,\n",
    "                token_type_ids=batch.token_type_ids,\n",
    "            )\n",
    "        preds.append(torch.softmax(pr.logits, -1).cpu().numpy())\n",
    "    facts = np.concatenate(facts)\n",
    "    preds = np.concatenate(preds)\n",
    "    return facts, preds\n",
    "\n",
    "\n",
    "def get_classification_report(facts, preds, labels=None):\n",
    "    pfrs = pd.DataFrame(\n",
    "        dict(\n",
    "            zip(\n",
    "                [\"p\", \"r\", \"f\", \"s\"],\n",
    "                precision_recall_fscore_support(facts, preds.argmax(1)),\n",
    "            )\n",
    "        )\n",
    "    )\n",
    "    aucs = [roc_auc_score(facts == i, preds[:, i]) for i in set(facts)]\n",
    "    pfrs[\"a\"] = aucs\n",
    "    pfrs = pfrs.append(pfrs.mean(), ignore_index=True)\n",
    "    if labels is not None:\n",
    "        pfrs.index = list(labels) + [\"mean\"]\n",
    "    return pfrs, aucs"
   ],
   "cell_type": "code",
   "outputs": [],
   "execution_count": null
  },
  {
   "metadata": {},
   "source": [
    "torch_dev_balanced_tokenized = torch_dev_balanced.map(\n",
    "    lambda x: tokenizer(x[\"text\"], truncation=True),\n",
    "    batched=True,\n",
    "    remove_columns=[\"text\"],\n",
    ").map(lambda x: {\"label\": [all_labels.index(xl) for xl in x[\"label\"]]}, batched=True)\n",
    "\n",
    "torch_dev_balanced_loader = DataLoader(\n",
    "    torch_dev_balanced_tokenized,\n",
    "    batch_size=64,\n",
    "    drop_last=False,\n",
    "    shuffle=False,\n",
    "    num_workers=0,\n",
    "    collate_fn=data_collator,\n",
    ")"
   ],
   "cell_type": "code",
   "outputs": [
    {
     "output_type": "display_data",
     "data": {
      "application/vnd.jupyter.widget-view+json": {
       "model_id": "37596a0a5207491a9820f377e26614d0",
       "version_minor": 0,
       "version_major": 2
      },
      "text/plain": [
       "  0%|          | 0/2 [00:00<?, ?ba/s]"
      ]
     },
     "metadata": {}
    },
    {
     "output_type": "display_data",
     "data": {
      "application/vnd.jupyter.widget-view+json": {
       "model_id": "a5465269d8674da39588a776efe37280",
       "version_minor": 0,
       "version_major": 2
      },
      "text/plain": [
       "  0%|          | 0/2 [00:00<?, ?ba/s]"
      ]
     },
     "metadata": {}
    }
   ],
   "execution_count": null
  },
  {
   "metadata": {},
   "source": [
    "data_tokenized = torch_data.map(\n",
    "    lambda x: tokenizer(x[\"text\"], truncation=True),\n",
    "    batched=True,\n",
    "    remove_columns=[\"text\"],\n",
    ")\n",
    "data_tokenized = data_tokenized.map(lambda x: {\"label\": [all_labels.index(xl) for xl in x[\"label\"]]}, batched=True)"
   ],
   "cell_type": "code",
   "outputs": [
    {
     "output_type": "display_data",
     "data": {
      "application/vnd.jupyter.widget-view+json": {
       "model_id": "ed8b7c27336244c2b771381ac88a5f66",
       "version_minor": 0,
       "version_major": 2
      },
      "text/plain": [
       "  0%|          | 0/549 [00:00<?, ?ba/s]"
      ]
     },
     "metadata": {}
    },
    {
     "output_type": "display_data",
     "data": {
      "application/vnd.jupyter.widget-view+json": {
       "model_id": "6145ec93464b4a44adbc5531d58bd750",
       "version_minor": 0,
       "version_major": 2
      },
      "text/plain": [
       "  0%|          | 0/69 [00:00<?, ?ba/s]"
      ]
     },
     "metadata": {}
    },
    {
     "output_type": "display_data",
     "data": {
      "application/vnd.jupyter.widget-view+json": {
       "model_id": "d5d43924f37d4303a5587b2237353462",
       "version_minor": 0,
       "version_major": 2
      },
      "text/plain": [
       "  0%|          | 0/549 [00:00<?, ?ba/s]"
      ]
     },
     "metadata": {}
    },
    {
     "output_type": "display_data",
     "data": {
      "application/vnd.jupyter.widget-view+json": {
       "model_id": "7da13921a44c4de8aaa125d7b630f46d",
       "version_minor": 0,
       "version_major": 2
      },
      "text/plain": [
       "  0%|          | 0/69 [00:00<?, ?ba/s]"
      ]
     },
     "metadata": {}
    }
   ],
   "execution_count": null
  },
  {
   "metadata": {},
   "source": [
    "# The first model: unbalanced data"
   ],
   "cell_type": "markdown"
  },
  {
   "metadata": {},
   "source": [
    "batch_size = 64\n",
    "\n",
    "train_dataloader = DataLoader(\n",
    "    data_tokenized[\"train\"],\n",
    "    batch_size=batch_size,\n",
    "    drop_last=False,\n",
    "    shuffle=True,\n",
    "    num_workers=0,\n",
    "    collate_fn=data_collator,\n",
    ")\n",
    "dev_dataloader = DataLoader(\n",
    "    data_tokenized[\"dev\"],\n",
    "    batch_size=batch_size,\n",
    "    drop_last=False,\n",
    "    shuffle=True,\n",
    "    num_workers=0,\n",
    "    collate_fn=data_collator,\n",
    ")"
   ],
   "cell_type": "code",
   "outputs": [],
   "execution_count": null
  },
  {
   "metadata": {},
   "source": [
    "evaluate_model(model, dev_dataloader, verbose=True)"
   ],
   "cell_type": "code",
   "outputs": [
    {
     "output_type": "display_data",
     "data": {
      "application/vnd.jupyter.widget-view+json": {
       "model_id": "00202c8470f94a8f8a9e53b4e48dbac3",
       "version_minor": 0,
       "version_major": 2
      },
      "text/plain": [
       "  0%|          | 0/1074 [00:00<?, ?it/s]"
      ]
     },
     "metadata": {}
    },
    {
     "output_type": "display_data",
     "data": {
      "text/html": [
       "<div>\n",
       "<style scoped>\n",
       "    .dataframe tbody tr th:only-of-type {\n",
       "        vertical-align: middle;\n",
       "    }\n",
       "\n",
       "    .dataframe tbody tr th {\n",
       "        vertical-align: top;\n",
       "    }\n",
       "\n",
       "    .dataframe thead th {\n",
       "        text-align: right;\n",
       "    }\n",
       "</style>\n",
       "<table border=\"1\" class=\"dataframe\">\n",
       "  <thead>\n",
       "    <tr style=\"text-align: right;\">\n",
       "      <th></th>\n",
       "      <th>p</th>\n",
       "      <th>r</th>\n",
       "      <th>f</th>\n",
       "      <th>s</th>\n",
       "    </tr>\n",
       "  </thead>\n",
       "  <tbody>\n",
       "    <tr>\n",
       "      <th>0</th>\n",
       "      <td>0.267435</td>\n",
       "      <td>0.421399</td>\n",
       "      <td>0.327210</td>\n",
       "      <td>16253.0</td>\n",
       "    </tr>\n",
       "    <tr>\n",
       "      <th>1</th>\n",
       "      <td>0.670845</td>\n",
       "      <td>0.539410</td>\n",
       "      <td>0.597991</td>\n",
       "      <td>36412.0</td>\n",
       "    </tr>\n",
       "    <tr>\n",
       "      <th>2</th>\n",
       "      <td>0.235640</td>\n",
       "      <td>0.202923</td>\n",
       "      <td>0.218061</td>\n",
       "      <td>16011.0</td>\n",
       "    </tr>\n",
       "    <tr>\n",
       "      <th>3</th>\n",
       "      <td>0.391306</td>\n",
       "      <td>0.387911</td>\n",
       "      <td>0.381087</td>\n",
       "      <td>22892.0</td>\n",
       "    </tr>\n",
       "  </tbody>\n",
       "</table>\n",
       "</div>"
      ],
      "text/plain": [
       "          p         r         f        s\n",
       "0  0.267435  0.421399  0.327210  16253.0\n",
       "1  0.670845  0.539410  0.597991  36412.0\n",
       "2  0.235640  0.202923  0.218061  16011.0\n",
       "3  0.391306  0.387911  0.381087  22892.0"
      ]
     },
     "metadata": {}
    },
    {
     "output_type": "stream",
     "name": "stdout",
     "text": [
      "aucs: [0.3868994199141944, 0.6943497260285278, 0.578275696874899] 0.5531749476058737\n"
     ]
    },
    {
     "output_type": "execute_result",
     "data": {
      "text/plain": [
       "0.5531749476058737"
      ]
     },
     "metadata": {},
     "execution_count": 98
    }
   ],
   "execution_count": null
  },
  {
   "metadata": {},
   "source": [
    "А вот после этого момента можно сразу переходить ко второй версии модели"
   ],
   "cell_type": "markdown"
  },
  {
   "metadata": {},
   "source": [
    "optimizer = torch.optim.Adam(params=model.parameters(), lr=1e-5)"
   ],
   "cell_type": "code",
   "outputs": [],
   "execution_count": null
  },
  {
   "metadata": {},
   "source": [
    "gradient_accumulation_steps = 1\n",
    "window = 500\n",
    "cleanup_step = 100\n",
    "report_step = 10000"
   ],
   "cell_type": "code",
   "outputs": [],
   "execution_count": null
  },
  {
   "metadata": {},
   "source": [
    "ewm_loss = 0"
   ],
   "cell_type": "code",
   "outputs": [],
   "execution_count": null
  },
  {
   "metadata": {},
   "source": [
    "model.train()\n",
    "cleanup()\n",
    "\n",
    "for epoch in trange(3):\n",
    "    tq = tqdm(train_dataloader)\n",
    "\n",
    "    for i, batch in enumerate(tq):\n",
    "        try:\n",
    "            batch = batch.to(model.device)\n",
    "            output = model(**batch)\n",
    "            loss = output.loss\n",
    "            loss.backward()\n",
    "        except RuntimeError as e:\n",
    "            print(\"error on step\", i, e)\n",
    "            loss = None\n",
    "            cleanup()\n",
    "            continue\n",
    "\n",
    "        if i and i % gradient_accumulation_steps == 0:\n",
    "            optimizer.step()\n",
    "            optimizer.zero_grad()\n",
    "\n",
    "        if i % cleanup_step == 0:\n",
    "            cleanup()\n",
    "\n",
    "        w = 1 / min(i + 1, window)\n",
    "        ewm_loss = ewm_loss * (1 - w) + loss.item() * w\n",
    "        tq.set_description(f\"loss: {ewm_loss:4.4f}\")\n",
    "\n",
    "        if i % report_step == 0:\n",
    "            model.eval()\n",
    "            eval_loss = evaluate_model(model, dev_dataloader, verbose=True)\n",
    "            model.train()\n",
    "            print(f\"epoch {epoch}, step {i}: train loss: {ewm_loss:4.4f}  val auc: {eval_loss}\")\n",
    "\n",
    "model.eval()\n",
    "eval_loss = evaluate_model(model, dev_dataloader, verbose=True)\n",
    "print(f\"epoch {epoch + 1}, step {i}: train loss: {ewm_loss:4.4f}  val auc: {eval_loss}\")"
   ],
   "cell_type": "code",
   "outputs": [
    {
     "output_type": "display_data",
     "data": {
      "application/vnd.jupyter.widget-view+json": {
       "model_id": "4ad60eef52794b8bb4802f175c3740d2",
       "version_minor": 0,
       "version_major": 2
      },
      "text/plain": [
       "  0%|          | 0/3 [00:00<?, ?it/s]"
      ]
     },
     "metadata": {}
    },
    {
     "output_type": "display_data",
     "data": {
      "application/vnd.jupyter.widget-view+json": {
       "model_id": "26c4f0583c2742cc8e384be34cdfd661",
       "version_minor": 0,
       "version_major": 2
      },
      "text/plain": [
       "  0%|          | 0/8570 [00:00<?, ?it/s]"
      ]
     },
     "metadata": {}
    },
    {
     "output_type": "display_data",
     "data": {
      "application/vnd.jupyter.widget-view+json": {
       "model_id": "75541e0a5a4247f69c688a55c34651c0",
       "version_minor": 0,
       "version_major": 2
      },
      "text/plain": [
       "  0%|          | 0/8570 [00:00<?, ?it/s]"
      ]
     },
     "metadata": {}
    },
    {
     "output_type": "display_data",
     "data": {
      "application/vnd.jupyter.widget-view+json": {
       "model_id": "924892e697cc47519e62c356a9d176b4",
       "version_minor": 0,
       "version_major": 2
      },
      "text/plain": [
       "  0%|          | 0/8570 [00:00<?, ?it/s]"
      ]
     },
     "metadata": {}
    },
    {
     "output_type": "display_data",
     "data": {
      "application/vnd.jupyter.widget-view+json": {
       "model_id": "14ec820bb4cb4dfa89cf6cae5f304b44",
       "version_minor": 0,
       "version_major": 2
      },
      "text/plain": [
       "  0%|          | 0/1074 [00:00<?, ?it/s]"
      ]
     },
     "metadata": {}
    },
    {
     "output_type": "display_data",
     "data": {
      "text/html": [
       "<div>\n",
       "<style scoped>\n",
       "    .dataframe tbody tr th:only-of-type {\n",
       "        vertical-align: middle;\n",
       "    }\n",
       "\n",
       "    .dataframe tbody tr th {\n",
       "        vertical-align: top;\n",
       "    }\n",
       "\n",
       "    .dataframe thead th {\n",
       "        text-align: right;\n",
       "    }\n",
       "</style>\n",
       "<table border=\"1\" class=\"dataframe\">\n",
       "  <thead>\n",
       "    <tr style=\"text-align: right;\">\n",
       "      <th></th>\n",
       "      <th>p</th>\n",
       "      <th>r</th>\n",
       "      <th>f</th>\n",
       "      <th>s</th>\n",
       "    </tr>\n",
       "  </thead>\n",
       "  <tbody>\n",
       "    <tr>\n",
       "      <th>0</th>\n",
       "      <td>0.921001</td>\n",
       "      <td>0.869378</td>\n",
       "      <td>0.894445</td>\n",
       "      <td>16253.0</td>\n",
       "    </tr>\n",
       "    <tr>\n",
       "      <th>1</th>\n",
       "      <td>0.921058</td>\n",
       "      <td>0.948149</td>\n",
       "      <td>0.934407</td>\n",
       "      <td>36412.0</td>\n",
       "    </tr>\n",
       "    <tr>\n",
       "      <th>2</th>\n",
       "      <td>0.939688</td>\n",
       "      <td>0.930298</td>\n",
       "      <td>0.934970</td>\n",
       "      <td>16011.0</td>\n",
       "    </tr>\n",
       "    <tr>\n",
       "      <th>3</th>\n",
       "      <td>0.927249</td>\n",
       "      <td>0.915942</td>\n",
       "      <td>0.921274</td>\n",
       "      <td>22892.0</td>\n",
       "    </tr>\n",
       "  </tbody>\n",
       "</table>\n",
       "</div>"
      ],
      "text/plain": [
       "          p         r         f        s\n",
       "0  0.921001  0.869378  0.894445  16253.0\n",
       "1  0.921058  0.948149  0.934407  36412.0\n",
       "2  0.939688  0.930298  0.934970  16011.0\n",
       "3  0.927249  0.915942  0.921274  22892.0"
      ]
     },
     "metadata": {}
    },
    {
     "output_type": "stream",
     "name": "stdout",
     "text": [
      "aucs: [0.9895661727076159, 0.9864192978440336, 0.9935832239563914] 0.9898562315026803\n",
      "epoch 3, step 8569: train loss: 0.1743  val auc: 0.9898562315026803\n"
     ]
    }
   ],
   "execution_count": null
  },
  {
   "metadata": {},
   "source": [
    "NEW_MODEL_NAME = \"/gd/MyDrive/models/rubert-tiny-sentiment\"\n",
    "model.save_pretrained(NEW_MODEL_NAME)\n",
    "tokenizer.save_pretrained(NEW_MODEL_NAME)"
   ],
   "cell_type": "code",
   "outputs": [
    {
     "output_type": "execute_result",
     "data": {
      "text/plain": [
       "('/gd/MyDrive/models/rubert-tiny-sentiment/tokenizer_config.json',\n",
       " '/gd/MyDrive/models/rubert-tiny-sentiment/special_tokens_map.json',\n",
       " '/gd/MyDrive/models/rubert-tiny-sentiment/vocab.txt',\n",
       " '/gd/MyDrive/models/rubert-tiny-sentiment/added_tokens.json',\n",
       " '/gd/MyDrive/models/rubert-tiny-sentiment/tokenizer.json')"
      ]
     },
     "metadata": {},
     "execution_count": 109
    }
   ],
   "execution_count": null
  },
  {
   "metadata": {},
   "source": [
    "# Evaluation"
   ],
   "cell_type": "markdown"
  },
  {
   "metadata": {},
   "source": [
    "dev_dataloader_fixed = DataLoader(\n",
    "    data_tokenized[\"dev\"],\n",
    "    batch_size=32,\n",
    "    drop_last=False,\n",
    "    shuffle=False,\n",
    "    num_workers=0,\n",
    "    collate_fn=data_collator,\n",
    ")"
   ],
   "cell_type": "code",
   "outputs": [
    {
     "output_type": "error",
     "ename": "NameError",
     "evalue": "ignored",
     "traceback": [
      "\u001b[0;31m---------------------------------------------------------------------------\u001b[0m",
      "\u001b[0;31mNameError\u001b[0m                                 Traceback (most recent call last)",
      "\u001b[0;32m<ipython-input-10-9c1330320147>\u001b[0m in \u001b[0;36m<module>\u001b[0;34m()\u001b[0m\n\u001b[0;32m----> 1\u001b[0;31m dev_dataloader_fixed = DataLoader(\n\u001b[0m\u001b[1;32m      2\u001b[0m     \u001b[0mdata_tokenized\u001b[0m\u001b[0;34m[\u001b[0m\u001b[0;34m'dev'\u001b[0m\u001b[0;34m]\u001b[0m\u001b[0;34m,\u001b[0m\u001b[0;34m\u001b[0m\u001b[0;34m\u001b[0m\u001b[0m\n\u001b[1;32m      3\u001b[0m     \u001b[0mbatch_size\u001b[0m\u001b[0;34m=\u001b[0m\u001b[0;36m32\u001b[0m\u001b[0;34m,\u001b[0m \u001b[0mdrop_last\u001b[0m\u001b[0;34m=\u001b[0m\u001b[0;32mFalse\u001b[0m\u001b[0;34m,\u001b[0m \u001b[0mshuffle\u001b[0m\u001b[0;34m=\u001b[0m\u001b[0;32mFalse\u001b[0m\u001b[0;34m,\u001b[0m \u001b[0mnum_workers\u001b[0m\u001b[0;34m=\u001b[0m\u001b[0;36m0\u001b[0m\u001b[0;34m,\u001b[0m \u001b[0mcollate_fn\u001b[0m\u001b[0;34m=\u001b[0m\u001b[0mdata_collator\u001b[0m\u001b[0;34m\u001b[0m\u001b[0;34m\u001b[0m\u001b[0m\n\u001b[1;32m      4\u001b[0m )\n",
      "\u001b[0;31mNameError\u001b[0m: name 'DataLoader' is not defined"
     ]
    }
   ],
   "execution_count": null
  },
  {
   "metadata": {},
   "source": [
    "preds = []\n",
    "facts = []\n",
    "\n",
    "for batch in tqdm(dev_dataloader_fixed):\n",
    "    facts.append(batch.labels.cpu().numpy())\n",
    "    batch = batch.to(model.device)\n",
    "    with torch.no_grad():\n",
    "        pr = model(\n",
    "            input_ids=batch.input_ids,\n",
    "            attention_mask=batch.attention_mask,\n",
    "            token_type_ids=batch.token_type_ids,\n",
    "        )\n",
    "    preds.append(torch.softmax(pr.logits, -1).cpu().numpy())\n",
    "facts = np.concatenate(facts)\n",
    "preds = np.concatenate(preds)"
   ],
   "cell_type": "code",
   "outputs": [
    {
     "output_type": "display_data",
     "data": {
      "application/vnd.jupyter.widget-view+json": {
       "model_id": "85b5336383884645914218fb75e33d10",
       "version_minor": 0,
       "version_major": 2
      },
      "text/plain": [
       "  0%|          | 0/1074 [00:00<?, ?it/s]"
      ]
     },
     "metadata": {}
    }
   ],
   "execution_count": null
  },
  {
   "metadata": {},
   "source": [
    "dev = full_sentiment_data[full_sentiment_data.split == \"dev\"].copy()\n",
    "print(dev.shape)\n",
    "assert (dev.label == [all_labels[i] for i in facts]).all()"
   ],
   "cell_type": "code",
   "outputs": [
    {
     "output_type": "stream",
     "name": "stdout",
     "text": [
      "(68676, 4)\n"
     ]
    }
   ],
   "execution_count": null
  },
  {
   "metadata": {},
   "source": [
    "dev[\"preds\"] = [all_labels[i] for i in preds.argmax(axis=1)]"
   ],
   "cell_type": "code",
   "outputs": [],
   "execution_count": null
  },
  {
   "metadata": {},
   "source": [
    "dev.groupby(\"source\").apply(\n",
    "    lambda x: pd.Series(\n",
    "        {\n",
    "            \"n\": x.shape[0],\n",
    "            \"accuracy\": accuracy_score(x.label, x.preds),\n",
    "            \"f1_macro\": f1_score(x.label, x.preds, average=\"macro\"),\n",
    "        }\n",
    "    )\n",
    ")"
   ],
   "cell_type": "code",
   "outputs": [
    {
     "output_type": "execute_result",
     "data": {
      "text/html": [
       "<div>\n",
       "<style scoped>\n",
       "    .dataframe tbody tr th:only-of-type {\n",
       "        vertical-align: middle;\n",
       "    }\n",
       "\n",
       "    .dataframe tbody tr th {\n",
       "        vertical-align: top;\n",
       "    }\n",
       "\n",
       "    .dataframe thead th {\n",
       "        text-align: right;\n",
       "    }\n",
       "</style>\n",
       "<table border=\"1\" class=\"dataframe\">\n",
       "  <thead>\n",
       "    <tr style=\"text-align: right;\">\n",
       "      <th></th>\n",
       "      <th>n</th>\n",
       "      <th>accuracy</th>\n",
       "      <th>f1_macro</th>\n",
       "    </tr>\n",
       "    <tr>\n",
       "      <th>source</th>\n",
       "      <th></th>\n",
       "      <th></th>\n",
       "      <th></th>\n",
       "    </tr>\n",
       "  </thead>\n",
       "  <tbody>\n",
       "    <tr>\n",
       "      <th>SentiRuEval2016_banks</th>\n",
       "      <td>1055.0</td>\n",
       "      <td>0.869194</td>\n",
       "      <td>0.709848</td>\n",
       "    </tr>\n",
       "    <tr>\n",
       "      <th>SentiRuEval2016_tele</th>\n",
       "      <td>937.0</td>\n",
       "      <td>0.707577</td>\n",
       "      <td>0.634077</td>\n",
       "    </tr>\n",
       "    <tr>\n",
       "      <th>kaggle_news</th>\n",
       "      <td>840.0</td>\n",
       "      <td>0.651190</td>\n",
       "      <td>0.604491</td>\n",
       "    </tr>\n",
       "    <tr>\n",
       "      <th>linis</th>\n",
       "      <td>2675.0</td>\n",
       "      <td>0.601495</td>\n",
       "      <td>0.525590</td>\n",
       "    </tr>\n",
       "    <tr>\n",
       "      <th>mokoron</th>\n",
       "      <td>51886.0</td>\n",
       "      <td>0.996203</td>\n",
       "      <td>0.996019</td>\n",
       "    </tr>\n",
       "    <tr>\n",
       "      <th>rureviews</th>\n",
       "      <td>9171.0</td>\n",
       "      <td>0.737651</td>\n",
       "      <td>0.740745</td>\n",
       "    </tr>\n",
       "    <tr>\n",
       "      <th>rusentiment</th>\n",
       "      <td>2112.0</td>\n",
       "      <td>0.643466</td>\n",
       "      <td>0.549202</td>\n",
       "    </tr>\n",
       "  </tbody>\n",
       "</table>\n",
       "</div>"
      ],
      "text/plain": [
       "                             n  accuracy  f1_macro\n",
       "source                                            \n",
       "SentiRuEval2016_banks   1055.0  0.869194  0.709848\n",
       "SentiRuEval2016_tele     937.0  0.707577  0.634077\n",
       "kaggle_news              840.0  0.651190  0.604491\n",
       "linis                   2675.0  0.601495  0.525590\n",
       "mokoron                51886.0  0.996203  0.996019\n",
       "rureviews               9171.0  0.737651  0.740745\n",
       "rusentiment             2112.0  0.643466  0.549202"
      ]
     },
     "metadata": {},
     "execution_count": 128
    }
   ],
   "execution_count": null
  },
  {
   "metadata": {},
   "source": [
    "Мораль: модель, обученная на очень несбалансированном датасете, подстраивается под свою наиболее массивную часть. Нужно попробовать пересэмплировать всё нафиг. "
   ],
   "cell_type": "markdown"
  },
  {
   "metadata": {},
   "source": [
    "resampled = (\n",
    "    dev.groupby([\"source\", \"label\"])\n",
    "    .sample(70, random_state=1)\n",
    "    .groupby(\"source\")\n",
    "    .apply(\n",
    "        lambda x: pd.Series(\n",
    "            {\n",
    "                \"n\": x.shape[0],\n",
    "                \"accuracy\": accuracy_score(x.label, x.preds),\n",
    "                \"f1_macro\": f1_score(x.label, x.preds, average=\"macro\"),\n",
    "            }\n",
    "        )\n",
    "    )\n",
    ")\n",
    "resampled"
   ],
   "cell_type": "code",
   "outputs": [
    {
     "output_type": "execute_result",
     "data": {
      "text/html": [
       "<div>\n",
       "<style scoped>\n",
       "    .dataframe tbody tr th:only-of-type {\n",
       "        vertical-align: middle;\n",
       "    }\n",
       "\n",
       "    .dataframe tbody tr th {\n",
       "        vertical-align: top;\n",
       "    }\n",
       "\n",
       "    .dataframe thead th {\n",
       "        text-align: right;\n",
       "    }\n",
       "</style>\n",
       "<table border=\"1\" class=\"dataframe\">\n",
       "  <thead>\n",
       "    <tr style=\"text-align: right;\">\n",
       "      <th></th>\n",
       "      <th>n</th>\n",
       "      <th>accuracy</th>\n",
       "      <th>f1_macro</th>\n",
       "    </tr>\n",
       "    <tr>\n",
       "      <th>source</th>\n",
       "      <th></th>\n",
       "      <th></th>\n",
       "      <th></th>\n",
       "    </tr>\n",
       "  </thead>\n",
       "  <tbody>\n",
       "    <tr>\n",
       "      <th>SentiRuEval2016_banks</th>\n",
       "      <td>210.0</td>\n",
       "      <td>0.676190</td>\n",
       "      <td>0.643551</td>\n",
       "    </tr>\n",
       "    <tr>\n",
       "      <th>SentiRuEval2016_tele</th>\n",
       "      <td>210.0</td>\n",
       "      <td>0.585714</td>\n",
       "      <td>0.574823</td>\n",
       "    </tr>\n",
       "    <tr>\n",
       "      <th>kaggle_news</th>\n",
       "      <td>210.0</td>\n",
       "      <td>0.552381</td>\n",
       "      <td>0.539622</td>\n",
       "    </tr>\n",
       "    <tr>\n",
       "      <th>linis</th>\n",
       "      <td>210.0</td>\n",
       "      <td>0.480952</td>\n",
       "      <td>0.460348</td>\n",
       "    </tr>\n",
       "    <tr>\n",
       "      <th>mokoron</th>\n",
       "      <td>210.0</td>\n",
       "      <td>1.000000</td>\n",
       "      <td>1.000000</td>\n",
       "    </tr>\n",
       "    <tr>\n",
       "      <th>rureviews</th>\n",
       "      <td>210.0</td>\n",
       "      <td>0.738095</td>\n",
       "      <td>0.740806</td>\n",
       "    </tr>\n",
       "    <tr>\n",
       "      <th>rusentiment</th>\n",
       "      <td>210.0</td>\n",
       "      <td>0.566667</td>\n",
       "      <td>0.538639</td>\n",
       "    </tr>\n",
       "  </tbody>\n",
       "</table>\n",
       "</div>"
      ],
      "text/plain": [
       "                           n  accuracy  f1_macro\n",
       "source                                          \n",
       "SentiRuEval2016_banks  210.0  0.676190  0.643551\n",
       "SentiRuEval2016_tele   210.0  0.585714  0.574823\n",
       "kaggle_news            210.0  0.552381  0.539622\n",
       "linis                  210.0  0.480952  0.460348\n",
       "mokoron                210.0  1.000000  1.000000\n",
       "rureviews              210.0  0.738095  0.740806\n",
       "rusentiment            210.0  0.566667  0.538639"
      ]
     },
     "metadata": {},
     "execution_count": 134
    }
   ],
   "execution_count": null
  },
  {
   "metadata": {},
   "source": [
    "resampled.mean()"
   ],
   "cell_type": "code",
   "outputs": [
    {
     "output_type": "execute_result",
     "data": {
      "text/plain": [
       "n           210.000000\n",
       "accuracy      0.657143\n",
       "f1_macro      0.642541\n",
       "dtype: float64"
      ]
     },
     "metadata": {},
     "execution_count": 135
    }
   ],
   "execution_count": null
  },
  {
   "metadata": {},
   "source": [
    "# The second model, resampled and balanced"
   ],
   "cell_type": "markdown"
  },
  {
   "metadata": {},
   "source": [
    "train_size = sum(full_sentiment_data.split == \"train\")\n",
    "print(train_size)"
   ],
   "cell_type": "code",
   "outputs": [
    {
     "output_type": "stream",
     "name": "stdout",
     "text": [
      "548424\n"
     ]
    }
   ],
   "execution_count": null
  },
  {
   "metadata": {},
   "source": [
    "full_sentiment_data.sample(3)"
   ],
   "cell_type": "code",
   "outputs": [
    {
     "output_type": "execute_result",
     "data": {
      "text/html": [
       "<div>\n",
       "<style scoped>\n",
       "    .dataframe tbody tr th:only-of-type {\n",
       "        vertical-align: middle;\n",
       "    }\n",
       "\n",
       "    .dataframe tbody tr th {\n",
       "        vertical-align: top;\n",
       "    }\n",
       "\n",
       "    .dataframe thead th {\n",
       "        text-align: right;\n",
       "    }\n",
       "</style>\n",
       "<table border=\"1\" class=\"dataframe\">\n",
       "  <thead>\n",
       "    <tr style=\"text-align: right;\">\n",
       "      <th></th>\n",
       "      <th>text</th>\n",
       "      <th>label</th>\n",
       "      <th>source</th>\n",
       "      <th>split</th>\n",
       "    </tr>\n",
       "  </thead>\n",
       "  <tbody>\n",
       "    <tr>\n",
       "      <th>842927</th>\n",
       "      <td>Нет человека — нет проблем. (с) Сталин.</td>\n",
       "      <td>NaN</td>\n",
       "      <td>NaN</td>\n",
       "      <td>NaN</td>\n",
       "    </tr>\n",
       "    <tr>\n",
       "      <th>1479419</th>\n",
       "      <td>@xerepacid, #мысли Любые перемены несут с собо...</td>\n",
       "      <td>NaN</td>\n",
       "      <td>NaN</td>\n",
       "      <td>NaN</td>\n",
       "    </tr>\n",
       "    <tr>\n",
       "      <th>817467</th>\n",
       "      <td>Нет человека — нет проблем. (с) Сталин.</td>\n",
       "      <td>NaN</td>\n",
       "      <td>NaN</td>\n",
       "      <td>NaN</td>\n",
       "    </tr>\n",
       "  </tbody>\n",
       "</table>\n",
       "</div>"
      ],
      "text/plain": [
       "                                                      text label source split\n",
       "842927             Нет человека — нет проблем. (с) Сталин.   NaN    NaN   NaN\n",
       "1479419  @xerepacid, #мысли Любые перемены несут с собо...   NaN    NaN   NaN\n",
       "817467             Нет человека — нет проблем. (с) Сталин.   NaN    NaN   NaN"
      ]
     },
     "metadata": {},
     "execution_count": 17
    }
   ],
   "execution_count": null
  },
  {
   "metadata": {},
   "source": [
    "train = {\n",
    "    k: v.text.tolist()\n",
    "    for k, v in full_sentiment_data[full_sentiment_data.split == \"train\"].dropna().groupby([\"source\", \"label\"])\n",
    "}"
   ],
   "cell_type": "code",
   "outputs": [],
   "execution_count": null
  },
  {
   "metadata": {},
   "source": [
    "print(len(train))\n",
    "train.keys()"
   ],
   "cell_type": "code",
   "outputs": [
    {
     "output_type": "stream",
     "name": "stdout",
     "text": [
      "21\n"
     ]
    },
    {
     "output_type": "execute_result",
     "data": {
      "text/plain": [
       "dict_keys([('SentiRuEval2016_banks', 'negative'), ('SentiRuEval2016_banks', 'neutral'), ('SentiRuEval2016_banks', 'positive'), ('SentiRuEval2016_tele', 'negative'), ('SentiRuEval2016_tele', 'neutral'), ('SentiRuEval2016_tele', 'positive'), ('kaggle_news', 'negative'), ('kaggle_news', 'neutral'), ('kaggle_news', 'positive'), ('linis', 'negative'), ('linis', 'neutral'), ('linis', 'positive'), ('mokoron', 'negative'), ('mokoron', 'neutral'), ('mokoron', 'positive'), ('rureviews', 'negative'), ('rureviews', 'neutral'), ('rureviews', 'positive'), ('rusentiment', 'negative'), ('rusentiment', 'neutral'), ('rusentiment', 'positive')])"
      ]
     },
     "metadata": {},
     "execution_count": 65
    }
   ],
   "execution_count": null
  },
  {
   "metadata": {},
   "source": [
    "train_keys = list(train.keys())\n",
    "\n",
    "\n",
    "def sample_batch(n=64):\n",
    "    texts = []\n",
    "    labels = []\n",
    "    for i in range(n):\n",
    "        source, label = random.choice(train_keys)\n",
    "        texts.append(random.choice(train[(source, label)]))\n",
    "        labels.append(all_labels.index(label))\n",
    "    return texts, labels\n",
    "\n",
    "\n",
    "sample_batch(2)"
   ],
   "cell_type": "code",
   "outputs": [
    {
     "output_type": "execute_result",
     "data": {
      "text/plain": [
       "(['ждала юбку почти три месяца, так и не пришла. деньги вернули через спор .',\n",
       "  'хороший дядька был.  Почитал, вроде всё правильно делал... Но процент бедности так и остался довольно высок(.  Бунтарь...  Уго Чавес...Солдат... КомандантеСегодня  покинул  мир...И ангелы  тихо  поют сарабандуА  дьяволы  прут  на  пир...Дикарь...  настоящий... народный индеец(Он  коку  жевал  всю жизнь...)И верил ,  свободы  текила  и перец   -Лекарство  мужицких  жил...И горечь  матэ  заливая в  глотку  Тянул  бечевой  Страну...А  в  русских просторах морозной водкойИ баней  лечил  хандру...Чем  громче  фавелы  ему   молилисьСкандируя:    Уго -Любовь!  Тем  тише шептались  Гудзон с  Пикадилли...Нефть –  вурдалачья кровь ... В  морях  озверело  гребут  шаланды ...Булькает вязкий  груз ...Но  ламу   ведет   перевалом  в  АндыИндейский шаман Иисус ...http://stihi.ru/2013/03/06/12096  и это при всей его биографии ..  вы же не знаете ЧТО там было до него.Я работала в Венесуэле с 97 по 2002 годы.Там нищета была 90% населения.Каждый год в газетах давали статистику по доходам, деля население по буквам А, В, С и D в зависимости от доходов.Таки вот, с моей нормальненькой з/п я с моим мужем, работая обыкновенными инженерами на строительстве ГЭС, попадали в уровень под буквой  А  - это были 2% самую богатую прослойку населения .'],\n",
       " [0, 1])"
      ]
     },
     "metadata": {},
     "execution_count": 20
    }
   ],
   "execution_count": null
  },
  {
   "metadata": {},
   "source": [
    "model = AutoModelForSequenceClassification.from_pretrained(model_checkpoint, num_labels=len(all_labels))\n",
    "model.config.id2label = dict(enumerate(all_labels))\n",
    "model.config.label2id = {v: k for k, v in model.config.id2label.items()}\n",
    "model.cuda();"
   ],
   "cell_type": "code",
   "outputs": [
    {
     "output_type": "stream",
     "name": "stderr",
     "text": [
      "Some weights of the model checkpoint at cointegrated/rubert-tiny were not used when initializing BertForSequenceClassification: ['cls.seq_relationship.weight', 'cls.predictions.transform.dense.bias', 'cls.seq_relationship.bias', 'cls.predictions.bias', 'cls.predictions.decoder.weight', 'cls.predictions.transform.dense.weight', 'cls.predictions.transform.LayerNorm.weight', 'cls.predictions.decoder.bias', 'cls.predictions.transform.LayerNorm.bias']\n",
      "- This IS expected if you are initializing BertForSequenceClassification from the checkpoint of a model trained on another task or with another architecture (e.g. initializing a BertForSequenceClassification model from a BertForPreTraining model).\n",
      "- This IS NOT expected if you are initializing BertForSequenceClassification from the checkpoint of a model that you expect to be exactly identical (initializing a BertForSequenceClassification model from a BertForSequenceClassification model).\n",
      "Some weights of BertForSequenceClassification were not initialized from the model checkpoint at cointegrated/rubert-tiny and are newly initialized: ['classifier.bias', 'classifier.weight']\n",
      "You should probably TRAIN this model on a down-stream task to be able to use it for predictions and inference.\n"
     ]
    }
   ],
   "execution_count": null
  },
  {
   "metadata": {},
   "source": [
    ""
   ],
   "cell_type": "code",
   "outputs": [
    {
     "output_type": "display_data",
     "data": {
      "application/vnd.jupyter.widget-view+json": {
       "model_id": "3c3bbd9822134f2e915e56b421575ede",
       "version_minor": 0,
       "version_major": 2
      },
      "text/plain": [
       "  0%|          | 0/2 [00:00<?, ?ba/s]"
      ]
     },
     "metadata": {}
    },
    {
     "output_type": "display_data",
     "data": {
      "application/vnd.jupyter.widget-view+json": {
       "model_id": "eb006b25287c467c81fefd6c0820aa66",
       "version_minor": 0,
       "version_major": 2
      },
      "text/plain": [
       "  0%|          | 0/2 [00:00<?, ?ba/s]"
      ]
     },
     "metadata": {}
    }
   ],
   "execution_count": null
  },
  {
   "metadata": {},
   "source": [
    "torch_dev_balanced_tokenized = torch_dev_balanced.map(\n",
    "    lambda x: tokenizer(x[\"text\"], truncation=True),\n",
    "    batched=True,\n",
    "    remove_columns=[\"text\"],\n",
    ").map(lambda x: {\"label\": [all_labels.index(xl) for xl in x[\"label\"]]}, batched=True)\n",
    "\n",
    "torch_dev_balanced_loader = DataLoader(\n",
    "    torch_dev_balanced_tokenized,\n",
    "    batch_size=64,\n",
    "    drop_last=False,\n",
    "    shuffle=True,\n",
    "    num_workers=0,\n",
    "    collate_fn=data_collator,\n",
    ")"
   ],
   "cell_type": "code",
   "outputs": [],
   "execution_count": null
  },
  {
   "metadata": {},
   "source": [
    "evaluate_model(model, torch_dev_balanced_loader, verbose=True, labels=all_labels)"
   ],
   "cell_type": "code",
   "outputs": [
    {
     "output_type": "display_data",
     "data": {
      "application/vnd.jupyter.widget-view+json": {
       "model_id": "746d7e58af4548cabd8a6d998a17ed44",
       "version_minor": 0,
       "version_major": 2
      },
      "text/plain": [
       "  0%|          | 0/23 [00:00<?, ?it/s]"
      ]
     },
     "metadata": {}
    },
    {
     "output_type": "display_data",
     "data": {
      "text/html": [
       "<div>\n",
       "<style scoped>\n",
       "    .dataframe tbody tr th:only-of-type {\n",
       "        vertical-align: middle;\n",
       "    }\n",
       "\n",
       "    .dataframe tbody tr th {\n",
       "        vertical-align: top;\n",
       "    }\n",
       "\n",
       "    .dataframe thead th {\n",
       "        text-align: right;\n",
       "    }\n",
       "</style>\n",
       "<table border=\"1\" class=\"dataframe\">\n",
       "  <thead>\n",
       "    <tr style=\"text-align: right;\">\n",
       "      <th></th>\n",
       "      <th>p</th>\n",
       "      <th>r</th>\n",
       "      <th>f</th>\n",
       "      <th>s</th>\n",
       "      <th>a</th>\n",
       "    </tr>\n",
       "  </thead>\n",
       "  <tbody>\n",
       "    <tr>\n",
       "      <th>negative</th>\n",
       "      <td>0.283967</td>\n",
       "      <td>0.426531</td>\n",
       "      <td>0.340946</td>\n",
       "      <td>490.0</td>\n",
       "      <td>0.402788</td>\n",
       "    </tr>\n",
       "    <tr>\n",
       "      <th>neutral</th>\n",
       "      <td>0.415385</td>\n",
       "      <td>0.110204</td>\n",
       "      <td>0.174194</td>\n",
       "      <td>490.0</td>\n",
       "      <td>0.497675</td>\n",
       "    </tr>\n",
       "    <tr>\n",
       "      <th>positive</th>\n",
       "      <td>0.298013</td>\n",
       "      <td>0.367347</td>\n",
       "      <td>0.329068</td>\n",
       "      <td>490.0</td>\n",
       "      <td>0.488076</td>\n",
       "    </tr>\n",
       "    <tr>\n",
       "      <th>mean</th>\n",
       "      <td>0.332455</td>\n",
       "      <td>0.301361</td>\n",
       "      <td>0.281402</td>\n",
       "      <td>490.0</td>\n",
       "      <td>0.462846</td>\n",
       "    </tr>\n",
       "  </tbody>\n",
       "</table>\n",
       "</div>"
      ],
      "text/plain": [
       "                 p         r         f      s         a\n",
       "negative  0.283967  0.426531  0.340946  490.0  0.402788\n",
       "neutral   0.415385  0.110204  0.174194  490.0  0.497675\n",
       "positive  0.298013  0.367347  0.329068  490.0  0.488076\n",
       "mean      0.332455  0.301361  0.281402  490.0  0.462846"
      ]
     },
     "metadata": {}
    },
    {
     "output_type": "stream",
     "name": "stdout",
     "text": [
      "aucs: [0.40278842149104543, 0.49767492711370265, 0.4880758017492712] 0.4628463834513397\n"
     ]
    },
    {
     "output_type": "execute_result",
     "data": {
      "text/plain": [
       "0.4628463834513397"
      ]
     },
     "metadata": {},
     "execution_count": 30
    }
   ],
   "execution_count": null
  },
  {
   "metadata": {},
   "source": [
    "optimizer = torch.optim.Adam(params=model.parameters(), lr=1e-5)"
   ],
   "cell_type": "code",
   "outputs": [],
   "execution_count": null
  },
  {
   "metadata": {},
   "source": [
    "cleanup()"
   ],
   "cell_type": "code",
   "outputs": [],
   "execution_count": null
  },
  {
   "metadata": {},
   "source": [
    "gradient_accumulation_steps = 1\n",
    "window = 500\n",
    "cleanup_step = 100\n",
    "report_step = 3000"
   ],
   "cell_type": "code",
   "outputs": [],
   "execution_count": null
  },
  {
   "metadata": {},
   "source": [
    "ewm_loss = 0"
   ],
   "cell_type": "code",
   "outputs": [],
   "execution_count": null
  },
  {
   "metadata": {},
   "source": [
    "batch_size = 64"
   ],
   "cell_type": "code",
   "outputs": [],
   "execution_count": null
  },
  {
   "metadata": {},
   "source": [
    "model.train()\n",
    "cleanup()\n",
    "\n",
    "tq = trange(int(train_size / batch_size * 3))  # 3 примерные эпохи\n",
    "\n",
    "for i in tq:\n",
    "    try:\n",
    "        texts, labels = sample_batch(n=batch_size)\n",
    "        inputs = tokenizer(texts, truncation=True, padding=True, return_tensors=\"pt\").to(model.device)\n",
    "        output = model(labels=torch.tensor(labels).to(model.device), **inputs)\n",
    "        loss = output.loss\n",
    "        loss.backward()\n",
    "    except RuntimeError as e:\n",
    "        print(\"error on step\", i, e)\n",
    "        loss = None\n",
    "        cleanup()\n",
    "        continue\n",
    "\n",
    "    if i and i % gradient_accumulation_steps == 0:\n",
    "        optimizer.step()\n",
    "        optimizer.zero_grad()\n",
    "\n",
    "    if i % cleanup_step == 0:\n",
    "        cleanup()\n",
    "\n",
    "    w = 1 / min(i + 1, window)\n",
    "    ewm_loss = ewm_loss * (1 - w) + loss.item() * w\n",
    "    tq.set_description(f\"loss: {ewm_loss:4.4f}\")\n",
    "\n",
    "    if i and i % report_step == 0:\n",
    "        cleanup()\n",
    "        model.eval()\n",
    "        eval_loss = evaluate_model(model, torch_dev_balanced_loader, verbose=True, labels=all_labels)\n",
    "        model.train()\n",
    "        print(f\"step {i}: train loss: {ewm_loss:4.4f}  val auc: {eval_loss}\")\n",
    "        cleanup()\n",
    "\n",
    "model.eval()\n",
    "eval_loss = evaluate_model(model, torch_dev_balanced_loader, verbose=True, labels=all_labels)\n",
    "print(f\"step {i}: train loss: {ewm_loss:4.4f}  val auc: {eval_loss}\")"
   ],
   "cell_type": "code",
   "outputs": [
    {
     "output_type": "display_data",
     "data": {
      "application/vnd.jupyter.widget-view+json": {
       "model_id": "d8ab8e8253d54f96becb45c7ff2887da",
       "version_minor": 0,
       "version_major": 2
      },
      "text/plain": [
       "  0%|          | 0/25707 [00:00<?, ?it/s]"
      ]
     },
     "metadata": {}
    },
    {
     "output_type": "display_data",
     "data": {
      "application/vnd.jupyter.widget-view+json": {
       "model_id": "102ab39fa45c41aaae4c515e39740c08",
       "version_minor": 0,
       "version_major": 2
      },
      "text/plain": [
       "  0%|          | 0/23 [00:00<?, ?it/s]"
      ]
     },
     "metadata": {}
    },
    {
     "output_type": "display_data",
     "data": {
      "text/html": [
       "<div>\n",
       "<style scoped>\n",
       "    .dataframe tbody tr th:only-of-type {\n",
       "        vertical-align: middle;\n",
       "    }\n",
       "\n",
       "    .dataframe tbody tr th {\n",
       "        vertical-align: top;\n",
       "    }\n",
       "\n",
       "    .dataframe thead th {\n",
       "        text-align: right;\n",
       "    }\n",
       "</style>\n",
       "<table border=\"1\" class=\"dataframe\">\n",
       "  <thead>\n",
       "    <tr style=\"text-align: right;\">\n",
       "      <th></th>\n",
       "      <th>p</th>\n",
       "      <th>r</th>\n",
       "      <th>f</th>\n",
       "      <th>s</th>\n",
       "      <th>a</th>\n",
       "    </tr>\n",
       "  </thead>\n",
       "  <tbody>\n",
       "    <tr>\n",
       "      <th>negative</th>\n",
       "      <td>0.728778</td>\n",
       "      <td>0.718367</td>\n",
       "      <td>0.723535</td>\n",
       "      <td>490.0</td>\n",
       "      <td>0.900676</td>\n",
       "    </tr>\n",
       "    <tr>\n",
       "      <th>neutral</th>\n",
       "      <td>0.650108</td>\n",
       "      <td>0.614286</td>\n",
       "      <td>0.631689</td>\n",
       "      <td>490.0</td>\n",
       "      <td>0.825878</td>\n",
       "    </tr>\n",
       "    <tr>\n",
       "      <th>positive</th>\n",
       "      <td>0.723282</td>\n",
       "      <td>0.773469</td>\n",
       "      <td>0.747535</td>\n",
       "      <td>490.0</td>\n",
       "      <td>0.894082</td>\n",
       "    </tr>\n",
       "    <tr>\n",
       "      <th>mean</th>\n",
       "      <td>0.700723</td>\n",
       "      <td>0.702041</td>\n",
       "      <td>0.700920</td>\n",
       "      <td>490.0</td>\n",
       "      <td>0.873545</td>\n",
       "    </tr>\n",
       "  </tbody>\n",
       "</table>\n",
       "</div>"
      ],
      "text/plain": [
       "                 p         r         f      s         a\n",
       "negative  0.728778  0.718367  0.723535  490.0  0.900676\n",
       "neutral   0.650108  0.614286  0.631689  490.0  0.825878\n",
       "positive  0.723282  0.773469  0.747535  490.0  0.894082\n",
       "mean      0.700723  0.702041  0.700920  490.0  0.873545"
      ]
     },
     "metadata": {}
    },
    {
     "output_type": "stream",
     "name": "stdout",
     "text": [
      "aucs: [0.9006757600999582, 0.8258777592669722, 0.8940816326530613] 0.8735450506733305\n",
      "step 3000: train loss: 0.6469  val auc: 0.8735450506733305\n"
     ]
    },
    {
     "output_type": "display_data",
     "data": {
      "application/vnd.jupyter.widget-view+json": {
       "model_id": "6c18aa4c5a1b4ccd96588db410a6bb3d",
       "version_minor": 0,
       "version_major": 2
      },
      "text/plain": [
       "  0%|          | 0/23 [00:00<?, ?it/s]"
      ]
     },
     "metadata": {}
    },
    {
     "output_type": "display_data",
     "data": {
      "text/html": [
       "<div>\n",
       "<style scoped>\n",
       "    .dataframe tbody tr th:only-of-type {\n",
       "        vertical-align: middle;\n",
       "    }\n",
       "\n",
       "    .dataframe tbody tr th {\n",
       "        vertical-align: top;\n",
       "    }\n",
       "\n",
       "    .dataframe thead th {\n",
       "        text-align: right;\n",
       "    }\n",
       "</style>\n",
       "<table border=\"1\" class=\"dataframe\">\n",
       "  <thead>\n",
       "    <tr style=\"text-align: right;\">\n",
       "      <th></th>\n",
       "      <th>p</th>\n",
       "      <th>r</th>\n",
       "      <th>f</th>\n",
       "      <th>s</th>\n",
       "      <th>a</th>\n",
       "    </tr>\n",
       "  </thead>\n",
       "  <tbody>\n",
       "    <tr>\n",
       "      <th>negative</th>\n",
       "      <td>0.744681</td>\n",
       "      <td>0.714286</td>\n",
       "      <td>0.729167</td>\n",
       "      <td>490.0</td>\n",
       "      <td>0.908183</td>\n",
       "    </tr>\n",
       "    <tr>\n",
       "      <th>neutral</th>\n",
       "      <td>0.647773</td>\n",
       "      <td>0.653061</td>\n",
       "      <td>0.650407</td>\n",
       "      <td>490.0</td>\n",
       "      <td>0.838877</td>\n",
       "    </tr>\n",
       "    <tr>\n",
       "      <th>positive</th>\n",
       "      <td>0.737154</td>\n",
       "      <td>0.761224</td>\n",
       "      <td>0.748996</td>\n",
       "      <td>490.0</td>\n",
       "      <td>0.903807</td>\n",
       "    </tr>\n",
       "    <tr>\n",
       "      <th>mean</th>\n",
       "      <td>0.709869</td>\n",
       "      <td>0.709524</td>\n",
       "      <td>0.709523</td>\n",
       "      <td>490.0</td>\n",
       "      <td>0.883622</td>\n",
       "    </tr>\n",
       "  </tbody>\n",
       "</table>\n",
       "</div>"
      ],
      "text/plain": [
       "                 p         r         f      s         a\n",
       "negative  0.744681  0.714286  0.729167  490.0  0.908183\n",
       "neutral   0.647773  0.653061  0.650407  490.0  0.838877\n",
       "positive  0.737154  0.761224  0.748996  490.0  0.903807\n",
       "mean      0.709869  0.709524  0.709523  490.0  0.883622"
      ]
     },
     "metadata": {}
    },
    {
     "output_type": "stream",
     "name": "stdout",
     "text": [
      "aucs: [0.908183048729696, 0.8388765097875885, 0.9038067471886714] 0.8836221019019853\n",
      "step 6000: train loss: 0.5629  val auc: 0.8836221019019853\n"
     ]
    },
    {
     "output_type": "display_data",
     "data": {
      "application/vnd.jupyter.widget-view+json": {
       "model_id": "4be7380750314d3ab6a9322d9345dcd5",
       "version_minor": 0,
       "version_major": 2
      },
      "text/plain": [
       "  0%|          | 0/23 [00:00<?, ?it/s]"
      ]
     },
     "metadata": {}
    },
    {
     "output_type": "display_data",
     "data": {
      "text/html": [
       "<div>\n",
       "<style scoped>\n",
       "    .dataframe tbody tr th:only-of-type {\n",
       "        vertical-align: middle;\n",
       "    }\n",
       "\n",
       "    .dataframe tbody tr th {\n",
       "        vertical-align: top;\n",
       "    }\n",
       "\n",
       "    .dataframe thead th {\n",
       "        text-align: right;\n",
       "    }\n",
       "</style>\n",
       "<table border=\"1\" class=\"dataframe\">\n",
       "  <thead>\n",
       "    <tr style=\"text-align: right;\">\n",
       "      <th></th>\n",
       "      <th>p</th>\n",
       "      <th>r</th>\n",
       "      <th>f</th>\n",
       "      <th>s</th>\n",
       "      <th>a</th>\n",
       "    </tr>\n",
       "  </thead>\n",
       "  <tbody>\n",
       "    <tr>\n",
       "      <th>negative</th>\n",
       "      <td>0.748441</td>\n",
       "      <td>0.734694</td>\n",
       "      <td>0.741504</td>\n",
       "      <td>490.0</td>\n",
       "      <td>0.910551</td>\n",
       "    </tr>\n",
       "    <tr>\n",
       "      <th>neutral</th>\n",
       "      <td>0.644269</td>\n",
       "      <td>0.665306</td>\n",
       "      <td>0.654618</td>\n",
       "      <td>490.0</td>\n",
       "      <td>0.845601</td>\n",
       "    </tr>\n",
       "    <tr>\n",
       "      <th>positive</th>\n",
       "      <td>0.766046</td>\n",
       "      <td>0.755102</td>\n",
       "      <td>0.760534</td>\n",
       "      <td>490.0</td>\n",
       "      <td>0.904512</td>\n",
       "    </tr>\n",
       "    <tr>\n",
       "      <th>mean</th>\n",
       "      <td>0.719585</td>\n",
       "      <td>0.718367</td>\n",
       "      <td>0.718886</td>\n",
       "      <td>490.0</td>\n",
       "      <td>0.886888</td>\n",
       "    </tr>\n",
       "  </tbody>\n",
       "</table>\n",
       "</div>"
      ],
      "text/plain": [
       "                 p         r         f      s         a\n",
       "negative  0.748441  0.734694  0.741504  490.0  0.910551\n",
       "neutral   0.644269  0.665306  0.654618  490.0  0.845601\n",
       "positive  0.766046  0.755102  0.760534  490.0  0.904512\n",
       "mean      0.719585  0.718367  0.718886  490.0  0.886888"
      ]
     },
     "metadata": {}
    },
    {
     "output_type": "stream",
     "name": "stdout",
     "text": [
      "aucs: [0.9105508121615993, 0.845600791336943, 0.9045116618075802] 0.8868877551020408\n",
      "step 9000: train loss: 0.5022  val auc: 0.8868877551020408\n"
     ]
    },
    {
     "output_type": "display_data",
     "data": {
      "application/vnd.jupyter.widget-view+json": {
       "model_id": "565f4b85d74d4f81872c77438a81b998",
       "version_minor": 0,
       "version_major": 2
      },
      "text/plain": [
       "  0%|          | 0/23 [00:00<?, ?it/s]"
      ]
     },
     "metadata": {}
    },
    {
     "output_type": "display_data",
     "data": {
      "text/html": [
       "<div>\n",
       "<style scoped>\n",
       "    .dataframe tbody tr th:only-of-type {\n",
       "        vertical-align: middle;\n",
       "    }\n",
       "\n",
       "    .dataframe tbody tr th {\n",
       "        vertical-align: top;\n",
       "    }\n",
       "\n",
       "    .dataframe thead th {\n",
       "        text-align: right;\n",
       "    }\n",
       "</style>\n",
       "<table border=\"1\" class=\"dataframe\">\n",
       "  <thead>\n",
       "    <tr style=\"text-align: right;\">\n",
       "      <th></th>\n",
       "      <th>p</th>\n",
       "      <th>r</th>\n",
       "      <th>f</th>\n",
       "      <th>s</th>\n",
       "      <th>a</th>\n",
       "    </tr>\n",
       "  </thead>\n",
       "  <tbody>\n",
       "    <tr>\n",
       "      <th>negative</th>\n",
       "      <td>0.731939</td>\n",
       "      <td>0.785714</td>\n",
       "      <td>0.757874</td>\n",
       "      <td>490.0</td>\n",
       "      <td>0.913091</td>\n",
       "    </tr>\n",
       "    <tr>\n",
       "      <th>neutral</th>\n",
       "      <td>0.683652</td>\n",
       "      <td>0.657143</td>\n",
       "      <td>0.670135</td>\n",
       "      <td>490.0</td>\n",
       "      <td>0.852902</td>\n",
       "    </tr>\n",
       "    <tr>\n",
       "      <th>positive</th>\n",
       "      <td>0.773784</td>\n",
       "      <td>0.746939</td>\n",
       "      <td>0.760125</td>\n",
       "      <td>490.0</td>\n",
       "      <td>0.903426</td>\n",
       "    </tr>\n",
       "    <tr>\n",
       "      <th>mean</th>\n",
       "      <td>0.729792</td>\n",
       "      <td>0.729932</td>\n",
       "      <td>0.729378</td>\n",
       "      <td>490.0</td>\n",
       "      <td>0.889806</td>\n",
       "    </tr>\n",
       "  </tbody>\n",
       "</table>\n",
       "</div>"
      ],
      "text/plain": [
       "                 p         r         f      s         a\n",
       "negative  0.731939  0.785714  0.757874  490.0  0.913091\n",
       "neutral   0.683652  0.657143  0.670135  490.0  0.852902\n",
       "positive  0.773784  0.746939  0.760125  490.0  0.903426\n",
       "mean      0.729792  0.729932  0.729378  490.0  0.889806"
      ]
     },
     "metadata": {}
    },
    {
     "output_type": "stream",
     "name": "stdout",
     "text": [
      "aucs: [0.9130914202415661, 0.8529019158683881, 0.9034256559766765] 0.8898063306955436\n",
      "step 12000: train loss: 0.4585  val auc: 0.8898063306955436\n"
     ]
    },
    {
     "output_type": "display_data",
     "data": {
      "application/vnd.jupyter.widget-view+json": {
       "model_id": "acdbfedfa56f40dfa7dd2008591f5ce5",
       "version_minor": 0,
       "version_major": 2
      },
      "text/plain": [
       "  0%|          | 0/23 [00:00<?, ?it/s]"
      ]
     },
     "metadata": {}
    },
    {
     "output_type": "display_data",
     "data": {
      "text/html": [
       "<div>\n",
       "<style scoped>\n",
       "    .dataframe tbody tr th:only-of-type {\n",
       "        vertical-align: middle;\n",
       "    }\n",
       "\n",
       "    .dataframe tbody tr th {\n",
       "        vertical-align: top;\n",
       "    }\n",
       "\n",
       "    .dataframe thead th {\n",
       "        text-align: right;\n",
       "    }\n",
       "</style>\n",
       "<table border=\"1\" class=\"dataframe\">\n",
       "  <thead>\n",
       "    <tr style=\"text-align: right;\">\n",
       "      <th></th>\n",
       "      <th>p</th>\n",
       "      <th>r</th>\n",
       "      <th>f</th>\n",
       "      <th>s</th>\n",
       "      <th>a</th>\n",
       "    </tr>\n",
       "  </thead>\n",
       "  <tbody>\n",
       "    <tr>\n",
       "      <th>negative</th>\n",
       "      <td>0.733333</td>\n",
       "      <td>0.785714</td>\n",
       "      <td>0.758621</td>\n",
       "      <td>490.0</td>\n",
       "      <td>0.914041</td>\n",
       "    </tr>\n",
       "    <tr>\n",
       "      <th>neutral</th>\n",
       "      <td>0.681529</td>\n",
       "      <td>0.655102</td>\n",
       "      <td>0.668054</td>\n",
       "      <td>490.0</td>\n",
       "      <td>0.854757</td>\n",
       "    </tr>\n",
       "    <tr>\n",
       "      <th>positive</th>\n",
       "      <td>0.763713</td>\n",
       "      <td>0.738776</td>\n",
       "      <td>0.751037</td>\n",
       "      <td>490.0</td>\n",
       "      <td>0.900154</td>\n",
       "    </tr>\n",
       "    <tr>\n",
       "      <th>mean</th>\n",
       "      <td>0.726192</td>\n",
       "      <td>0.726531</td>\n",
       "      <td>0.725904</td>\n",
       "      <td>490.0</td>\n",
       "      <td>0.889651</td>\n",
       "    </tr>\n",
       "  </tbody>\n",
       "</table>\n",
       "</div>"
      ],
      "text/plain": [
       "                 p         r         f      s         a\n",
       "negative  0.733333  0.785714  0.758621  490.0  0.914041\n",
       "neutral   0.681529  0.655102  0.668054  490.0  0.854757\n",
       "positive  0.763713  0.738776  0.751037  490.0  0.900154\n",
       "mean      0.726192  0.726531  0.725904  490.0  0.889651"
      ]
     },
     "metadata": {}
    },
    {
     "output_type": "stream",
     "name": "stdout",
     "text": [
      "aucs: [0.9140410245730947, 0.8547573927530195, 0.9001541024573095] 0.8896508399278079\n",
      "step 15000: train loss: 0.4233  val auc: 0.8896508399278079\n"
     ]
    },
    {
     "output_type": "display_data",
     "data": {
      "application/vnd.jupyter.widget-view+json": {
       "model_id": "8804176e7d4f46e6859fa521c21903f4",
       "version_minor": 0,
       "version_major": 2
      },
      "text/plain": [
       "  0%|          | 0/23 [00:00<?, ?it/s]"
      ]
     },
     "metadata": {}
    },
    {
     "output_type": "display_data",
     "data": {
      "text/html": [
       "<div>\n",
       "<style scoped>\n",
       "    .dataframe tbody tr th:only-of-type {\n",
       "        vertical-align: middle;\n",
       "    }\n",
       "\n",
       "    .dataframe tbody tr th {\n",
       "        vertical-align: top;\n",
       "    }\n",
       "\n",
       "    .dataframe thead th {\n",
       "        text-align: right;\n",
       "    }\n",
       "</style>\n",
       "<table border=\"1\" class=\"dataframe\">\n",
       "  <thead>\n",
       "    <tr style=\"text-align: right;\">\n",
       "      <th></th>\n",
       "      <th>p</th>\n",
       "      <th>r</th>\n",
       "      <th>f</th>\n",
       "      <th>s</th>\n",
       "      <th>a</th>\n",
       "    </tr>\n",
       "  </thead>\n",
       "  <tbody>\n",
       "    <tr>\n",
       "      <th>negative</th>\n",
       "      <td>0.763265</td>\n",
       "      <td>0.763265</td>\n",
       "      <td>0.763265</td>\n",
       "      <td>490.0</td>\n",
       "      <td>0.909412</td>\n",
       "    </tr>\n",
       "    <tr>\n",
       "      <th>neutral</th>\n",
       "      <td>0.670732</td>\n",
       "      <td>0.673469</td>\n",
       "      <td>0.672098</td>\n",
       "      <td>490.0</td>\n",
       "      <td>0.851519</td>\n",
       "    </tr>\n",
       "    <tr>\n",
       "      <th>positive</th>\n",
       "      <td>0.762295</td>\n",
       "      <td>0.759184</td>\n",
       "      <td>0.760736</td>\n",
       "      <td>490.0</td>\n",
       "      <td>0.899475</td>\n",
       "    </tr>\n",
       "    <tr>\n",
       "      <th>mean</th>\n",
       "      <td>0.732097</td>\n",
       "      <td>0.731973</td>\n",
       "      <td>0.732033</td>\n",
       "      <td>490.0</td>\n",
       "      <td>0.886802</td>\n",
       "    </tr>\n",
       "  </tbody>\n",
       "</table>\n",
       "</div>"
      ],
      "text/plain": [
       "                 p         r         f      s         a\n",
       "negative  0.763265  0.763265  0.763265  490.0  0.909412\n",
       "neutral   0.670732  0.673469  0.672098  490.0  0.851519\n",
       "positive  0.762295  0.759184  0.760736  490.0  0.899475\n",
       "mean      0.732097  0.731973  0.732033  490.0  0.886802"
      ]
     },
     "metadata": {}
    },
    {
     "output_type": "stream",
     "name": "stdout",
     "text": [
      "aucs: [0.909411703456893, 0.8515191586838817, 0.8994752186588921] 0.8868020269332223\n",
      "step 18000: train loss: 0.3871  val auc: 0.8868020269332223\n"
     ]
    },
    {
     "output_type": "display_data",
     "data": {
      "application/vnd.jupyter.widget-view+json": {
       "model_id": "2de245950b2a4373a3d4d4aec96b30e4",
       "version_minor": 0,
       "version_major": 2
      },
      "text/plain": [
       "  0%|          | 0/23 [00:00<?, ?it/s]"
      ]
     },
     "metadata": {}
    },
    {
     "output_type": "display_data",
     "data": {
      "text/html": [
       "<div>\n",
       "<style scoped>\n",
       "    .dataframe tbody tr th:only-of-type {\n",
       "        vertical-align: middle;\n",
       "    }\n",
       "\n",
       "    .dataframe tbody tr th {\n",
       "        vertical-align: top;\n",
       "    }\n",
       "\n",
       "    .dataframe thead th {\n",
       "        text-align: right;\n",
       "    }\n",
       "</style>\n",
       "<table border=\"1\" class=\"dataframe\">\n",
       "  <thead>\n",
       "    <tr style=\"text-align: right;\">\n",
       "      <th></th>\n",
       "      <th>p</th>\n",
       "      <th>r</th>\n",
       "      <th>f</th>\n",
       "      <th>s</th>\n",
       "      <th>a</th>\n",
       "    </tr>\n",
       "  </thead>\n",
       "  <tbody>\n",
       "    <tr>\n",
       "      <th>negative</th>\n",
       "      <td>0.759596</td>\n",
       "      <td>0.767347</td>\n",
       "      <td>0.763452</td>\n",
       "      <td>490.0</td>\n",
       "      <td>0.912465</td>\n",
       "    </tr>\n",
       "    <tr>\n",
       "      <th>neutral</th>\n",
       "      <td>0.662745</td>\n",
       "      <td>0.689796</td>\n",
       "      <td>0.676000</td>\n",
       "      <td>490.0</td>\n",
       "      <td>0.854447</td>\n",
       "    </tr>\n",
       "    <tr>\n",
       "      <th>positive</th>\n",
       "      <td>0.774194</td>\n",
       "      <td>0.734694</td>\n",
       "      <td>0.753927</td>\n",
       "      <td>490.0</td>\n",
       "      <td>0.891818</td>\n",
       "    </tr>\n",
       "    <tr>\n",
       "      <th>mean</th>\n",
       "      <td>0.732178</td>\n",
       "      <td>0.730612</td>\n",
       "      <td>0.731126</td>\n",
       "      <td>490.0</td>\n",
       "      <td>0.886243</td>\n",
       "    </tr>\n",
       "  </tbody>\n",
       "</table>\n",
       "</div>"
      ],
      "text/plain": [
       "                 p         r         f      s         a\n",
       "negative  0.759596  0.767347  0.763452  490.0  0.912465\n",
       "neutral   0.662745  0.689796  0.676000  490.0  0.854447\n",
       "positive  0.774194  0.734694  0.753927  490.0  0.891818\n",
       "mean      0.732178  0.730612  0.731126  490.0  0.886243"
      ]
     },
     "metadata": {}
    },
    {
     "output_type": "stream",
     "name": "stdout",
     "text": [
      "aucs: [0.9124645980841316, 0.8544471053727613, 0.8918179925031237] 0.8862432319866721\n",
      "step 21000: train loss: 0.3658  val auc: 0.8862432319866721\n"
     ]
    },
    {
     "output_type": "display_data",
     "data": {
      "application/vnd.jupyter.widget-view+json": {
       "model_id": "85c700a413164528be7e0a98ec059ae3",
       "version_minor": 0,
       "version_major": 2
      },
      "text/plain": [
       "  0%|          | 0/23 [00:00<?, ?it/s]"
      ]
     },
     "metadata": {}
    },
    {
     "output_type": "display_data",
     "data": {
      "text/html": [
       "<div>\n",
       "<style scoped>\n",
       "    .dataframe tbody tr th:only-of-type {\n",
       "        vertical-align: middle;\n",
       "    }\n",
       "\n",
       "    .dataframe tbody tr th {\n",
       "        vertical-align: top;\n",
       "    }\n",
       "\n",
       "    .dataframe thead th {\n",
       "        text-align: right;\n",
       "    }\n",
       "</style>\n",
       "<table border=\"1\" class=\"dataframe\">\n",
       "  <thead>\n",
       "    <tr style=\"text-align: right;\">\n",
       "      <th></th>\n",
       "      <th>p</th>\n",
       "      <th>r</th>\n",
       "      <th>f</th>\n",
       "      <th>s</th>\n",
       "      <th>a</th>\n",
       "    </tr>\n",
       "  </thead>\n",
       "  <tbody>\n",
       "    <tr>\n",
       "      <th>negative</th>\n",
       "      <td>0.778993</td>\n",
       "      <td>0.726531</td>\n",
       "      <td>0.751848</td>\n",
       "      <td>490.0</td>\n",
       "      <td>0.911355</td>\n",
       "    </tr>\n",
       "    <tr>\n",
       "      <th>neutral</th>\n",
       "      <td>0.650699</td>\n",
       "      <td>0.665306</td>\n",
       "      <td>0.657921</td>\n",
       "      <td>490.0</td>\n",
       "      <td>0.851336</td>\n",
       "    </tr>\n",
       "    <tr>\n",
       "      <th>positive</th>\n",
       "      <td>0.736328</td>\n",
       "      <td>0.769388</td>\n",
       "      <td>0.752495</td>\n",
       "      <td>490.0</td>\n",
       "      <td>0.894698</td>\n",
       "    </tr>\n",
       "    <tr>\n",
       "      <th>mean</th>\n",
       "      <td>0.722007</td>\n",
       "      <td>0.720408</td>\n",
       "      <td>0.720755</td>\n",
       "      <td>490.0</td>\n",
       "      <td>0.885796</td>\n",
       "    </tr>\n",
       "  </tbody>\n",
       "</table>\n",
       "</div>"
      ],
      "text/plain": [
       "                 p         r         f      s         a\n",
       "negative  0.778993  0.726531  0.751848  490.0  0.911355\n",
       "neutral   0.650699  0.665306  0.657921  490.0  0.851336\n",
       "positive  0.736328  0.769388  0.752495  490.0  0.894698\n",
       "mean      0.722007  0.720408  0.720755  490.0  0.885796"
      ]
     },
     "metadata": {}
    },
    {
     "output_type": "stream",
     "name": "stdout",
     "text": [
      "aucs: [0.9113546438983756, 0.851335901707622, 0.8946980424822991] 0.8857961960294323\n",
      "step 24000: train loss: 0.3407  val auc: 0.8857961960294323\n"
     ]
    },
    {
     "output_type": "display_data",
     "data": {
      "application/vnd.jupyter.widget-view+json": {
       "model_id": "bc270ba67ae241ed8194dac59f022d86",
       "version_minor": 0,
       "version_major": 2
      },
      "text/plain": [
       "  0%|          | 0/23 [00:00<?, ?it/s]"
      ]
     },
     "metadata": {}
    },
    {
     "output_type": "display_data",
     "data": {
      "text/html": [
       "<div>\n",
       "<style scoped>\n",
       "    .dataframe tbody tr th:only-of-type {\n",
       "        vertical-align: middle;\n",
       "    }\n",
       "\n",
       "    .dataframe tbody tr th {\n",
       "        vertical-align: top;\n",
       "    }\n",
       "\n",
       "    .dataframe thead th {\n",
       "        text-align: right;\n",
       "    }\n",
       "</style>\n",
       "<table border=\"1\" class=\"dataframe\">\n",
       "  <thead>\n",
       "    <tr style=\"text-align: right;\">\n",
       "      <th></th>\n",
       "      <th>p</th>\n",
       "      <th>r</th>\n",
       "      <th>f</th>\n",
       "      <th>s</th>\n",
       "      <th>a</th>\n",
       "    </tr>\n",
       "  </thead>\n",
       "  <tbody>\n",
       "    <tr>\n",
       "      <th>negative</th>\n",
       "      <td>0.750484</td>\n",
       "      <td>0.791837</td>\n",
       "      <td>0.770606</td>\n",
       "      <td>490.0</td>\n",
       "      <td>0.912315</td>\n",
       "    </tr>\n",
       "    <tr>\n",
       "      <th>neutral</th>\n",
       "      <td>0.668616</td>\n",
       "      <td>0.700000</td>\n",
       "      <td>0.683948</td>\n",
       "      <td>490.0</td>\n",
       "      <td>0.854437</td>\n",
       "    </tr>\n",
       "    <tr>\n",
       "      <th>positive</th>\n",
       "      <td>0.793182</td>\n",
       "      <td>0.712245</td>\n",
       "      <td>0.750538</td>\n",
       "      <td>490.0</td>\n",
       "      <td>0.891624</td>\n",
       "    </tr>\n",
       "    <tr>\n",
       "      <th>mean</th>\n",
       "      <td>0.737427</td>\n",
       "      <td>0.734694</td>\n",
       "      <td>0.735031</td>\n",
       "      <td>490.0</td>\n",
       "      <td>0.886125</td>\n",
       "    </tr>\n",
       "  </tbody>\n",
       "</table>\n",
       "</div>"
      ],
      "text/plain": [
       "                 p         r         f      s         a\n",
       "negative  0.750484  0.791837  0.770606  490.0  0.912315\n",
       "neutral   0.668616  0.700000  0.683948  490.0  0.854437\n",
       "positive  0.793182  0.712245  0.750538  490.0  0.891624\n",
       "mean      0.737427  0.734694  0.735031  490.0  0.886125"
      ]
     },
     "metadata": {}
    },
    {
     "output_type": "stream",
     "name": "stdout",
     "text": [
      "aucs: [0.9123146605581006, 0.8544366930445648, 0.8916243231986672] 0.8861252256004443\n",
      "step 25706: train loss: 0.3305  val auc: 0.8861252256004443\n"
     ]
    }
   ],
   "execution_count": null
  },
  {
   "metadata": {},
   "source": [
    "NEW_MODEL_NAME = \"/gd/MyDrive/models/rubert-tiny-sentiment-balanced\"\n",
    "model.save_pretrained(NEW_MODEL_NAME)\n",
    "tokenizer.save_pretrained(NEW_MODEL_NAME)"
   ],
   "cell_type": "code",
   "outputs": [
    {
     "output_type": "execute_result",
     "data": {
      "text/plain": [
       "('/gd/MyDrive/models/rubert-tiny-sentiment-balanced/tokenizer_config.json',\n",
       " '/gd/MyDrive/models/rubert-tiny-sentiment-balanced/special_tokens_map.json',\n",
       " '/gd/MyDrive/models/rubert-tiny-sentiment-balanced/vocab.txt',\n",
       " '/gd/MyDrive/models/rubert-tiny-sentiment-balanced/added_tokens.json',\n",
       " '/gd/MyDrive/models/rubert-tiny-sentiment-balanced/tokenizer.json')"
      ]
     },
     "metadata": {},
     "execution_count": 68
    }
   ],
   "execution_count": null
  },
  {
   "metadata": {},
   "source": [
    "# Compare with baselines"
   ],
   "cell_type": "markdown"
  },
  {
   "metadata": {},
   "source": [
    "model1 = AutoModelForSequenceClassification.from_pretrained(\"/gd/MyDrive/models/rubert-tiny-sentiment\").cuda()\n",
    "model2 = AutoModelForSequenceClassification.from_pretrained(\"/gd/MyDrive/models/rubert-tiny-sentiment-balanced\").cuda();"
   ],
   "cell_type": "code",
   "outputs": [],
   "execution_count": null
  },
  {
   "metadata": {},
   "source": [
    "torch_dev_balanced_tokenized = torch_dev_balanced.map(\n",
    "    lambda x: tokenizer(x[\"text\"], truncation=True),\n",
    "    batched=True,\n",
    "    remove_columns=[\"text\"],\n",
    ").map(lambda x: {\"label\": [all_labels.index(xl) for xl in x[\"label\"]]}, batched=True)\n",
    "\n",
    "torch_dev_balanced_loader = DataLoader(\n",
    "    torch_dev_balanced_tokenized,\n",
    "    batch_size=64,\n",
    "    drop_last=False,\n",
    "    shuffle=True,\n",
    "    num_workers=0,\n",
    "    collate_fn=data_collator,\n",
    ")"
   ],
   "cell_type": "code",
   "outputs": [
    {
     "output_type": "display_data",
     "data": {
      "application/vnd.jupyter.widget-view+json": {
       "model_id": "ca5a8bc6aeea4a7cb0d926bcf707fcbc",
       "version_minor": 0,
       "version_major": 2
      },
      "text/plain": [
       "  0%|          | 0/2 [00:00<?, ?ba/s]"
      ]
     },
     "metadata": {}
    },
    {
     "output_type": "display_data",
     "data": {
      "application/vnd.jupyter.widget-view+json": {
       "model_id": "5cc62d921c7f4c1880a3bad90f4b0944",
       "version_minor": 0,
       "version_major": 2
      },
      "text/plain": [
       "  0%|          | 0/2 [00:00<?, ?ba/s]"
      ]
     },
     "metadata": {}
    }
   ],
   "execution_count": null
  },
  {
   "metadata": {},
   "source": [
    "evaluate_model(model1, torch_dev_balanced_loader, verbose=True, labels=all_labels)\n",
    "evaluate_model(model2, torch_dev_balanced_loader, verbose=True, labels=all_labels)"
   ],
   "cell_type": "code",
   "outputs": [
    {
     "output_type": "display_data",
     "data": {
      "application/vnd.jupyter.widget-view+json": {
       "model_id": "610841528d514af88b4524f1d04d109d",
       "version_minor": 0,
       "version_major": 2
      },
      "text/plain": [
       "  0%|          | 0/23 [00:00<?, ?it/s]"
      ]
     },
     "metadata": {}
    },
    {
     "output_type": "display_data",
     "data": {
      "text/html": [
       "<div>\n",
       "<style scoped>\n",
       "    .dataframe tbody tr th:only-of-type {\n",
       "        vertical-align: middle;\n",
       "    }\n",
       "\n",
       "    .dataframe tbody tr th {\n",
       "        vertical-align: top;\n",
       "    }\n",
       "\n",
       "    .dataframe thead th {\n",
       "        text-align: right;\n",
       "    }\n",
       "</style>\n",
       "<table border=\"1\" class=\"dataframe\">\n",
       "  <thead>\n",
       "    <tr style=\"text-align: right;\">\n",
       "      <th></th>\n",
       "      <th>p</th>\n",
       "      <th>r</th>\n",
       "      <th>f</th>\n",
       "      <th>s</th>\n",
       "      <th>a</th>\n",
       "    </tr>\n",
       "  </thead>\n",
       "  <tbody>\n",
       "    <tr>\n",
       "      <th>negative</th>\n",
       "      <td>0.792350</td>\n",
       "      <td>0.591837</td>\n",
       "      <td>0.677570</td>\n",
       "      <td>490.0</td>\n",
       "      <td>0.882485</td>\n",
       "    </tr>\n",
       "    <tr>\n",
       "      <th>neutral</th>\n",
       "      <td>0.524194</td>\n",
       "      <td>0.795918</td>\n",
       "      <td>0.632091</td>\n",
       "      <td>490.0</td>\n",
       "      <td>0.813036</td>\n",
       "    </tr>\n",
       "    <tr>\n",
       "      <th>positive</th>\n",
       "      <td>0.794444</td>\n",
       "      <td>0.583673</td>\n",
       "      <td>0.672941</td>\n",
       "      <td>490.0</td>\n",
       "      <td>0.882904</td>\n",
       "    </tr>\n",
       "    <tr>\n",
       "      <th>mean</th>\n",
       "      <td>0.703663</td>\n",
       "      <td>0.657143</td>\n",
       "      <td>0.660867</td>\n",
       "      <td>490.0</td>\n",
       "      <td>0.859475</td>\n",
       "    </tr>\n",
       "  </tbody>\n",
       "</table>\n",
       "</div>"
      ],
      "text/plain": [
       "                 p         r         f      s         a\n",
       "negative  0.792350  0.591837  0.677570  490.0  0.882485\n",
       "neutral   0.524194  0.795918  0.632091  490.0  0.813036\n",
       "positive  0.794444  0.583673  0.672941  490.0  0.882904\n",
       "mean      0.703663  0.657143  0.660867  490.0  0.859475"
      ]
     },
     "metadata": {}
    },
    {
     "output_type": "stream",
     "name": "stdout",
     "text": [
      "aucs: [0.8824854227405248, 0.813036234902124, 0.8829039983340274] 0.859475218658892\n"
     ]
    },
    {
     "output_type": "display_data",
     "data": {
      "application/vnd.jupyter.widget-view+json": {
       "model_id": "3aabec8cc08241a4b3f6825e756ae545",
       "version_minor": 0,
       "version_major": 2
      },
      "text/plain": [
       "  0%|          | 0/23 [00:00<?, ?it/s]"
      ]
     },
     "metadata": {}
    },
    {
     "output_type": "display_data",
     "data": {
      "text/html": [
       "<div>\n",
       "<style scoped>\n",
       "    .dataframe tbody tr th:only-of-type {\n",
       "        vertical-align: middle;\n",
       "    }\n",
       "\n",
       "    .dataframe tbody tr th {\n",
       "        vertical-align: top;\n",
       "    }\n",
       "\n",
       "    .dataframe thead th {\n",
       "        text-align: right;\n",
       "    }\n",
       "</style>\n",
       "<table border=\"1\" class=\"dataframe\">\n",
       "  <thead>\n",
       "    <tr style=\"text-align: right;\">\n",
       "      <th></th>\n",
       "      <th>p</th>\n",
       "      <th>r</th>\n",
       "      <th>f</th>\n",
       "      <th>s</th>\n",
       "      <th>a</th>\n",
       "    </tr>\n",
       "  </thead>\n",
       "  <tbody>\n",
       "    <tr>\n",
       "      <th>negative</th>\n",
       "      <td>0.738964</td>\n",
       "      <td>0.785714</td>\n",
       "      <td>0.761622</td>\n",
       "      <td>490.0</td>\n",
       "      <td>0.909920</td>\n",
       "    </tr>\n",
       "    <tr>\n",
       "      <th>neutral</th>\n",
       "      <td>0.654150</td>\n",
       "      <td>0.675510</td>\n",
       "      <td>0.664659</td>\n",
       "      <td>490.0</td>\n",
       "      <td>0.854236</td>\n",
       "    </tr>\n",
       "    <tr>\n",
       "      <th>positive</th>\n",
       "      <td>0.801354</td>\n",
       "      <td>0.724490</td>\n",
       "      <td>0.760986</td>\n",
       "      <td>490.0</td>\n",
       "      <td>0.895053</td>\n",
       "    </tr>\n",
       "    <tr>\n",
       "      <th>mean</th>\n",
       "      <td>0.731489</td>\n",
       "      <td>0.728571</td>\n",
       "      <td>0.729089</td>\n",
       "      <td>490.0</td>\n",
       "      <td>0.886403</td>\n",
       "    </tr>\n",
       "  </tbody>\n",
       "</table>\n",
       "</div>"
      ],
      "text/plain": [
       "                 p         r         f      s         a\n",
       "negative  0.738964  0.785714  0.761622  490.0  0.909920\n",
       "neutral   0.654150  0.675510  0.664659  490.0  0.854236\n",
       "positive  0.801354  0.724490  0.760986  490.0  0.895053\n",
       "mean      0.731489  0.728571  0.729089  490.0  0.886403"
      ]
     },
     "metadata": {}
    },
    {
     "output_type": "stream",
     "name": "stdout",
     "text": [
      "aucs: [0.9099198250728862, 0.8542357351103707, 0.8950531028738027] 0.8864028876856865\n"
     ]
    },
    {
     "output_type": "execute_result",
     "data": {
      "text/plain": [
       "0.8864028876856865"
      ]
     },
     "metadata": {},
     "execution_count": 21
    }
   ],
   "execution_count": null
  },
  {
   "metadata": {},
   "source": [
    "Сбалансированная модель явно лучше. Но как насчёт простого бейзлайна?"
   ],
   "cell_type": "markdown"
  },
  {
   "metadata": {},
   "source": [
    "dev_balanced[\"label_id\"] = [all_labels.index(xl) for xl in dev_balanced[\"label\"]]"
   ],
   "cell_type": "code",
   "outputs": [],
   "execution_count": null
  },
  {
   "metadata": {},
   "source": [
    "train_small = train_data.sample(100000, random_state=1)\n",
    "train_small[\"label_id\"] = [all_labels.index(xl) for xl in train_small[\"label\"]]"
   ],
   "cell_type": "code",
   "outputs": [],
   "execution_count": null
  },
  {
   "metadata": {},
   "source": [
    "%%time\n",
    "pipe = make_pipeline(\n",
    "    HashingVectorizer(analyzer=\"char\", n_features=300_000, ngram_range=(3, 6)),\n",
    "    LogisticRegression(max_iter=1000, solver=\"saga\"),\n",
    ")\n",
    "pipe.fit(train_small.text, train_small.label_id)\n",
    "display(get_classification_report(dev_balanced.label_id, pipe.predict_proba(dev_balanced.text), labels=all_labels)[0])"
   ],
   "cell_type": "code",
   "outputs": [
    {
     "output_type": "display_data",
     "data": {
      "text/html": [
       "<div>\n",
       "<style scoped>\n",
       "    .dataframe tbody tr th:only-of-type {\n",
       "        vertical-align: middle;\n",
       "    }\n",
       "\n",
       "    .dataframe tbody tr th {\n",
       "        vertical-align: top;\n",
       "    }\n",
       "\n",
       "    .dataframe thead th {\n",
       "        text-align: right;\n",
       "    }\n",
       "</style>\n",
       "<table border=\"1\" class=\"dataframe\">\n",
       "  <thead>\n",
       "    <tr style=\"text-align: right;\">\n",
       "      <th></th>\n",
       "      <th>p</th>\n",
       "      <th>r</th>\n",
       "      <th>f</th>\n",
       "      <th>s</th>\n",
       "      <th>a</th>\n",
       "    </tr>\n",
       "  </thead>\n",
       "  <tbody>\n",
       "    <tr>\n",
       "      <th>negative</th>\n",
       "      <td>0.695122</td>\n",
       "      <td>0.581633</td>\n",
       "      <td>0.633333</td>\n",
       "      <td>490.0</td>\n",
       "      <td>0.849076</td>\n",
       "    </tr>\n",
       "    <tr>\n",
       "      <th>neutral</th>\n",
       "      <td>0.486202</td>\n",
       "      <td>0.755102</td>\n",
       "      <td>0.591527</td>\n",
       "      <td>490.0</td>\n",
       "      <td>0.758511</td>\n",
       "    </tr>\n",
       "    <tr>\n",
       "      <th>positive</th>\n",
       "      <td>0.725753</td>\n",
       "      <td>0.442857</td>\n",
       "      <td>0.550063</td>\n",
       "      <td>490.0</td>\n",
       "      <td>0.793168</td>\n",
       "    </tr>\n",
       "    <tr>\n",
       "      <th>mean</th>\n",
       "      <td>0.635692</td>\n",
       "      <td>0.593197</td>\n",
       "      <td>0.591641</td>\n",
       "      <td>490.0</td>\n",
       "      <td>0.800252</td>\n",
       "    </tr>\n",
       "  </tbody>\n",
       "</table>\n",
       "</div>"
      ],
      "text/plain": [
       "                 p         r         f      s         a\n",
       "negative  0.695122  0.581633  0.633333  490.0  0.849076\n",
       "neutral   0.486202  0.755102  0.591527  490.0  0.758511\n",
       "positive  0.725753  0.442857  0.550063  490.0  0.793168\n",
       "mean      0.635692  0.593197  0.591641  490.0  0.800252"
      ]
     },
     "metadata": {}
    },
    {
     "output_type": "stream",
     "name": "stdout",
     "text": [
      "CPU times: user 1min 12s, sys: 695 ms, total: 1min 13s\n",
      "Wall time: 1min 13s\n"
     ]
    }
   ],
   "execution_count": null
  },
  {
   "metadata": {},
   "source": [
    "Balance only classes; this definitely helps. "
   ],
   "cell_type": "markdown"
  },
  {
   "metadata": {},
   "source": [
    "%%time\n",
    "pipe_b1 = make_pipeline(\n",
    "    HashingVectorizer(analyzer=\"char\", n_features=300_000, ngram_range=(3, 6)),\n",
    "    LogisticRegression(max_iter=1000, solver=\"saga\", class_weight=\"balanced\"),\n",
    ")\n",
    "pipe_b1.fit(train_small.text, train_small.label_id)\n",
    "display(\n",
    "    get_classification_report(\n",
    "        dev_balanced.label_id,\n",
    "        pipe_b1.predict_proba(dev_balanced.text),\n",
    "        labels=all_labels,\n",
    "    )[0]\n",
    ")"
   ],
   "cell_type": "code",
   "outputs": [
    {
     "output_type": "display_data",
     "data": {
      "text/html": [
       "<div>\n",
       "<style scoped>\n",
       "    .dataframe tbody tr th:only-of-type {\n",
       "        vertical-align: middle;\n",
       "    }\n",
       "\n",
       "    .dataframe tbody tr th {\n",
       "        vertical-align: top;\n",
       "    }\n",
       "\n",
       "    .dataframe thead th {\n",
       "        text-align: right;\n",
       "    }\n",
       "</style>\n",
       "<table border=\"1\" class=\"dataframe\">\n",
       "  <thead>\n",
       "    <tr style=\"text-align: right;\">\n",
       "      <th></th>\n",
       "      <th>p</th>\n",
       "      <th>r</th>\n",
       "      <th>f</th>\n",
       "      <th>s</th>\n",
       "      <th>a</th>\n",
       "    </tr>\n",
       "  </thead>\n",
       "  <tbody>\n",
       "    <tr>\n",
       "      <th>negative</th>\n",
       "      <td>0.643510</td>\n",
       "      <td>0.718367</td>\n",
       "      <td>0.678881</td>\n",
       "      <td>490.0</td>\n",
       "      <td>0.859264</td>\n",
       "    </tr>\n",
       "    <tr>\n",
       "      <th>neutral</th>\n",
       "      <td>0.568862</td>\n",
       "      <td>0.581633</td>\n",
       "      <td>0.575177</td>\n",
       "      <td>490.0</td>\n",
       "      <td>0.752591</td>\n",
       "    </tr>\n",
       "    <tr>\n",
       "      <th>positive</th>\n",
       "      <td>0.691943</td>\n",
       "      <td>0.595918</td>\n",
       "      <td>0.640351</td>\n",
       "      <td>490.0</td>\n",
       "      <td>0.810263</td>\n",
       "    </tr>\n",
       "    <tr>\n",
       "      <th>mean</th>\n",
       "      <td>0.634772</td>\n",
       "      <td>0.631973</td>\n",
       "      <td>0.631470</td>\n",
       "      <td>490.0</td>\n",
       "      <td>0.807373</td>\n",
       "    </tr>\n",
       "  </tbody>\n",
       "</table>\n",
       "</div>"
      ],
      "text/plain": [
       "                 p         r         f      s         a\n",
       "negative  0.643510  0.718367  0.678881  490.0  0.859264\n",
       "neutral   0.568862  0.581633  0.575177  490.0  0.752591\n",
       "positive  0.691943  0.595918  0.640351  490.0  0.810263\n",
       "mean      0.634772  0.631973  0.631470  490.0  0.807373"
      ]
     },
     "metadata": {}
    },
    {
     "output_type": "stream",
     "name": "stdout",
     "text": [
      "CPU times: user 1min 18s, sys: 459 ms, total: 1min 19s\n",
      "Wall time: 1min 18s\n"
     ]
    }
   ],
   "execution_count": null
  },
  {
   "metadata": {},
   "source": [
    "What about words? They fare worse"
   ],
   "cell_type": "markdown"
  },
  {
   "metadata": {},
   "source": [
    "%%time\n",
    "pipe_b1 = make_pipeline(\n",
    "    HashingVectorizer(analyzer=\"word\", n_features=300_000, ngram_range=(1, 2)),\n",
    "    LogisticRegression(max_iter=1000, solver=\"saga\", class_weight=\"balanced\"),\n",
    ")\n",
    "pipe_b1.fit(train_small.text, train_small.label_id)\n",
    "display(\n",
    "    get_classification_report(\n",
    "        dev_balanced.label_id,\n",
    "        pipe_b1.predict_proba(dev_balanced.text),\n",
    "        labels=all_labels,\n",
    "    )[0]\n",
    ")"
   ],
   "cell_type": "code",
   "outputs": [
    {
     "output_type": "display_data",
     "data": {
      "text/html": [
       "<div>\n",
       "<style scoped>\n",
       "    .dataframe tbody tr th:only-of-type {\n",
       "        vertical-align: middle;\n",
       "    }\n",
       "\n",
       "    .dataframe tbody tr th {\n",
       "        vertical-align: top;\n",
       "    }\n",
       "\n",
       "    .dataframe thead th {\n",
       "        text-align: right;\n",
       "    }\n",
       "</style>\n",
       "<table border=\"1\" class=\"dataframe\">\n",
       "  <thead>\n",
       "    <tr style=\"text-align: right;\">\n",
       "      <th></th>\n",
       "      <th>p</th>\n",
       "      <th>r</th>\n",
       "      <th>f</th>\n",
       "      <th>s</th>\n",
       "      <th>a</th>\n",
       "    </tr>\n",
       "  </thead>\n",
       "  <tbody>\n",
       "    <tr>\n",
       "      <th>negative</th>\n",
       "      <td>0.614159</td>\n",
       "      <td>0.708163</td>\n",
       "      <td>0.657820</td>\n",
       "      <td>490.0</td>\n",
       "      <td>0.832050</td>\n",
       "    </tr>\n",
       "    <tr>\n",
       "      <th>neutral</th>\n",
       "      <td>0.543478</td>\n",
       "      <td>0.561224</td>\n",
       "      <td>0.552209</td>\n",
       "      <td>490.0</td>\n",
       "      <td>0.728746</td>\n",
       "    </tr>\n",
       "    <tr>\n",
       "      <th>positive</th>\n",
       "      <td>0.624060</td>\n",
       "      <td>0.508163</td>\n",
       "      <td>0.560180</td>\n",
       "      <td>490.0</td>\n",
       "      <td>0.774703</td>\n",
       "    </tr>\n",
       "    <tr>\n",
       "      <th>mean</th>\n",
       "      <td>0.593899</td>\n",
       "      <td>0.592517</td>\n",
       "      <td>0.590070</td>\n",
       "      <td>490.0</td>\n",
       "      <td>0.778500</td>\n",
       "    </tr>\n",
       "  </tbody>\n",
       "</table>\n",
       "</div>"
      ],
      "text/plain": [
       "                 p         r         f      s         a\n",
       "negative  0.614159  0.708163  0.657820  490.0  0.832050\n",
       "neutral   0.543478  0.561224  0.552209  490.0  0.728746\n",
       "positive  0.624060  0.508163  0.560180  490.0  0.774703\n",
       "mean      0.593899  0.592517  0.590070  490.0  0.778500"
      ]
     },
     "metadata": {}
    },
    {
     "output_type": "stream",
     "name": "stdout",
     "text": [
      "CPU times: user 10.1 s, sys: 20.1 ms, total: 10.2 s\n",
      "Wall time: 10.1 s\n"
     ]
    }
   ],
   "execution_count": null
  },
  {
   "metadata": {},
   "source": [
    "Balance sources and classes"
   ],
   "cell_type": "markdown"
  },
  {
   "metadata": {},
   "source": [
    "group_size = int(train_data.shape[0] * 0.1 / train_data.source.nunique() / train_data.label.nunique())\n",
    "print(group_size)\n",
    "bala_train = train_data.groupby([\"source\", \"label\"]).apply(\n",
    "    lambda x: x.sample(group_size, random_state=1, replace=(x.shape[0] < group_size))\n",
    ")\n",
    "bala_train[\"label_id\"] = [all_labels.index(xl) for xl in bala_train[\"label\"]]\n",
    "print(bala_train.shape)"
   ],
   "cell_type": "code",
   "outputs": [
    {
     "output_type": "stream",
     "name": "stdout",
     "text": [
      "2611\n",
      "(54831, 5)\n"
     ]
    }
   ],
   "execution_count": null
  },
  {
   "metadata": {},
   "source": [
    "The model is a clear improvement over *unbalanced* BERT"
   ],
   "cell_type": "markdown"
  },
  {
   "metadata": {},
   "source": [
    "pipe_b2 = make_pipeline(\n",
    "    HashingVectorizer(analyzer=\"char\", n_features=300_000, ngram_range=(3, 6)),\n",
    "    LogisticRegression(max_iter=1000, solver=\"saga\", class_weight=\"balanced\"),\n",
    ")\n",
    "pipe_b2.fit(bala_train.text, bala_train.label_id)\n",
    "display(\n",
    "    get_classification_report(\n",
    "        dev_balanced.label_id,\n",
    "        pipe_b2.predict_proba(dev_balanced.text),\n",
    "        labels=all_labels,\n",
    "    )[0]\n",
    ")"
   ],
   "cell_type": "code",
   "outputs": [
    {
     "output_type": "display_data",
     "data": {
      "text/html": [
       "<div>\n",
       "<style scoped>\n",
       "    .dataframe tbody tr th:only-of-type {\n",
       "        vertical-align: middle;\n",
       "    }\n",
       "\n",
       "    .dataframe tbody tr th {\n",
       "        vertical-align: top;\n",
       "    }\n",
       "\n",
       "    .dataframe thead th {\n",
       "        text-align: right;\n",
       "    }\n",
       "</style>\n",
       "<table border=\"1\" class=\"dataframe\">\n",
       "  <thead>\n",
       "    <tr style=\"text-align: right;\">\n",
       "      <th></th>\n",
       "      <th>p</th>\n",
       "      <th>r</th>\n",
       "      <th>f</th>\n",
       "      <th>s</th>\n",
       "      <th>a</th>\n",
       "    </tr>\n",
       "  </thead>\n",
       "  <tbody>\n",
       "    <tr>\n",
       "      <th>negative</th>\n",
       "      <td>0.721545</td>\n",
       "      <td>0.724490</td>\n",
       "      <td>0.723014</td>\n",
       "      <td>490.0</td>\n",
       "      <td>0.891586</td>\n",
       "    </tr>\n",
       "    <tr>\n",
       "      <th>neutral</th>\n",
       "      <td>0.630975</td>\n",
       "      <td>0.673469</td>\n",
       "      <td>0.651530</td>\n",
       "      <td>490.0</td>\n",
       "      <td>0.827670</td>\n",
       "    </tr>\n",
       "    <tr>\n",
       "      <th>positive</th>\n",
       "      <td>0.740659</td>\n",
       "      <td>0.687755</td>\n",
       "      <td>0.713228</td>\n",
       "      <td>490.0</td>\n",
       "      <td>0.882229</td>\n",
       "    </tr>\n",
       "    <tr>\n",
       "      <th>mean</th>\n",
       "      <td>0.697726</td>\n",
       "      <td>0.695238</td>\n",
       "      <td>0.695924</td>\n",
       "      <td>490.0</td>\n",
       "      <td>0.867162</td>\n",
       "    </tr>\n",
       "  </tbody>\n",
       "</table>\n",
       "</div>"
      ],
      "text/plain": [
       "                 p         r         f      s         a\n",
       "negative  0.721545  0.724490  0.723014  490.0  0.891586\n",
       "neutral   0.630975  0.673469  0.651530  490.0  0.827670\n",
       "positive  0.740659  0.687755  0.713228  490.0  0.882229\n",
       "mean      0.697726  0.695238  0.695924  490.0  0.867162"
      ]
     },
     "metadata": {}
    }
   ],
   "execution_count": null
  },
  {
   "metadata": {},
   "source": [
    "Repeat the experiment with a larger-sized resampled train data \n",
    "\n",
    "The full train sample fails because of RAM requirements, so we use a fraction of mostly 0.3 of the original data.\n",
    "\n",
    "And still this model is only fractionally worse than BERT. "
   ],
   "cell_type": "markdown"
  },
  {
   "metadata": {},
   "source": [
    "group_size = int(train_data.shape[0] * 0.3 / train_data.source.nunique() / train_data.label.nunique())\n",
    "print(group_size)\n",
    "bala_train = train_data.groupby([\"source\", \"label\"]).apply(\n",
    "    lambda x: x.sample(group_size, random_state=1, replace=(x.shape[0] < group_size))\n",
    ")\n",
    "bala_train[\"label_id\"] = [all_labels.index(xl) for xl in bala_train[\"label\"]]\n",
    "print(bala_train.shape)\n",
    "\n",
    "pipe_b2 = make_pipeline(\n",
    "    HashingVectorizer(analyzer=\"char\", n_features=300_000, ngram_range=(3, 6)),\n",
    "    LogisticRegression(max_iter=1000, solver=\"saga\", class_weight=\"balanced\"),\n",
    ")\n",
    "pipe_b2.fit(bala_train.text, bala_train.label_id)\n",
    "display(\n",
    "    get_classification_report(\n",
    "        dev_balanced.label_id,\n",
    "        pipe_b2.predict_proba(dev_balanced.text),\n",
    "        labels=all_labels,\n",
    "    )[0]\n",
    ")"
   ],
   "cell_type": "code",
   "outputs": [
    {
     "output_type": "stream",
     "name": "stdout",
     "text": [
      "7834\n",
      "(164514, 5)\n"
     ]
    },
    {
     "output_type": "display_data",
     "data": {
      "text/html": [
       "<div>\n",
       "<style scoped>\n",
       "    .dataframe tbody tr th:only-of-type {\n",
       "        vertical-align: middle;\n",
       "    }\n",
       "\n",
       "    .dataframe tbody tr th {\n",
       "        vertical-align: top;\n",
       "    }\n",
       "\n",
       "    .dataframe thead th {\n",
       "        text-align: right;\n",
       "    }\n",
       "</style>\n",
       "<table border=\"1\" class=\"dataframe\">\n",
       "  <thead>\n",
       "    <tr style=\"text-align: right;\">\n",
       "      <th></th>\n",
       "      <th>p</th>\n",
       "      <th>r</th>\n",
       "      <th>f</th>\n",
       "      <th>s</th>\n",
       "      <th>a</th>\n",
       "    </tr>\n",
       "  </thead>\n",
       "  <tbody>\n",
       "    <tr>\n",
       "      <th>negative</th>\n",
       "      <td>0.740443</td>\n",
       "      <td>0.751020</td>\n",
       "      <td>0.745694</td>\n",
       "      <td>490.0</td>\n",
       "      <td>0.904516</td>\n",
       "    </tr>\n",
       "    <tr>\n",
       "      <th>neutral</th>\n",
       "      <td>0.656546</td>\n",
       "      <td>0.706122</td>\n",
       "      <td>0.680433</td>\n",
       "      <td>490.0</td>\n",
       "      <td>0.849898</td>\n",
       "    </tr>\n",
       "    <tr>\n",
       "      <th>positive</th>\n",
       "      <td>0.782511</td>\n",
       "      <td>0.712245</td>\n",
       "      <td>0.745726</td>\n",
       "      <td>490.0</td>\n",
       "      <td>0.893027</td>\n",
       "    </tr>\n",
       "    <tr>\n",
       "      <th>mean</th>\n",
       "      <td>0.726500</td>\n",
       "      <td>0.723129</td>\n",
       "      <td>0.723951</td>\n",
       "      <td>490.0</td>\n",
       "      <td>0.882480</td>\n",
       "    </tr>\n",
       "  </tbody>\n",
       "</table>\n",
       "</div>"
      ],
      "text/plain": [
       "                 p         r         f      s         a\n",
       "negative  0.740443  0.751020  0.745694  490.0  0.904516\n",
       "neutral   0.656546  0.706122  0.680433  490.0  0.849898\n",
       "positive  0.782511  0.712245  0.745726  490.0  0.893027\n",
       "mean      0.726500  0.723129  0.723951  490.0  0.882480"
      ]
     },
     "metadata": {}
    }
   ],
   "execution_count": null
  },
  {
   "metadata": {},
   "source": [
    "joblib.dump(pipe_b2, \"/gd/MyDrive/models/ru_sentiment_balanced_logreg_classifier.joblib\")"
   ],
   "cell_type": "code",
   "outputs": [
    {
     "output_type": "execute_result",
     "data": {
      "text/plain": [
       "['/gd/MyDrive/models/ru_sentiment_balanced_logreg_classifier.joblib']"
      ]
     },
     "metadata": {},
     "execution_count": 25
    }
   ],
   "execution_count": null
  },
  {
   "metadata": {},
   "source": [
    "### Evaluate across sources"
   ],
   "cell_type": "markdown"
  },
  {
   "metadata": {},
   "source": [
    "dev_dataloader_fixed = DataLoader(\n",
    "    data_tokenized[\"dev\"],\n",
    "    batch_size=32,\n",
    "    drop_last=False,\n",
    "    shuffle=False,\n",
    "    num_workers=0,\n",
    "    collate_fn=data_collator,\n",
    ")"
   ],
   "cell_type": "code",
   "outputs": [],
   "execution_count": null
  },
  {
   "metadata": {},
   "source": [
    "dev = full_sentiment_data[full_sentiment_data.split == \"dev\"].copy()"
   ],
   "cell_type": "code",
   "outputs": [],
   "execution_count": null
  },
  {
   "metadata": {},
   "source": [
    "facts, preds_m2 = predict_with_model(model2, dev_dataloader_fixed)\n",
    "assert (dev.label == [all_labels[i] for i in facts]).all()\n",
    "dev[\"preds_m2\"] = [all_labels[i] for i in preds_m2.argmax(axis=1)]"
   ],
   "cell_type": "code",
   "outputs": [
    {
     "output_type": "display_data",
     "data": {
      "application/vnd.jupyter.widget-view+json": {
       "model_id": "09581ac62f474fc0901565d6279b14eb",
       "version_minor": 0,
       "version_major": 2
      },
      "text/plain": [
       "  0%|          | 0/2147 [00:00<?, ?it/s]"
      ]
     },
     "metadata": {}
    }
   ],
   "execution_count": null
  },
  {
   "metadata": {},
   "source": [
    "facts, preds_m1 = predict_with_model(model1, dev_dataloader_fixed)\n",
    "dev[\"preds_m1\"] = [all_labels[i] for i in preds_m1.argmax(axis=1)]"
   ],
   "cell_type": "code",
   "outputs": [
    {
     "output_type": "display_data",
     "data": {
      "application/vnd.jupyter.widget-view+json": {
       "model_id": "c36c33be83ab45dfb93ac0006bb2c1c7",
       "version_minor": 0,
       "version_major": 2
      },
      "text/plain": [
       "  0%|          | 0/2147 [00:00<?, ?it/s]"
      ]
     },
     "metadata": {}
    }
   ],
   "execution_count": null
  },
  {
   "metadata": {},
   "source": [
    "dev[\"preds_lr\"] = [all_labels[i] for i in pipe_b2.predict(dev[\"text\"])]"
   ],
   "cell_type": "code",
   "outputs": [],
   "execution_count": null
  },
  {
   "metadata": {},
   "source": [
    "stat_m1 = dev.groupby(\"source\").apply(\n",
    "    lambda x: pd.Series(\n",
    "        {\n",
    "            \"n\": x.shape[0],\n",
    "            \"accuracy\": accuracy_score(x.label, x.preds_m1),\n",
    "            \"f1_macro\": f1_score(x.label, x.preds_m1, average=\"macro\"),\n",
    "        }\n",
    "    )\n",
    ")\n",
    "display(stat_m1)\n",
    "print(stat_m1.mean())"
   ],
   "cell_type": "code",
   "outputs": [
    {
     "output_type": "display_data",
     "data": {
      "text/html": [
       "<div>\n",
       "<style scoped>\n",
       "    .dataframe tbody tr th:only-of-type {\n",
       "        vertical-align: middle;\n",
       "    }\n",
       "\n",
       "    .dataframe tbody tr th {\n",
       "        vertical-align: top;\n",
       "    }\n",
       "\n",
       "    .dataframe thead th {\n",
       "        text-align: right;\n",
       "    }\n",
       "</style>\n",
       "<table border=\"1\" class=\"dataframe\">\n",
       "  <thead>\n",
       "    <tr style=\"text-align: right;\">\n",
       "      <th></th>\n",
       "      <th>n</th>\n",
       "      <th>accuracy</th>\n",
       "      <th>f1_macro</th>\n",
       "    </tr>\n",
       "    <tr>\n",
       "      <th>source</th>\n",
       "      <th></th>\n",
       "      <th></th>\n",
       "      <th></th>\n",
       "    </tr>\n",
       "  </thead>\n",
       "  <tbody>\n",
       "    <tr>\n",
       "      <th>SentiRuEval2016_banks</th>\n",
       "      <td>1055.0</td>\n",
       "      <td>0.869194</td>\n",
       "      <td>0.709848</td>\n",
       "    </tr>\n",
       "    <tr>\n",
       "      <th>SentiRuEval2016_tele</th>\n",
       "      <td>937.0</td>\n",
       "      <td>0.707577</td>\n",
       "      <td>0.634077</td>\n",
       "    </tr>\n",
       "    <tr>\n",
       "      <th>kaggle_news</th>\n",
       "      <td>840.0</td>\n",
       "      <td>0.651190</td>\n",
       "      <td>0.604491</td>\n",
       "    </tr>\n",
       "    <tr>\n",
       "      <th>linis</th>\n",
       "      <td>2675.0</td>\n",
       "      <td>0.601495</td>\n",
       "      <td>0.525590</td>\n",
       "    </tr>\n",
       "    <tr>\n",
       "      <th>mokoron</th>\n",
       "      <td>51886.0</td>\n",
       "      <td>0.996203</td>\n",
       "      <td>0.996019</td>\n",
       "    </tr>\n",
       "    <tr>\n",
       "      <th>rureviews</th>\n",
       "      <td>9171.0</td>\n",
       "      <td>0.737651</td>\n",
       "      <td>0.740745</td>\n",
       "    </tr>\n",
       "    <tr>\n",
       "      <th>rusentiment</th>\n",
       "      <td>2112.0</td>\n",
       "      <td>0.643466</td>\n",
       "      <td>0.549202</td>\n",
       "    </tr>\n",
       "  </tbody>\n",
       "</table>\n",
       "</div>"
      ],
      "text/plain": [
       "                             n  accuracy  f1_macro\n",
       "source                                            \n",
       "SentiRuEval2016_banks   1055.0  0.869194  0.709848\n",
       "SentiRuEval2016_tele     937.0  0.707577  0.634077\n",
       "kaggle_news              840.0  0.651190  0.604491\n",
       "linis                   2675.0  0.601495  0.525590\n",
       "mokoron                51886.0  0.996203  0.996019\n",
       "rureviews               9171.0  0.737651  0.740745\n",
       "rusentiment             2112.0  0.643466  0.549202"
      ]
     },
     "metadata": {}
    },
    {
     "output_type": "stream",
     "name": "stdout",
     "text": [
      "n           9810.857143\n",
      "accuracy       0.743825\n",
      "f1_macro       0.679996\n",
      "dtype: float64\n"
     ]
    }
   ],
   "execution_count": null
  },
  {
   "metadata": {},
   "source": [
    "stat_m2 = dev.groupby(\"source\").apply(\n",
    "    lambda x: pd.Series(\n",
    "        {\n",
    "            \"n\": x.shape[0],\n",
    "            \"accuracy\": accuracy_score(x.label, x.preds_m2),\n",
    "            \"f1_macro\": f1_score(x.label, x.preds_m2, average=\"macro\"),\n",
    "        }\n",
    "    )\n",
    ")\n",
    "display(stat_m2)\n",
    "print(stat_m2.mean())"
   ],
   "cell_type": "code",
   "outputs": [
    {
     "output_type": "display_data",
     "data": {
      "text/html": [
       "<div>\n",
       "<style scoped>\n",
       "    .dataframe tbody tr th:only-of-type {\n",
       "        vertical-align: middle;\n",
       "    }\n",
       "\n",
       "    .dataframe tbody tr th {\n",
       "        vertical-align: top;\n",
       "    }\n",
       "\n",
       "    .dataframe thead th {\n",
       "        text-align: right;\n",
       "    }\n",
       "</style>\n",
       "<table border=\"1\" class=\"dataframe\">\n",
       "  <thead>\n",
       "    <tr style=\"text-align: right;\">\n",
       "      <th></th>\n",
       "      <th>n</th>\n",
       "      <th>accuracy</th>\n",
       "      <th>f1_macro</th>\n",
       "    </tr>\n",
       "    <tr>\n",
       "      <th>source</th>\n",
       "      <th></th>\n",
       "      <th></th>\n",
       "      <th></th>\n",
       "    </tr>\n",
       "  </thead>\n",
       "  <tbody>\n",
       "    <tr>\n",
       "      <th>SentiRuEval2016_banks</th>\n",
       "      <td>1055.0</td>\n",
       "      <td>0.895735</td>\n",
       "      <td>0.821613</td>\n",
       "    </tr>\n",
       "    <tr>\n",
       "      <th>SentiRuEval2016_tele</th>\n",
       "      <td>937.0</td>\n",
       "      <td>0.779082</td>\n",
       "      <td>0.738880</td>\n",
       "    </tr>\n",
       "    <tr>\n",
       "      <th>kaggle_news</th>\n",
       "      <td>840.0</td>\n",
       "      <td>0.641667</td>\n",
       "      <td>0.644934</td>\n",
       "    </tr>\n",
       "    <tr>\n",
       "      <th>linis</th>\n",
       "      <td>2675.0</td>\n",
       "      <td>0.558131</td>\n",
       "      <td>0.508081</td>\n",
       "    </tr>\n",
       "    <tr>\n",
       "      <th>mokoron</th>\n",
       "      <td>51886.0</td>\n",
       "      <td>0.942778</td>\n",
       "      <td>0.938706</td>\n",
       "    </tr>\n",
       "    <tr>\n",
       "      <th>rureviews</th>\n",
       "      <td>9171.0</td>\n",
       "      <td>0.724894</td>\n",
       "      <td>0.726662</td>\n",
       "    </tr>\n",
       "    <tr>\n",
       "      <th>rusentiment</th>\n",
       "      <td>2112.0</td>\n",
       "      <td>0.663352</td>\n",
       "      <td>0.648349</td>\n",
       "    </tr>\n",
       "  </tbody>\n",
       "</table>\n",
       "</div>"
      ],
      "text/plain": [
       "                             n  accuracy  f1_macro\n",
       "source                                            \n",
       "SentiRuEval2016_banks   1055.0  0.895735  0.821613\n",
       "SentiRuEval2016_tele     937.0  0.779082  0.738880\n",
       "kaggle_news              840.0  0.641667  0.644934\n",
       "linis                   2675.0  0.558131  0.508081\n",
       "mokoron                51886.0  0.942778  0.938706\n",
       "rureviews               9171.0  0.724894  0.726662\n",
       "rusentiment             2112.0  0.663352  0.648349"
      ]
     },
     "metadata": {}
    },
    {
     "output_type": "stream",
     "name": "stdout",
     "text": [
      "n           9810.857143\n",
      "accuracy       0.743663\n",
      "f1_macro       0.718175\n",
      "dtype: float64\n"
     ]
    }
   ],
   "execution_count": null
  },
  {
   "metadata": {},
   "source": [
    "stat_lr = dev.groupby(\"source\").apply(\n",
    "    lambda x: pd.Series(\n",
    "        {\n",
    "            \"n\": x.shape[0],\n",
    "            \"accuracy\": accuracy_score(x.label, x.preds_lr),\n",
    "            \"f1_macro\": f1_score(x.label, x.preds_lr, average=\"macro\"),\n",
    "        }\n",
    "    )\n",
    ")\n",
    "display(stat_lr)\n",
    "print(stat_lr.mean())"
   ],
   "cell_type": "code",
   "outputs": [
    {
     "output_type": "display_data",
     "data": {
      "text/html": [
       "<div>\n",
       "<style scoped>\n",
       "    .dataframe tbody tr th:only-of-type {\n",
       "        vertical-align: middle;\n",
       "    }\n",
       "\n",
       "    .dataframe tbody tr th {\n",
       "        vertical-align: top;\n",
       "    }\n",
       "\n",
       "    .dataframe thead th {\n",
       "        text-align: right;\n",
       "    }\n",
       "</style>\n",
       "<table border=\"1\" class=\"dataframe\">\n",
       "  <thead>\n",
       "    <tr style=\"text-align: right;\">\n",
       "      <th></th>\n",
       "      <th>n</th>\n",
       "      <th>accuracy</th>\n",
       "      <th>f1_macro</th>\n",
       "    </tr>\n",
       "    <tr>\n",
       "      <th>source</th>\n",
       "      <th></th>\n",
       "      <th></th>\n",
       "      <th></th>\n",
       "    </tr>\n",
       "  </thead>\n",
       "  <tbody>\n",
       "    <tr>\n",
       "      <th>SentiRuEval2016_banks</th>\n",
       "      <td>1055.0</td>\n",
       "      <td>0.881517</td>\n",
       "      <td>0.803410</td>\n",
       "    </tr>\n",
       "    <tr>\n",
       "      <th>SentiRuEval2016_tele</th>\n",
       "      <td>937.0</td>\n",
       "      <td>0.772679</td>\n",
       "      <td>0.734903</td>\n",
       "    </tr>\n",
       "    <tr>\n",
       "      <th>kaggle_news</th>\n",
       "      <td>840.0</td>\n",
       "      <td>0.685714</td>\n",
       "      <td>0.678902</td>\n",
       "    </tr>\n",
       "    <tr>\n",
       "      <th>linis</th>\n",
       "      <td>2675.0</td>\n",
       "      <td>0.570093</td>\n",
       "      <td>0.521029</td>\n",
       "    </tr>\n",
       "    <tr>\n",
       "      <th>mokoron</th>\n",
       "      <td>51886.0</td>\n",
       "      <td>0.804745</td>\n",
       "      <td>0.767611</td>\n",
       "    </tr>\n",
       "    <tr>\n",
       "      <th>rureviews</th>\n",
       "      <td>9171.0</td>\n",
       "      <td>0.720532</td>\n",
       "      <td>0.722225</td>\n",
       "    </tr>\n",
       "    <tr>\n",
       "      <th>rusentiment</th>\n",
       "      <td>2112.0</td>\n",
       "      <td>0.675189</td>\n",
       "      <td>0.658313</td>\n",
       "    </tr>\n",
       "  </tbody>\n",
       "</table>\n",
       "</div>"
      ],
      "text/plain": [
       "                             n  accuracy  f1_macro\n",
       "source                                            \n",
       "SentiRuEval2016_banks   1055.0  0.881517  0.803410\n",
       "SentiRuEval2016_tele     937.0  0.772679  0.734903\n",
       "kaggle_news              840.0  0.685714  0.678902\n",
       "linis                   2675.0  0.570093  0.521029\n",
       "mokoron                51886.0  0.804745  0.767611\n",
       "rureviews               9171.0  0.720532  0.722225\n",
       "rusentiment             2112.0  0.675189  0.658313"
      ]
     },
     "metadata": {}
    },
    {
     "output_type": "stream",
     "name": "stdout",
     "text": [
      "n           9810.857143\n",
      "accuracy       0.730067\n",
      "f1_macro       0.698056\n",
      "dtype: float64\n"
     ]
    }
   ],
   "execution_count": null
  },
  {
   "metadata": {},
   "source": [
    "И всё та же статистика - на сбалансированной выборке, чтобы понять, как дисбаланс влияет на все эти числа. \n",
    "\n",
    "Все числа стали больше, но видим, что модель очень хорошо отрабатывает на Мокороне, и очень плохо - на почти всех остальных данных. Увы. Придётся работать с чем есть. \n",
    "\n",
    "В целом, второй берт получился относительно ничего. Надеюсь, на своих данных его можно будет нормально дотюнивать. "
   ],
   "cell_type": "markdown"
  },
  {
   "metadata": {},
   "source": [
    "facts, preds_m2 = predict_with_model(model2, torch_dev_balanced_loader)\n",
    "assert (dev_balanced.label == [all_labels[i] for i in facts]).all()\n",
    "dev_balanced[\"preds_m2\"] = [all_labels[i] for i in preds_m2.argmax(axis=1)]\n",
    "\n",
    "facts, preds_m1 = predict_with_model(model1, torch_dev_balanced_loader)\n",
    "dev_balanced[\"preds_m1\"] = [all_labels[i] for i in preds_m1.argmax(axis=1)]\n",
    "\n",
    "dev_balanced[\"preds_lr\"] = [all_labels[i] for i in pipe_b2.predict(dev_balanced[\"text\"])]"
   ],
   "cell_type": "code",
   "outputs": [
    {
     "output_type": "display_data",
     "data": {
      "application/vnd.jupyter.widget-view+json": {
       "model_id": "c4035088cfea4cf59a15209fcec83e93",
       "version_minor": 0,
       "version_major": 2
      },
      "text/plain": [
       "  0%|          | 0/23 [00:00<?, ?it/s]"
      ]
     },
     "metadata": {}
    },
    {
     "output_type": "display_data",
     "data": {
      "application/vnd.jupyter.widget-view+json": {
       "model_id": "70f00d23bb3b4d80a45f90af5e62666e",
       "version_minor": 0,
       "version_major": 2
      },
      "text/plain": [
       "  0%|          | 0/23 [00:00<?, ?it/s]"
      ]
     },
     "metadata": {}
    }
   ],
   "execution_count": null
  },
  {
   "metadata": {},
   "source": [
    "stat_m1 = dev_balanced.groupby(\"source\").apply(\n",
    "    lambda x: pd.Series(\n",
    "        {\n",
    "            \"n\": x.shape[0],\n",
    "            \"accuracy\": accuracy_score(x.label, x.preds_m1),\n",
    "            \"f1_macro\": f1_score(x.label, x.preds_m1, average=\"macro\"),\n",
    "        }\n",
    "    )\n",
    ")\n",
    "display(stat_m1)\n",
    "print(stat_m1.mean())"
   ],
   "cell_type": "code",
   "outputs": [
    {
     "output_type": "display_data",
     "data": {
      "text/html": [
       "<div>\n",
       "<style scoped>\n",
       "    .dataframe tbody tr th:only-of-type {\n",
       "        vertical-align: middle;\n",
       "    }\n",
       "\n",
       "    .dataframe tbody tr th {\n",
       "        vertical-align: top;\n",
       "    }\n",
       "\n",
       "    .dataframe thead th {\n",
       "        text-align: right;\n",
       "    }\n",
       "</style>\n",
       "<table border=\"1\" class=\"dataframe\">\n",
       "  <thead>\n",
       "    <tr style=\"text-align: right;\">\n",
       "      <th></th>\n",
       "      <th>n</th>\n",
       "      <th>accuracy</th>\n",
       "      <th>f1_macro</th>\n",
       "    </tr>\n",
       "    <tr>\n",
       "      <th>source</th>\n",
       "      <th></th>\n",
       "      <th></th>\n",
       "      <th></th>\n",
       "    </tr>\n",
       "  </thead>\n",
       "  <tbody>\n",
       "    <tr>\n",
       "      <th>SentiRuEval2016_banks</th>\n",
       "      <td>210.0</td>\n",
       "      <td>0.676190</td>\n",
       "      <td>0.643551</td>\n",
       "    </tr>\n",
       "    <tr>\n",
       "      <th>SentiRuEval2016_tele</th>\n",
       "      <td>210.0</td>\n",
       "      <td>0.585714</td>\n",
       "      <td>0.574823</td>\n",
       "    </tr>\n",
       "    <tr>\n",
       "      <th>kaggle_news</th>\n",
       "      <td>210.0</td>\n",
       "      <td>0.552381</td>\n",
       "      <td>0.539622</td>\n",
       "    </tr>\n",
       "    <tr>\n",
       "      <th>linis</th>\n",
       "      <td>210.0</td>\n",
       "      <td>0.480952</td>\n",
       "      <td>0.460348</td>\n",
       "    </tr>\n",
       "    <tr>\n",
       "      <th>mokoron</th>\n",
       "      <td>210.0</td>\n",
       "      <td>1.000000</td>\n",
       "      <td>1.000000</td>\n",
       "    </tr>\n",
       "    <tr>\n",
       "      <th>rureviews</th>\n",
       "      <td>210.0</td>\n",
       "      <td>0.738095</td>\n",
       "      <td>0.740806</td>\n",
       "    </tr>\n",
       "    <tr>\n",
       "      <th>rusentiment</th>\n",
       "      <td>210.0</td>\n",
       "      <td>0.566667</td>\n",
       "      <td>0.538639</td>\n",
       "    </tr>\n",
       "  </tbody>\n",
       "</table>\n",
       "</div>"
      ],
      "text/plain": [
       "                           n  accuracy  f1_macro\n",
       "source                                          \n",
       "SentiRuEval2016_banks  210.0  0.676190  0.643551\n",
       "SentiRuEval2016_tele   210.0  0.585714  0.574823\n",
       "kaggle_news            210.0  0.552381  0.539622\n",
       "linis                  210.0  0.480952  0.460348\n",
       "mokoron                210.0  1.000000  1.000000\n",
       "rureviews              210.0  0.738095  0.740806\n",
       "rusentiment            210.0  0.566667  0.538639"
      ]
     },
     "metadata": {}
    },
    {
     "output_type": "stream",
     "name": "stdout",
     "text": [
      "n           210.000000\n",
      "accuracy      0.657143\n",
      "f1_macro      0.642541\n",
      "dtype: float64\n"
     ]
    }
   ],
   "execution_count": null
  },
  {
   "metadata": {},
   "source": [
    "stat_m2 = dev_balanced.groupby(\"source\").apply(\n",
    "    lambda x: pd.Series(\n",
    "        {\n",
    "            \"n\": x.shape[0],\n",
    "            \"accuracy\": accuracy_score(x.label, x.preds_m2),\n",
    "            \"f1_macro\": f1_score(x.label, x.preds_m2, average=\"macro\"),\n",
    "        }\n",
    "    )\n",
    ")\n",
    "display(stat_m2)\n",
    "print(stat_m2.mean())"
   ],
   "cell_type": "code",
   "outputs": [
    {
     "output_type": "display_data",
     "data": {
      "text/html": [
       "<div>\n",
       "<style scoped>\n",
       "    .dataframe tbody tr th:only-of-type {\n",
       "        vertical-align: middle;\n",
       "    }\n",
       "\n",
       "    .dataframe tbody tr th {\n",
       "        vertical-align: top;\n",
       "    }\n",
       "\n",
       "    .dataframe thead th {\n",
       "        text-align: right;\n",
       "    }\n",
       "</style>\n",
       "<table border=\"1\" class=\"dataframe\">\n",
       "  <thead>\n",
       "    <tr style=\"text-align: right;\">\n",
       "      <th></th>\n",
       "      <th>n</th>\n",
       "      <th>accuracy</th>\n",
       "      <th>f1_macro</th>\n",
       "    </tr>\n",
       "    <tr>\n",
       "      <th>source</th>\n",
       "      <th></th>\n",
       "      <th></th>\n",
       "      <th></th>\n",
       "    </tr>\n",
       "  </thead>\n",
       "  <tbody>\n",
       "    <tr>\n",
       "      <th>SentiRuEval2016_banks</th>\n",
       "      <td>210.0</td>\n",
       "      <td>0.833333</td>\n",
       "      <td>0.830800</td>\n",
       "    </tr>\n",
       "    <tr>\n",
       "      <th>SentiRuEval2016_tele</th>\n",
       "      <td>210.0</td>\n",
       "      <td>0.742857</td>\n",
       "      <td>0.741517</td>\n",
       "    </tr>\n",
       "    <tr>\n",
       "      <th>kaggle_news</th>\n",
       "      <td>210.0</td>\n",
       "      <td>0.657143</td>\n",
       "      <td>0.659544</td>\n",
       "    </tr>\n",
       "    <tr>\n",
       "      <th>linis</th>\n",
       "      <td>210.0</td>\n",
       "      <td>0.500000</td>\n",
       "      <td>0.495627</td>\n",
       "    </tr>\n",
       "    <tr>\n",
       "      <th>mokoron</th>\n",
       "      <td>210.0</td>\n",
       "      <td>0.980952</td>\n",
       "      <td>0.980839</td>\n",
       "    </tr>\n",
       "    <tr>\n",
       "      <th>rureviews</th>\n",
       "      <td>210.0</td>\n",
       "      <td>0.719048</td>\n",
       "      <td>0.719883</td>\n",
       "    </tr>\n",
       "    <tr>\n",
       "      <th>rusentiment</th>\n",
       "      <td>210.0</td>\n",
       "      <td>0.666667</td>\n",
       "      <td>0.668986</td>\n",
       "    </tr>\n",
       "  </tbody>\n",
       "</table>\n",
       "</div>"
      ],
      "text/plain": [
       "                           n  accuracy  f1_macro\n",
       "source                                          \n",
       "SentiRuEval2016_banks  210.0  0.833333  0.830800\n",
       "SentiRuEval2016_tele   210.0  0.742857  0.741517\n",
       "kaggle_news            210.0  0.657143  0.659544\n",
       "linis                  210.0  0.500000  0.495627\n",
       "mokoron                210.0  0.980952  0.980839\n",
       "rureviews              210.0  0.719048  0.719883\n",
       "rusentiment            210.0  0.666667  0.668986"
      ]
     },
     "metadata": {}
    },
    {
     "output_type": "stream",
     "name": "stdout",
     "text": [
      "n           210.000000\n",
      "accuracy      0.728571\n",
      "f1_macro      0.728171\n",
      "dtype: float64\n"
     ]
    }
   ],
   "execution_count": null
  },
  {
   "metadata": {},
   "source": [
    "stat_lr = dev_balanced.groupby(\"source\").apply(\n",
    "    lambda x: pd.Series(\n",
    "        {\n",
    "            \"n\": x.shape[0],\n",
    "            \"accuracy\": accuracy_score(x.label, x.preds_lr),\n",
    "            \"f1_macro\": f1_score(x.label, x.preds_lr, average=\"macro\"),\n",
    "        }\n",
    "    )\n",
    ")\n",
    "display(stat_lr)\n",
    "print(stat_lr.mean())"
   ],
   "cell_type": "code",
   "outputs": [
    {
     "output_type": "display_data",
     "data": {
      "text/html": [
       "<div>\n",
       "<style scoped>\n",
       "    .dataframe tbody tr th:only-of-type {\n",
       "        vertical-align: middle;\n",
       "    }\n",
       "\n",
       "    .dataframe tbody tr th {\n",
       "        vertical-align: top;\n",
       "    }\n",
       "\n",
       "    .dataframe thead th {\n",
       "        text-align: right;\n",
       "    }\n",
       "</style>\n",
       "<table border=\"1\" class=\"dataframe\">\n",
       "  <thead>\n",
       "    <tr style=\"text-align: right;\">\n",
       "      <th></th>\n",
       "      <th>n</th>\n",
       "      <th>accuracy</th>\n",
       "      <th>f1_macro</th>\n",
       "    </tr>\n",
       "    <tr>\n",
       "      <th>source</th>\n",
       "      <th></th>\n",
       "      <th></th>\n",
       "      <th></th>\n",
       "    </tr>\n",
       "  </thead>\n",
       "  <tbody>\n",
       "    <tr>\n",
       "      <th>SentiRuEval2016_banks</th>\n",
       "      <td>210.0</td>\n",
       "      <td>0.838095</td>\n",
       "      <td>0.837759</td>\n",
       "    </tr>\n",
       "    <tr>\n",
       "      <th>SentiRuEval2016_tele</th>\n",
       "      <td>210.0</td>\n",
       "      <td>0.780952</td>\n",
       "      <td>0.779683</td>\n",
       "    </tr>\n",
       "    <tr>\n",
       "      <th>kaggle_news</th>\n",
       "      <td>210.0</td>\n",
       "      <td>0.719048</td>\n",
       "      <td>0.722450</td>\n",
       "    </tr>\n",
       "    <tr>\n",
       "      <th>linis</th>\n",
       "      <td>210.0</td>\n",
       "      <td>0.547619</td>\n",
       "      <td>0.547372</td>\n",
       "    </tr>\n",
       "    <tr>\n",
       "      <th>mokoron</th>\n",
       "      <td>210.0</td>\n",
       "      <td>0.800000</td>\n",
       "      <td>0.798673</td>\n",
       "    </tr>\n",
       "    <tr>\n",
       "      <th>rureviews</th>\n",
       "      <td>210.0</td>\n",
       "      <td>0.695238</td>\n",
       "      <td>0.695740</td>\n",
       "    </tr>\n",
       "    <tr>\n",
       "      <th>rusentiment</th>\n",
       "      <td>210.0</td>\n",
       "      <td>0.680952</td>\n",
       "      <td>0.681018</td>\n",
       "    </tr>\n",
       "  </tbody>\n",
       "</table>\n",
       "</div>"
      ],
      "text/plain": [
       "                           n  accuracy  f1_macro\n",
       "source                                          \n",
       "SentiRuEval2016_banks  210.0  0.838095  0.837759\n",
       "SentiRuEval2016_tele   210.0  0.780952  0.779683\n",
       "kaggle_news            210.0  0.719048  0.722450\n",
       "linis                  210.0  0.547619  0.547372\n",
       "mokoron                210.0  0.800000  0.798673\n",
       "rureviews              210.0  0.695238  0.695740\n",
       "rusentiment            210.0  0.680952  0.681018"
      ]
     },
     "metadata": {}
    },
    {
     "output_type": "stream",
     "name": "stdout",
     "text": [
      "n           210.000000\n",
      "accuracy      0.723129\n",
      "f1_macro      0.723242\n",
      "dtype: float64\n"
     ]
    }
   ],
   "execution_count": null
  },
  {
   "metadata": {},
   "source": [
    "# Usage"
   ],
   "cell_type": "markdown"
  },
  {
   "metadata": {},
   "source": [
    "!pip install transformers sentencepiece --quiet"
   ],
   "cell_type": "code",
   "outputs": [
    {
     "output_type": "stream",
     "name": "stdout",
     "text": [
      "\u001b[K     |████████████████████████████████| 2.6 MB 8.9 MB/s \n",
      "\u001b[K     |████████████████████████████████| 1.2 MB 85.1 MB/s \n",
      "\u001b[K     |████████████████████████████████| 636 kB 53.9 MB/s \n",
      "\u001b[K     |████████████████████████████████| 895 kB 66.2 MB/s \n",
      "\u001b[K     |████████████████████████████████| 3.3 MB 55.1 MB/s \n",
      "\u001b[?25h"
     ]
    }
   ],
   "execution_count": null
  },
  {
   "metadata": {},
   "source": [
    "model_checkpoint = \"cointegrated/rubert-tiny-sentiment-balanced\"\n",
    "tokenizer = AutoTokenizer.from_pretrained(model_checkpoint)\n",
    "model = AutoModelForSequenceClassification.from_pretrained(model_checkpoint)\n",
    "if torch.cuda.is_available():\n",
    "    model.cuda()"
   ],
   "cell_type": "code",
   "outputs": [],
   "execution_count": null
  },
  {
   "metadata": {},
   "source": [
    "def get_sentiment(text, return_type=\"label\"):\n",
    "    \"\"\"Calculate sentiment of a text. `return_type` can be 'label', 'score' or 'proba'\"\"\"\n",
    "    with torch.no_grad():\n",
    "        inputs = tokenizer(text, return_tensors=\"pt\", truncation=True, padding=True).to(model.device)\n",
    "        proba = torch.sigmoid(model(**inputs).logits).cpu().numpy()[0]\n",
    "    if return_type == \"label\":\n",
    "        return model.config.id2label[proba.argmax()]\n",
    "    elif return_type == \"score\":\n",
    "        return proba.dot([-1, 0, 1])\n",
    "    return proba\n",
    "\n",
    "\n",
    "text = \"Какая гадость эта ваша заливная рыба!\"\n",
    "# classify the text\n",
    "print(get_sentiment(text, \"label\"))  # negative\n",
    "# score the text on the scale from -1 (very negative) to +1 (very positive)\n",
    "print(get_sentiment(text, \"score\"))  # -0.5894946306943893\n",
    "# calculate probabilities of all labels\n",
    "print(get_sentiment(text, \"proba\"))  # [0.7870447  0.4947824  0.19755007]"
   ],
   "cell_type": "code",
   "outputs": [
    {
     "output_type": "stream",
     "name": "stdout",
     "text": [
      "negative\n",
      "-0.5894946306943893\n",
      "[0.7870447  0.4947824  0.19755007]\n"
     ]
    }
   ],
   "execution_count": null
  },
  {
   "metadata": {},
   "source": [
    ""
   ],
   "cell_type": "code",
   "outputs": [],
   "execution_count": null
  }
 ]
}

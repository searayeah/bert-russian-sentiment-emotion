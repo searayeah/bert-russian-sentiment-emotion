{
 "nbformat": 4,
 "nbformat_minor": 2,
 "metadata": {},
 "cells": [
  {
   "metadata": {},
   "source": [
    "import time\n",
    "\n",
    "import pandas as pd\n",
    "import translators as ts\n",
    "from deep_translator import GoogleTranslator\n",
    "from translate import Translator\n",
    "\n",
    "text = [\"I wanted to downvote this, but it's not your fault homie.\"] * 1000"
   ],
   "cell_type": "code",
   "outputs": [],
   "execution_count": null
  },
  {
   "metadata": {},
   "source": [
    "translator = Translator(to_lang=\"ru\", from_lang=\"en\")\n",
    "start = time.time()\n",
    "for sentence in text:\n",
    "    translation = translator.translate(sentence)\n",
    "end = time.time()\n",
    "print(end - start)\n",
    "print(translation)"
   ],
   "cell_type": "code",
   "outputs": [
    {
     "output_type": "stream",
     "name": "stdout",
     "text": [
      "314.1717267036438\n",
      "MYMEMORY WARNING: YOU USED ALL AVAILABLE FREE TRANSLATIONS FOR TODAY. NEXT AVAILABLE IN  18 HOURS 05 MINUTES 10 SECONDS VISIT HTTPS://MYMEMORY.TRANSLATED.NET/DOC/USAGELIMITS.PHP TO TRANSLATE MORE\n"
     ]
    }
   ],
   "execution_count": null
  },
  {
   "metadata": {},
   "source": [
    "translated = GoogleTranslator(source=\"en\", target=\"ru\")\n",
    "\n",
    "start = time.time()\n",
    "for sentence in text:\n",
    "    translation = translated.translate(sentence)\n",
    "end = time.time()\n",
    "print(end - start)\n",
    "print(translation)"
   ],
   "cell_type": "code",
   "outputs": [
    {
     "output_type": "stream",
     "name": "stdout",
     "text": [
      "162.9102816581726\n",
      "Я хотел понизить это, но это не твоя вина, братан.\n"
     ]
    }
   ],
   "execution_count": null
  },
  {
   "metadata": {},
   "source": [
    "start = time.time()\n",
    "for sentence in text:\n",
    "    ts.translate_text(\n",
    "        query_text=sentence,\n",
    "        translator=\"google\",\n",
    "        from_language=\"en\",\n",
    "        to_language=\"ru\",\n",
    "    )\n",
    "    time.sleep(0.1)\n",
    "end = time.time()\n",
    "print(end - start)\n",
    "print(translation)"
   ],
   "cell_type": "code",
   "outputs": [
    {
     "output_type": "error",
     "ename": "TypeError",
     "evalue": "the JSON object must be str, bytes or bytearray, not NoneType",
     "traceback": [
      "\u001b[0;31m---------------------------------------------------------------------------\u001b[0m",
      "\u001b[0;31mTypeError\u001b[0m                                 Traceback (most recent call last)",
      "Cell \u001b[0;32mIn[19], line 5\u001b[0m\n\u001b[1;32m      3\u001b[0m start \u001b[39m=\u001b[39m time\u001b[39m.\u001b[39mtime()\n\u001b[1;32m      4\u001b[0m \u001b[39mfor\u001b[39;00m sentence \u001b[39min\u001b[39;00m text:\n\u001b[0;32m----> 5\u001b[0m     ts\u001b[39m.\u001b[39;49mtranslate_text(\n\u001b[1;32m      6\u001b[0m         query_text\u001b[39m=\u001b[39;49msentence,\n\u001b[1;32m      7\u001b[0m         translator\u001b[39m=\u001b[39;49m\u001b[39m\"\u001b[39;49m\u001b[39mgoogle\u001b[39;49m\u001b[39m\"\u001b[39;49m,\n\u001b[1;32m      8\u001b[0m         from_language\u001b[39m=\u001b[39;49m\u001b[39m\"\u001b[39;49m\u001b[39men\u001b[39;49m\u001b[39m\"\u001b[39;49m,\n\u001b[1;32m      9\u001b[0m         to_language\u001b[39m=\u001b[39;49m\u001b[39m\"\u001b[39;49m\u001b[39mru\u001b[39;49m\u001b[39m\"\u001b[39;49m,\n\u001b[1;32m     10\u001b[0m     )\n\u001b[1;32m     11\u001b[0m     time\u001b[39m.\u001b[39msleep(\u001b[39m0.1\u001b[39m)\n\u001b[1;32m     12\u001b[0m end \u001b[39m=\u001b[39m time\u001b[39m.\u001b[39mtime()\n",
      "File \u001b[0;32m~/.pyenv/versions/3.9.16/envs/trash/lib/python3.9/site-packages/translators/server.py:3005\u001b[0m, in \u001b[0;36mTranslatorsServer.translate_text\u001b[0;34m(self, query_text, translator, from_language, to_language, **kwargs)\u001b[0m\n\u001b[1;32m   3003\u001b[0m \u001b[39mif\u001b[39;00m translator \u001b[39mnot\u001b[39;00m \u001b[39min\u001b[39;00m \u001b[39mself\u001b[39m\u001b[39m.\u001b[39mtranslators_pool:\n\u001b[1;32m   3004\u001b[0m     \u001b[39mraise\u001b[39;00m TranslatorError\n\u001b[0;32m-> 3005\u001b[0m \u001b[39mreturn\u001b[39;00m \u001b[39mself\u001b[39;49m\u001b[39m.\u001b[39;49mtranslators_dict[translator](query_text\u001b[39m=\u001b[39;49mquery_text, from_language\u001b[39m=\u001b[39;49mfrom_language, to_language\u001b[39m=\u001b[39;49mto_language, \u001b[39m*\u001b[39;49m\u001b[39m*\u001b[39;49mkwargs)\n",
      "File \u001b[0;32m~/.pyenv/versions/3.9.16/envs/trash/lib/python3.9/site-packages/translators/server.py:98\u001b[0m, in \u001b[0;36mTse.time_stat.<locals>._wrapper\u001b[0;34m(*args, **kwargs)\u001b[0m\n\u001b[1;32m     96\u001b[0m     sys\u001b[39m.\u001b[39mstderr\u001b[39m.\u001b[39mwrite(\u001b[39mf\u001b[39m\u001b[39m'\u001b[39m\u001b[39mCostTime(function: \u001b[39m\u001b[39m{\u001b[39;00mfunc\u001b[39m.\u001b[39m\u001b[39m__name__\u001b[39m[:\u001b[39m-\u001b[39m\u001b[39m4\u001b[39m]\u001b[39m}\u001b[39;00m\u001b[39m): \u001b[39m\u001b[39m{\u001b[39;00mcost_time\u001b[39m}\u001b[39;00m\u001b[39ms\u001b[39m\u001b[39m\\n\u001b[39;00m\u001b[39m'\u001b[39m)\n\u001b[1;32m     97\u001b[0m     \u001b[39mreturn\u001b[39;00m result\n\u001b[0;32m---> 98\u001b[0m \u001b[39mreturn\u001b[39;00m func(\u001b[39m*\u001b[39;49margs, \u001b[39m*\u001b[39;49m\u001b[39m*\u001b[39;49mkwargs)\n",
      "File \u001b[0;32m~/.pyenv/versions/3.9.16/envs/trash/lib/python3.9/site-packages/translators/server.py:225\u001b[0m, in \u001b[0;36mTse.check_query.<locals>._wrapper\u001b[0;34m(*args, **kwargs)\u001b[0m\n\u001b[1;32m    223\u001b[0m     new_args[\u001b[39m1\u001b[39m] \u001b[39m=\u001b[39m query_text\n\u001b[1;32m    224\u001b[0m     \u001b[39mreturn\u001b[39;00m func(\u001b[39m*\u001b[39m\u001b[39mtuple\u001b[39m(new_args), \u001b[39m*\u001b[39m\u001b[39m*\u001b[39mkwargs)\n\u001b[0;32m--> 225\u001b[0m \u001b[39mreturn\u001b[39;00m func(\u001b[39m*\u001b[39;49margs, \u001b[39m*\u001b[39;49m\u001b[39m*\u001b[39;49m{\u001b[39m*\u001b[39;49m\u001b[39m*\u001b[39;49mkwargs, \u001b[39m*\u001b[39;49m\u001b[39m*\u001b[39;49m{\u001b[39m'\u001b[39;49m\u001b[39mquery_text\u001b[39;49m\u001b[39m'\u001b[39;49m: query_text}})\n",
      "File \u001b[0;32m~/.pyenv/versions/3.9.16/envs/trash/lib/python3.9/site-packages/translators/server.py:523\u001b[0m, in \u001b[0;36mGoogleV2.google_api\u001b[0;34m(self, query_text, from_language, to_language, **kwargs)\u001b[0m\n\u001b[1;32m    521\u001b[0m r\u001b[39m.\u001b[39mraise_for_status()\n\u001b[1;32m    522\u001b[0m json_data \u001b[39m=\u001b[39m json\u001b[39m.\u001b[39mloads(r\u001b[39m.\u001b[39mtext[\u001b[39m6\u001b[39m:])\n\u001b[0;32m--> 523\u001b[0m data \u001b[39m=\u001b[39m json\u001b[39m.\u001b[39;49mloads(json_data[\u001b[39m0\u001b[39;49m][\u001b[39m2\u001b[39;49m])\n\u001b[1;32m    524\u001b[0m time\u001b[39m.\u001b[39msleep(sleep_seconds)\n\u001b[1;32m    525\u001b[0m \u001b[39mself\u001b[39m\u001b[39m.\u001b[39mquery_count \u001b[39m+\u001b[39m\u001b[39m=\u001b[39m \u001b[39m1\u001b[39m\n",
      "File \u001b[0;32m~/.pyenv/versions/3.9.16/lib/python3.9/json/__init__.py:339\u001b[0m, in \u001b[0;36mloads\u001b[0;34m(s, cls, object_hook, parse_float, parse_int, parse_constant, object_pairs_hook, **kw)\u001b[0m\n\u001b[1;32m    337\u001b[0m \u001b[39melse\u001b[39;00m:\n\u001b[1;32m    338\u001b[0m     \u001b[39mif\u001b[39;00m \u001b[39mnot\u001b[39;00m \u001b[39misinstance\u001b[39m(s, (\u001b[39mbytes\u001b[39m, \u001b[39mbytearray\u001b[39m)):\n\u001b[0;32m--> 339\u001b[0m         \u001b[39mraise\u001b[39;00m \u001b[39mTypeError\u001b[39;00m(\u001b[39mf\u001b[39m\u001b[39m'\u001b[39m\u001b[39mthe JSON object must be str, bytes or bytearray, \u001b[39m\u001b[39m'\u001b[39m\n\u001b[1;32m    340\u001b[0m                         \u001b[39mf\u001b[39m\u001b[39m'\u001b[39m\u001b[39mnot \u001b[39m\u001b[39m{\u001b[39;00ms\u001b[39m.\u001b[39m\u001b[39m__class__\u001b[39m\u001b[39m.\u001b[39m\u001b[39m__name__\u001b[39m\u001b[39m}\u001b[39;00m\u001b[39m'\u001b[39m)\n\u001b[1;32m    341\u001b[0m     s \u001b[39m=\u001b[39m s\u001b[39m.\u001b[39mdecode(detect_encoding(s), \u001b[39m'\u001b[39m\u001b[39msurrogatepass\u001b[39m\u001b[39m'\u001b[39m)\n\u001b[1;32m    343\u001b[0m \u001b[39mif\u001b[39;00m (\u001b[39mcls\u001b[39m \u001b[39mis\u001b[39;00m \u001b[39mNone\u001b[39;00m \u001b[39mand\u001b[39;00m object_hook \u001b[39mis\u001b[39;00m \u001b[39mNone\u001b[39;00m \u001b[39mand\u001b[39;00m\n\u001b[1;32m    344\u001b[0m         parse_int \u001b[39mis\u001b[39;00m \u001b[39mNone\u001b[39;00m \u001b[39mand\u001b[39;00m parse_float \u001b[39mis\u001b[39;00m \u001b[39mNone\u001b[39;00m \u001b[39mand\u001b[39;00m\n\u001b[1;32m    345\u001b[0m         parse_constant \u001b[39mis\u001b[39;00m \u001b[39mNone\u001b[39;00m \u001b[39mand\u001b[39;00m object_pairs_hook \u001b[39mis\u001b[39;00m \u001b[39mNone\u001b[39;00m \u001b[39mand\u001b[39;00m \u001b[39mnot\u001b[39;00m kw):\n",
      "\u001b[0;31mTypeError\u001b[0m: the JSON object must be str, bytes or bytearray, not NoneType"
     ]
    }
   ],
   "execution_count": null
  },
  {
   "metadata": {},
   "source": [
    "names = [\"translate\", \"deep-translator\", \"translators\", \"deepl\"]\n",
    "links = [\n",
    "    \"https://github.com/terryyin/translate-python\",\n",
    "    \"https://github.com/nidhaloff/deep-translator \",\n",
    "    \"https://github.com/UlionTse/translators\",\n",
    "    \"https://github.com/DeepLcom/deepl-python\",\n",
    "]\n",
    "engine = [\"MyMemory\", \"Google\", \"Google\", \"DeepL\"]\n",
    "time = [None, 162, None, None]\n",
    "comms = [\n",
    "    \"Ограничение на количество запросов в день\",\n",
    "    \"Работает хорошо\",\n",
    "    \"Сильное ограничение на частоту запросов\",\n",
    "    \"Платный\",\n",
    "]\n",
    "\n",
    "\n",
    "df = pd.DataFrame(\n",
    "    dict(\n",
    "        zip(\n",
    "            [\n",
    "                \"Название библиотеки\",\n",
    "                \"Ссылка\",\n",
    "                \"Движок перевода\",\n",
    "                \"Время на 1000 запросов, сек\",\n",
    "                \"Комментарий\",\n",
    "            ],\n",
    "            [names, links, engine, time, comms],\n",
    "        )\n",
    "    )\n",
    ")\n",
    "df.to_csv(\"lol.csv\")"
   ],
   "cell_type": "code",
   "outputs": [],
   "execution_count": null
  },
  {
   "metadata": {},
   "source": [
    "columns = [\"Текст\", \"RuGoEmotions\", \"CEDR\", \"RuSentiment\"]\n",
    "df = pd.DataFrame(columns=columns)\n",
    "pd.options.display.max_colwidth = 300"
   ],
   "cell_type": "code",
   "outputs": [],
   "execution_count": null
  },
  {
   "metadata": {},
   "source": [
    "input = \"Заказал 23.03, получил 10.04. Посылка пришла хорошо упакована в воздушный матрас. Коробка не помялась, всё в целости. Заказал телефон на замену редми ноут 7 (за 3 года акум стал держать до обеда). Брал максимальную версию за 27000. Телефон понравился, пока что летает. Камера снимает хорошо, особенно порадовало видео со стабилизацией. Продавец в подарок положил стекло на экран и безпроводные наушники редми\"\n",
    "\n",
    "rugoemotions = \"признательность, радость\"\n",
    "cedr = \"отсутствие эмоции\"\n",
    "rusentiment = \"нейтральность\"\n",
    "row1 = pd.Series([input, rugoemotions, cedr, rusentiment], index=columns)\n",
    "df = df.append(row1, ignore_index=True)"
   ],
   "cell_type": "code",
   "outputs": [],
   "execution_count": null
  },
  {
   "metadata": {},
   "source": [
    "input = \"товар пришёл коробка помятая сильно брал на подарок .. расстроен .. телефон работает всё в порядке .. думаю с кэшбеком  3к брал (16.400) вот он и положил помятый или почта росссии в футбол играла ..оставлю себе . у это продавца покупал часто не было такого ..\"\n",
    "\n",
    "rugoemotions = \"грусть, разочарование\"\n",
    "cedr = \"грусть\"\n",
    "rusentiment = \"нейтральность\"\n",
    "row1 = pd.Series([input, rugoemotions, cedr, rusentiment], index=columns)\n",
    "df = df.append(row1, ignore_index=True)"
   ],
   "cell_type": "code",
   "outputs": [
    {
     "output_type": "stream",
     "name": "stderr",
     "text": [
      "/tmp/ipykernel_66891/2997178220.py:7: FutureWarning: The frame.append method is deprecated and will be removed from pandas in a future version. Use pandas.concat instead.\n",
      "  df = df.append(row1,ignore_index=True)\n"
     ]
    }
   ],
   "execution_count": null
  },
  {
   "metadata": {},
   "source": [
    "input = \"Упаковка ужасная. Пришло все помятое. Два стекла из 4 в хлам. Два оставшихся поцарапанные\"\n",
    "\n",
    "rugoemotions = \"грусть, страх\"\n",
    "cedr = \"грусть, страх\"\n",
    "rusentiment = \"негатив\"\n",
    "row1 = pd.Series([input, rugoemotions, cedr, rusentiment], index=columns)\n",
    "df = df.append(row1, ignore_index=True)"
   ],
   "cell_type": "code",
   "outputs": [
    {
     "output_type": "stream",
     "name": "stderr",
     "text": [
      "/tmp/ipykernel_66891/3526720200.py:7: FutureWarning: The frame.append method is deprecated and will be removed from pandas in a future version. Use pandas.concat instead.\n",
      "  df = df.append(row1,ignore_index=True)\n"
     ]
    }
   ],
   "execution_count": null
  },
  {
   "metadata": {},
   "source": [
    "input = \"Отличный товар! Пришло за 2 недели в Новосибирск. Упаковано отлично, все целое)) в наборе 4 стекла, салфетки и жидкость для обеспылевания. Цена подарок)\"\n",
    "\n",
    "rugoemotions = \"восхищение\"\n",
    "cedr = \"радость\"\n",
    "rusentiment = \"позитив\"\n",
    "row1 = pd.Series([input, rugoemotions, cedr, rusentiment], index=columns)\n",
    "df = df.append(row1, ignore_index=True)"
   ],
   "cell_type": "code",
   "outputs": [
    {
     "output_type": "stream",
     "name": "stderr",
     "text": [
      "/tmp/ipykernel_66891/3222566484.py:7: FutureWarning: The frame.append method is deprecated and will be removed from pandas in a future version. Use pandas.concat instead.\n",
      "  df = df.append(row1,ignore_index=True)\n"
     ]
    }
   ],
   "execution_count": null
  },
  {
   "metadata": {},
   "source": [
    "df"
   ],
   "cell_type": "code",
   "outputs": [
    {
     "output_type": "execute_result",
     "data": {
      "text/html": [
       "<div>\n",
       "<style scoped>\n",
       "    .dataframe tbody tr th:only-of-type {\n",
       "        vertical-align: middle;\n",
       "    }\n",
       "\n",
       "    .dataframe tbody tr th {\n",
       "        vertical-align: top;\n",
       "    }\n",
       "\n",
       "    .dataframe thead th {\n",
       "        text-align: right;\n",
       "    }\n",
       "</style>\n",
       "<table border=\"1\" class=\"dataframe\">\n",
       "  <thead>\n",
       "    <tr style=\"text-align: right;\">\n",
       "      <th></th>\n",
       "      <th>Текст</th>\n",
       "      <th>RuGoEmotions</th>\n",
       "      <th>CEDR</th>\n",
       "      <th>RuSentiment</th>\n",
       "    </tr>\n",
       "  </thead>\n",
       "  <tbody>\n",
       "    <tr>\n",
       "      <th>0</th>\n",
       "      <td>Заказал 23.03, получил 10.04. Посылка пришла хорошо упакована в воздушный матрас. Коробка не помялась, всё в целости. Заказал телефон на замену редми ноут 7 (за 3 года акум стал держать до обеда). Брал максимальную версию за 27000. Телефон понравился, пока что летает. Камера снимает хорошо, особ...</td>\n",
       "      <td>признательность, радость</td>\n",
       "      <td>отсутствие эмоции</td>\n",
       "      <td>нейтральность</td>\n",
       "    </tr>\n",
       "    <tr>\n",
       "      <th>1</th>\n",
       "      <td>товар пришёл коробка помятая сильно брал на подарок .. расстроен .. телефон работает всё в порядке .. думаю с кэшбеком  3к брал (16.400) вот он и положил помятый или почта росссии в футбол играла ..оставлю себе . у это продавца покупал часто не было такого ..</td>\n",
       "      <td>грусть, разочарование</td>\n",
       "      <td>грусть</td>\n",
       "      <td>нейтральность</td>\n",
       "    </tr>\n",
       "    <tr>\n",
       "      <th>2</th>\n",
       "      <td>Упаковка ужасная. Пришло все помятое. Два стекла из 4 в хлам. Два оставшихся поцарапанные</td>\n",
       "      <td>грусть, страх</td>\n",
       "      <td>грусть, страх</td>\n",
       "      <td>негатив</td>\n",
       "    </tr>\n",
       "    <tr>\n",
       "      <th>3</th>\n",
       "      <td>Отличный товар! Пришло за 2 недели в Новосибирск. Упаковано отлично, все целое)) в наборе 4 стекла, салфетки и жидкость для обеспылевания. Цена подарок)</td>\n",
       "      <td>восхищение</td>\n",
       "      <td>радость</td>\n",
       "      <td>позитив</td>\n",
       "    </tr>\n",
       "  </tbody>\n",
       "</table>\n",
       "</div>"
      ],
      "text/plain": [
       "                                                                                                                                                                                                                                                                                                         Текст  \\\n",
       "0  Заказал 23.03, получил 10.04. Посылка пришла хорошо упакована в воздушный матрас. Коробка не помялась, всё в целости. Заказал телефон на замену редми ноут 7 (за 3 года акум стал держать до обеда). Брал максимальную версию за 27000. Телефон понравился, пока что летает. Камера снимает хорошо, особ...   \n",
       "1                                          товар пришёл коробка помятая сильно брал на подарок .. расстроен .. телефон работает всё в порядке .. думаю с кэшбеком  3к брал (16.400) вот он и положил помятый или почта росссии в футбол играла ..оставлю себе . у это продавца покупал часто не было такого ..   \n",
       "2                                                                                                                                                                                                                    Упаковка ужасная. Пришло все помятое. Два стекла из 4 в хлам. Два оставшихся поцарапанные   \n",
       "3                                                                                                                                                     Отличный товар! Пришло за 2 недели в Новосибирск. Упаковано отлично, все целое)) в наборе 4 стекла, салфетки и жидкость для обеспылевания. Цена подарок)   \n",
       "\n",
       "               RuGoEmotions               CEDR    RuSentiment  \n",
       "0  признательность, радость  отсутствие эмоции  нейтральность  \n",
       "1     грусть, разочарование             грусть  нейтральность  \n",
       "2             грусть, страх      грусть, страх        негатив  \n",
       "3                восхищение            радость        позитив  "
      ]
     },
     "metadata": {},
     "execution_count": 27
    }
   ],
   "execution_count": null
  }
 ]
}

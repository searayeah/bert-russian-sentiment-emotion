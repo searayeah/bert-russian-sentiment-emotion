{
 "nbformat": 4,
 "nbformat_minor": 2,
 "metadata": {},
 "cells": [
  {
   "metadata": {},
   "source": [
    "import pandas as pd\n",
    "from datasets import Dataset, DatasetDict\n",
    "from sklearn.model_selection import train_test_split\n",
    "from src.utils.utils import sentiment_postprocessor, sentiment_preprocessor\n",
    "from torch.utils.data import DataLoader\n",
    "from transformers import DataCollatorWithPadding\n",
    "\n",
    "RANDOM_STATE = 42\n",
    "\n",
    "\n",
    "def sentiment_preprocessor(label):\n",
    "    if label == \"positive\":\n",
    "        return \"позитив\"\n",
    "    elif label == \"neautral\" or label == \"neutral\":\n",
    "        return \"нейтральность\"\n",
    "    elif label == \"negative\":\n",
    "        return \"негатив\""
   ],
   "cell_type": "code",
   "outputs": [],
   "execution_count": null
  },
  {
   "metadata": {},
   "source": [
    "rusent_random_path = \"data/ru-sentiment/rusentiment_random_posts.csv\"\n",
    "rusent_active_path = \"data/ru-sentiment/rusentiment_preselected_posts.csv\"\n",
    "rusent_test_path = \"data/ru-sentiment/rusentiment_test.csv\"\n",
    "labels = [\"positive\", \"negative\", \"neutral\"]\n",
    "\n",
    "rusent_random = pd.read_csv(rusent_random_path)\n",
    "rusent_active = pd.read_csv(rusent_active_path)\n",
    "rusent_test = pd.read_csv(rusent_test_path)\n",
    "\n",
    "# remove duplicate indexes, ignore index is vital\n",
    "rusent_train_val = pd.concat([rusent_active, rusent_random], ignore_index=True)\n",
    "\n",
    "rusent_train_val = rusent_train_val[rusent_train_val[\"label\"].isin(labels)]\n",
    "rusent_test = rusent_test[rusent_test[\"label\"].isin(labels)]\n",
    "\n",
    "rusent_train_val[\"text\"] = rusent_train_val[\"text\"].apply(lambda x: x.replace(\"\\n\", \" \"))\n",
    "rusent_test[\"text\"] = rusent_test[\"text\"].apply(lambda x: x.replace(\"\\n\", \" \").replace(\"\\t\", \"\"))"
   ],
   "cell_type": "code",
   "outputs": [],
   "execution_count": null
  },
  {
   "metadata": {},
   "source": [
    "rusent_random[\"label\"].value_counts()"
   ],
   "cell_type": "code",
   "outputs": [
    {
     "output_type": "execute_result",
     "data": {
      "text/plain": [
       "neutral     8323\n",
       "positive    4635\n",
       "skip        3190\n",
       "speech      2826\n",
       "negative    2294\n",
       "Name: label, dtype: int64"
      ]
     },
     "metadata": {},
     "execution_count": 3
    }
   ],
   "execution_count": null
  },
  {
   "metadata": {},
   "source": [
    "len(rusent_random)"
   ],
   "cell_type": "code",
   "outputs": [
    {
     "output_type": "execute_result",
     "data": {
      "text/plain": [
       "21268"
      ]
     },
     "metadata": {},
     "execution_count": 4
    }
   ],
   "execution_count": null
  },
  {
   "metadata": {},
   "source": [
    "len(rusent_active)"
   ],
   "cell_type": "code",
   "outputs": [
    {
     "output_type": "execute_result",
     "data": {
      "text/plain": [
       "6950"
      ]
     },
     "metadata": {},
     "execution_count": 5
    }
   ],
   "execution_count": null
  },
  {
   "metadata": {},
   "source": [
    "21268 + 6950"
   ],
   "cell_type": "code",
   "outputs": [
    {
     "output_type": "execute_result",
     "data": {
      "text/plain": [
       "28218"
      ]
     },
     "metadata": {},
     "execution_count": 6
    }
   ],
   "execution_count": null
  },
  {
   "metadata": {},
   "source": [
    "len(rusent_test)"
   ],
   "cell_type": "code",
   "outputs": [
    {
     "output_type": "execute_result",
     "data": {
      "text/plain": [
       "2214"
      ]
     },
     "metadata": {},
     "execution_count": 7
    }
   ],
   "execution_count": null
  },
  {
   "metadata": {},
   "source": [
    "pd.options.display.max_colwidth = 80"
   ],
   "cell_type": "code",
   "outputs": [],
   "execution_count": null
  },
  {
   "metadata": {},
   "source": [
    "rusent_train_val.sample(3)"
   ],
   "cell_type": "code",
   "outputs": [
    {
     "output_type": "execute_result",
     "data": {
      "text/html": [
       "<div>\n",
       "<style scoped>\n",
       "    .dataframe tbody tr th:only-of-type {\n",
       "        vertical-align: middle;\n",
       "    }\n",
       "\n",
       "    .dataframe tbody tr th {\n",
       "        vertical-align: top;\n",
       "    }\n",
       "\n",
       "    .dataframe thead th {\n",
       "        text-align: right;\n",
       "    }\n",
       "</style>\n",
       "<table border=\"1\" class=\"dataframe\">\n",
       "  <thead>\n",
       "    <tr style=\"text-align: right;\">\n",
       "      <th></th>\n",
       "      <th>label</th>\n",
       "      <th>text</th>\n",
       "    </tr>\n",
       "  </thead>\n",
       "  <tbody>\n",
       "    <tr>\n",
       "      <th>11667</th>\n",
       "      <td>neutral</td>\n",
       "      <td>Теперь у меня есть фирменная футболочка студии \"Mari и Я\" .</td>\n",
       "    </tr>\n",
       "    <tr>\n",
       "      <th>13884</th>\n",
       "      <td>neutral</td>\n",
       "      <td>\"Ты выложился сегодня до конца?\"</td>\n",
       "    </tr>\n",
       "    <tr>\n",
       "      <th>3945</th>\n",
       "      <td>negative</td>\n",
       "      <td>Вот что за херня,почему мне не пишут никогда что я лучший и т.п. ))) А у теб...</td>\n",
       "    </tr>\n",
       "  </tbody>\n",
       "</table>\n",
       "</div>"
      ],
      "text/plain": [
       "          label  \\\n",
       "11667   neutral   \n",
       "13884   neutral   \n",
       "3945   negative   \n",
       "\n",
       "                                                                                  text  \n",
       "11667                      Теперь у меня есть фирменная футболочка студии \"Mari и Я\" .  \n",
       "13884                                                 \"Ты выложился сегодня до конца?\"  \n",
       "3945   Вот что за херня,почему мне не пишут никогда что я лучший и т.п. ))) А у теб...  "
      ]
     },
     "metadata": {},
     "execution_count": 9
    }
   ],
   "execution_count": null
  },
  {
   "metadata": {},
   "source": [
    "rusent_train_val[\"Length words\"] = rusent_train_val[\"text\"].apply(lambda x: len(x.split()))\n",
    "rusent_train_val[\"Length\"] = rusent_train_val[\"text\"].apply(len)"
   ],
   "cell_type": "code",
   "outputs": [],
   "execution_count": null
  },
  {
   "metadata": {},
   "source": [
    "rusent_train_val[\"Length words\"].mean()"
   ],
   "cell_type": "code",
   "outputs": [
    {
     "output_type": "execute_result",
     "data": {
      "text/plain": [
       "12.38430497531333"
      ]
     },
     "metadata": {},
     "execution_count": 11
    }
   ],
   "execution_count": null
  },
  {
   "metadata": {},
   "source": [
    "rusent_train_val[\"Length\"].mean()"
   ],
   "cell_type": "code",
   "outputs": [
    {
     "output_type": "execute_result",
     "data": {
      "text/plain": [
       "79.41620774781617"
      ]
     },
     "metadata": {},
     "execution_count": 12
    }
   ],
   "execution_count": null
  },
  {
   "metadata": {},
   "source": [
    "rusent_train_val[\"label\"] = rusent_train_val[\"label\"].apply(sentiment_preprocessor)"
   ],
   "cell_type": "code",
   "outputs": [],
   "execution_count": null
  },
  {
   "metadata": {},
   "source": [
    "rusent_train_val.groupby(\"label\").sample(2)[[\"text\", \"label\"]]"
   ],
   "cell_type": "code",
   "outputs": [
    {
     "output_type": "execute_result",
     "data": {
      "text/html": [
       "<div>\n",
       "<style scoped>\n",
       "    .dataframe tbody tr th:only-of-type {\n",
       "        vertical-align: middle;\n",
       "    }\n",
       "\n",
       "    .dataframe tbody tr th {\n",
       "        vertical-align: top;\n",
       "    }\n",
       "\n",
       "    .dataframe thead th {\n",
       "        text-align: right;\n",
       "    }\n",
       "</style>\n",
       "<table border=\"1\" class=\"dataframe\">\n",
       "  <thead>\n",
       "    <tr style=\"text-align: right;\">\n",
       "      <th></th>\n",
       "      <th>text</th>\n",
       "      <th>label</th>\n",
       "    </tr>\n",
       "  </thead>\n",
       "  <tbody>\n",
       "    <tr>\n",
       "      <th>15447</th>\n",
       "      <td>Сегодня в с.Петровское Беляевского района произошло ДТП со смертельным исход...</td>\n",
       "      <td>негатив</td>\n",
       "    </tr>\n",
       "    <tr>\n",
       "      <th>8127</th>\n",
       "      <td>И ТЫ ДАЖЕ СЕРДЕЧКО НЕ ПОСТАВИЛ(((((</td>\n",
       "      <td>негатив</td>\n",
       "    </tr>\n",
       "    <tr>\n",
       "      <th>2019</th>\n",
       "      <td>Зачем мне другие? Я не хочу быть вагоном, в который входят и выходят. Мне ну...</td>\n",
       "      <td>нейтральность</td>\n",
       "    </tr>\n",
       "    <tr>\n",
       "      <th>10418</th>\n",
       "      <td>Немного размялся. #Федотово</td>\n",
       "      <td>нейтральность</td>\n",
       "    </tr>\n",
       "    <tr>\n",
       "      <th>16767</th>\n",
       "      <td>Симпатюлька.</td>\n",
       "      <td>позитив</td>\n",
       "    </tr>\n",
       "    <tr>\n",
       "      <th>14312</th>\n",
       "      <td>песня норм</td>\n",
       "      <td>позитив</td>\n",
       "    </tr>\n",
       "  </tbody>\n",
       "</table>\n",
       "</div>"
      ],
      "text/plain": [
       "                                                                                  text  \\\n",
       "15447  Сегодня в с.Петровское Беляевского района произошло ДТП со смертельным исход...   \n",
       "8127                                               И ТЫ ДАЖЕ СЕРДЕЧКО НЕ ПОСТАВИЛ(((((   \n",
       "2019   Зачем мне другие? Я не хочу быть вагоном, в который входят и выходят. Мне ну...   \n",
       "10418                                                      Немного размялся. #Федотово   \n",
       "16767                                                                     Симпатюлька.   \n",
       "14312                                                                       песня норм   \n",
       "\n",
       "               label  \n",
       "15447        негатив  \n",
       "8127         негатив  \n",
       "2019   нейтральность  \n",
       "10418  нейтральность  \n",
       "16767        позитив  \n",
       "14312        позитив  "
      ]
     },
     "metadata": {},
     "execution_count": 14
    }
   ],
   "execution_count": null
  },
  {
   "metadata": {},
   "source": [
    "rusent_train_val[\"label\"].value_counts()"
   ],
   "cell_type": "code",
   "outputs": [
    {
     "output_type": "execute_result",
     "data": {
      "text/plain": [
       "нейтральность    11300\n",
       "позитив           6110\n",
       "негатив           3654\n",
       "Name: label, dtype: int64"
      ]
     },
     "metadata": {},
     "execution_count": 18
    }
   ],
   "execution_count": null
  },
  {
   "metadata": {},
   "source": [
    "rusent_train_val[\"label\"].value_counts().plot.barh(xlabel=\"Количество элементов\", ylabel=\"Класс\")"
   ],
   "cell_type": "code",
   "outputs": [
    {
     "output_type": "execute_result",
     "data": {
      "text/plain": [
       "<AxesSubplot: xlabel='Количество элементов', ylabel='Класс'>"
      ]
     },
     "metadata": {},
     "execution_count": 17
    },
    {
     "output_type": "display_data",
     "data": {
      "image/png": "[encoded data removed]",
      "text/plain": [
       "<Figure size 640x480 with 1 Axes>"
      ]
     },
     "metadata": {}
    }
   ],
   "execution_count": null
  },
  {
   "metadata": {},
   "source": [
    "size = rusent_train_val.shape[0] + rusent_test.shape[0]\n",
    "val_size = int(size * 0.09)\n",
    "\n",
    "rusent_train, rusent_val = train_test_split(\n",
    "    rusent_train_val, test_size=val_size, shuffle=True, random_state=RANDOM_STATE\n",
    ")\n",
    "\n",
    "print(\n",
    "    f\"Loaded RuSentiment: train {rusent_train.shape[0]},\",\n",
    "    f\"val {rusent_val.shape[0]},\",\n",
    "    f\"test {rusent_test.shape[0]}\",\n",
    ")"
   ],
   "cell_type": "code",
   "outputs": [
    {
     "output_type": "stream",
     "name": "stdout",
     "text": [
      "Loaded RuSentiment: train 18969, val 2095, test 2214\n"
     ]
    }
   ],
   "execution_count": null
  }
 ]
}

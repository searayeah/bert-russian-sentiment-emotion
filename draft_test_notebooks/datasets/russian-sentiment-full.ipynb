{
 "nbformat": 4,
 "nbformat_minor": 2,
 "metadata": {},
 "cells": [
  {
   "metadata": {},
   "source": [
    "import pandas as pd\n",
    "from datasets import Dataset, DatasetDict\n",
    "from sklearn.model_selection import train_test_split\n",
    "from src.data.russian_sentiment import get_russian_sentiment_all\n",
    "from src.utils.utils import sentiment_postprocessor, sentiment_preprocessor\n",
    "from torch.utils.data import DataLoader\n",
    "from transformers import DataCollatorWithPadding\n",
    "\n",
    "RANDOM_STATE = 42"
   ],
   "cell_type": "code",
   "outputs": [],
   "execution_count": null
  },
  {
   "metadata": {},
   "source": [
    "russian_sentiment_train, russian_sentiment_val, russian_sentiment_test = get_russian_sentiment_all()"
   ],
   "cell_type": "code",
   "outputs": [
    {
     "output_type": "stream",
     "name": "stdout",
     "text": [
      "INFO: Pandarallel will run on 8 workers.\n",
      "INFO: Pandarallel will use Memory file system to transfer data between the main process and workers.\n"
     ]
    },
    {
     "output_type": "display_data",
     "data": {
      "application/vnd.jupyter.widget-view+json": {
       "model_id": "d54aa51cb85c44a7bc64395c0adbe7c1",
       "version_major": 2,
       "version_minor": 0
      },
      "text/plain": [
       "VBox(children=(HBox(children=(IntProgress(value=0, description='0.00%', max=7393), Label(value='0 / 7393'))), …"
      ]
     },
     "metadata": {}
    },
    {
     "output_type": "stream",
     "name": "stdout",
     "text": [
      "Loaded Linis: train 4694, val 586, test 586\n",
      "Loaded RuReviews: train 72000, val 9000, test 9000\n",
      "Loaded RuSentiment: train 18969, val 2095, test 2214\n",
      "Loaded Kaggle: train 6611, val 826, test 826\n",
      "Loaded all datasets: train 102274, val 12507, test 12626\n"
     ]
    }
   ],
   "execution_count": null
  },
  {
   "metadata": {},
   "source": [
    "russian_sentiment_train[\"Length words\"] = russian_sentiment_train[\"text\"].apply(lambda x: len(x.split()))\n",
    "russian_sentiment_train[\"Length\"] = russian_sentiment_train[\"text\"].apply(len)"
   ],
   "cell_type": "code",
   "outputs": [],
   "execution_count": null
  },
  {
   "metadata": {},
   "source": [
    "russian_sentiment_train[\"Length words\"].mean()"
   ],
   "cell_type": "code",
   "outputs": [
    {
     "output_type": "execute_result",
     "data": {
      "text/plain": [
       "56.35409781567163"
      ]
     },
     "metadata": {},
     "execution_count": 4
    }
   ],
   "execution_count": null
  },
  {
   "metadata": {},
   "source": [
    "russian_sentiment_train[\"Length\"].mean()"
   ],
   "cell_type": "code",
   "outputs": [
    {
     "output_type": "execute_result",
     "data": {
      "text/plain": [
       "408.5789839059781"
      ]
     },
     "metadata": {},
     "execution_count": 5
    }
   ],
   "execution_count": null
  },
  {
   "metadata": {},
   "source": [
    "russian_sentiment_train[\"label\"].value_counts().plot.barh(xlabel=\"Количество элементов\", ylabel=\"Класс\")"
   ],
   "cell_type": "code",
   "outputs": [
    {
     "output_type": "error",
     "ename": "NameError",
     "evalue": "name 'russian_sentiment_train' is not defined",
     "traceback": [
      "\u001b[0;31m---------------------------------------------------------------------------\u001b[0m",
      "\u001b[0;31mNameError\u001b[0m                                 Traceback (most recent call last)",
      "Cell \u001b[0;32mIn[1], line 1\u001b[0m\n\u001b[0;32m----> 1\u001b[0m russian_sentiment_train[\u001b[39m\"\u001b[39m\u001b[39mlabel\u001b[39m\u001b[39m\"\u001b[39m]\u001b[39m.\u001b[39mvalue_counts()\u001b[39m.\u001b[39mplot\u001b[39m.\u001b[39mbarh(xlabel\u001b[39m=\u001b[39m\u001b[39m\"\u001b[39m\u001b[39mКоличество элементов\u001b[39m\u001b[39m\"\u001b[39m, ylabel\u001b[39m=\u001b[39m\u001b[39m\"\u001b[39m\u001b[39mКласс\u001b[39m\u001b[39m\"\u001b[39m)\n",
      "\u001b[0;31mNameError\u001b[0m: name 'russian_sentiment_train' is not defined"
     ]
    }
   ],
   "execution_count": null
  },
  {
   "metadata": {},
   "source": [],
   "cell_type": "code",
   "outputs": [],
   "execution_count": null
  }
 ]
}

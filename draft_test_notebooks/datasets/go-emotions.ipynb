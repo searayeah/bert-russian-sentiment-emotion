{
 "nbformat": 4,
 "nbformat_minor": 2,
 "metadata": {},
 "cells": [
  {
   "metadata": {},
   "source": [
    "import pandas as pd\n",
    "from datasets import load_dataset"
   ],
   "cell_type": "code",
   "outputs": [],
   "execution_count": null
  },
  {
   "metadata": {},
   "source": [
    "labels = {\n",
    "    0: \"admiration\",\n",
    "    1: \"amusement\",\n",
    "    2: \"anger\",\n",
    "    3: \"annoyance\",\n",
    "    4: \"approval\",\n",
    "    5: \"caring\",\n",
    "    6: \"confusion\",\n",
    "    7: \"curiosity\",\n",
    "    8: \"desire\",\n",
    "    9: \"disappointment\",\n",
    "    10: \"disapproval\",\n",
    "    11: \"disgust\",\n",
    "    12: \"embarrassment\",\n",
    "    13: \"excitement\",\n",
    "    14: \"fear\",\n",
    "    15: \"gratitude\",\n",
    "    16: \"grief\",\n",
    "    17: \"joy\",\n",
    "    18: \"love\",\n",
    "    19: \"nervousness\",\n",
    "    20: \"optimism\",\n",
    "    21: \"pride\",\n",
    "    22: \"realization\",\n",
    "    23: \"relief\",\n",
    "    24: \"remorse\",\n",
    "    25: \"sadness\",\n",
    "    26: \"surprise\",\n",
    "    27: \"neutral\",\n",
    "}\n",
    "ru_labels = [\n",
    "    \"восхищение\",\n",
    "    \"веселье\",\n",
    "    \"злость\",\n",
    "    \"раздражение\",\n",
    "    \"одобрение\",\n",
    "    \"забота\",\n",
    "    \"непонимание\",\n",
    "    \"любопытство\",\n",
    "    \"желание\",\n",
    "    \"разочарование\",\n",
    "    \"неодобрение\",\n",
    "    \"отвращение\",\n",
    "    \"смущение\",\n",
    "    \"возбуждение\",\n",
    "    \"страх\",\n",
    "    \"признательность\",\n",
    "    \"горе\",\n",
    "    \"радость\",\n",
    "    \"любовь\",\n",
    "    \"нервозность\",\n",
    "    \"оптимизм\",\n",
    "    \"гордость\",\n",
    "    \"осознание\",\n",
    "    \"облегчение\",\n",
    "    \"раскаяние\",\n",
    "    \"грусть\",\n",
    "    \"удивление\",\n",
    "    \"нейтральность\",\n",
    "]"
   ],
   "cell_type": "code",
   "outputs": [],
   "execution_count": null
  },
  {
   "metadata": {},
   "source": [
    "dataset = load_dataset(\"seara/ru_go_emotions\")"
   ],
   "cell_type": "code",
   "outputs": [
    {
     "output_type": "stream",
     "name": "stderr",
     "text": [
      "Using custom data configuration seara--ru-go-emotions-010f1c10233a04e9\n",
      "Found cached dataset parquet (/home/seara/.cache/huggingface/datasets/seara___parquet/seara--ru-go-emotions-010f1c10233a04e9/0.0.0/2a3b91fbd88a2c90d1dbbb32b460cf621d31bd5b05b934492fdef7d8d6f236ec)\n"
     ]
    },
    {
     "output_type": "display_data",
     "data": {
      "application/vnd.jupyter.widget-view+json": {
       "model_id": "d024c7cff8124873977b5d338fc21fd9",
       "version_major": 2,
       "version_minor": 0
      },
      "text/plain": [
       "  0%|          | 0/3 [00:00<?, ?it/s]"
      ]
     },
     "metadata": {}
    }
   ],
   "execution_count": null
  },
  {
   "metadata": {},
   "source": [
    "dataset"
   ],
   "cell_type": "code",
   "outputs": [
    {
     "output_type": "execute_result",
     "data": {
      "text/plain": [
       "DatasetDict({\n",
       "    test: Dataset({\n",
       "        features: ['text', 'labels', 'id', 'ru_text'],\n",
       "        num_rows: 5427\n",
       "    })\n",
       "    train: Dataset({\n",
       "        features: ['text', 'labels', 'id', 'ru_text'],\n",
       "        num_rows: 43410\n",
       "    })\n",
       "    validation: Dataset({\n",
       "        features: ['text', 'labels', 'id', 'ru_text'],\n",
       "        num_rows: 5426\n",
       "    })\n",
       "})"
      ]
     },
     "metadata": {},
     "execution_count": 20
    }
   ],
   "execution_count": null
  },
  {
   "metadata": {},
   "source": [
    "df_train = pd.DataFrame(dataset[\"train\"])\n",
    "df_train.drop(\"id\", axis=1).sample(1000).head(5)"
   ],
   "cell_type": "code",
   "outputs": [
    {
     "output_type": "execute_result",
     "data": {
      "text/html": [
       "<div>\n",
       "<style scoped>\n",
       "    .dataframe tbody tr th:only-of-type {\n",
       "        vertical-align: middle;\n",
       "    }\n",
       "\n",
       "    .dataframe tbody tr th {\n",
       "        vertical-align: top;\n",
       "    }\n",
       "\n",
       "    .dataframe thead th {\n",
       "        text-align: right;\n",
       "    }\n",
       "</style>\n",
       "<table border=\"1\" class=\"dataframe\">\n",
       "  <thead>\n",
       "    <tr style=\"text-align: right;\">\n",
       "      <th></th>\n",
       "      <th>text</th>\n",
       "      <th>labels</th>\n",
       "      <th>ru_text</th>\n",
       "    </tr>\n",
       "  </thead>\n",
       "  <tbody>\n",
       "    <tr>\n",
       "      <th>27095</th>\n",
       "      <td>Isn't that how [NAME] won in the first place?</td>\n",
       "      <td>[6]</td>\n",
       "      <td>Разве не так [ИМЯ] выиграл в первую очередь?</td>\n",
       "    </tr>\n",
       "    <tr>\n",
       "      <th>8324</th>\n",
       "      <td>When nobody can tell or force you to pay up, b...</td>\n",
       "      <td>[27]</td>\n",
       "      <td>Когда никто не может сказать или заставить вас...</td>\n",
       "    </tr>\n",
       "    <tr>\n",
       "      <th>25612</th>\n",
       "      <td>I don’t think they are. Haksal was streaming K...</td>\n",
       "      <td>[27]</td>\n",
       "      <td>Я так не думаю. Всего несколько дней назад Хак...</td>\n",
       "    </tr>\n",
       "    <tr>\n",
       "      <th>27573</th>\n",
       "      <td>You mean me? Said the same thing as you did lol</td>\n",
       "      <td>[27]</td>\n",
       "      <td>Ты имеешь ввиду меня? Сказал то же самое, что ...</td>\n",
       "    </tr>\n",
       "    <tr>\n",
       "      <th>2660</th>\n",
       "      <td>What a little nugget!</td>\n",
       "      <td>[27]</td>\n",
       "      <td>Какой маленький самородок!</td>\n",
       "    </tr>\n",
       "  </tbody>\n",
       "</table>\n",
       "</div>"
      ],
      "text/plain": [
       "                                                    text labels  \\\n",
       "27095      Isn't that how [NAME] won in the first place?    [6]   \n",
       "8324   When nobody can tell or force you to pay up, b...   [27]   \n",
       "25612  I don’t think they are. Haksal was streaming K...   [27]   \n",
       "27573    You mean me? Said the same thing as you did lol   [27]   \n",
       "2660                               What a little nugget!   [27]   \n",
       "\n",
       "                                                 ru_text  \n",
       "27095       Разве не так [ИМЯ] выиграл в первую очередь?  \n",
       "8324   Когда никто не может сказать или заставить вас...  \n",
       "25612  Я так не думаю. Всего несколько дней назад Хак...  \n",
       "27573  Ты имеешь ввиду меня? Сказал то же самое, что ...  \n",
       "2660                          Какой маленький самородок!  "
      ]
     },
     "metadata": {},
     "execution_count": 23
    }
   ],
   "execution_count": null
  },
  {
   "metadata": {},
   "source": [
    "df_train[\"Length words\"] = df_train[\"ru_text\"].apply(lambda x: len(x.split()))\n",
    "df_train[\"Length\"] = df_train[\"ru_text\"].apply(len)"
   ],
   "cell_type": "code",
   "outputs": [],
   "execution_count": null
  },
  {
   "metadata": {},
   "source": [
    "df_train[\"Length\"].mean()"
   ],
   "cell_type": "code",
   "outputs": [
    {
     "output_type": "execute_result",
     "data": {
      "text/plain": [
       "72.36956922368118"
      ]
     },
     "metadata": {},
     "execution_count": 25
    }
   ],
   "execution_count": null
  },
  {
   "metadata": {},
   "source": [
    "df_train[\"Length words\"].mean()"
   ],
   "cell_type": "code",
   "outputs": [
    {
     "output_type": "execute_result",
     "data": {
      "text/plain": [
       "11.747039852568532"
      ]
     },
     "metadata": {},
     "execution_count": 26
    }
   ],
   "execution_count": null
  },
  {
   "metadata": {},
   "source": [
    "test = pd.Series([ru_labels[x] for item in df_train.labels for x in item]).value_counts()\n",
    "test.plot.barh(xlabel=\"Количество элементов\", ylabel=\"Классы\")"
   ],
   "cell_type": "code",
   "outputs": [
    {
     "output_type": "execute_result",
     "data": {
      "text/plain": [
       "<AxesSubplot: xlabel='Количество элементов', ylabel='Классы'>"
      ]
     },
     "metadata": {},
     "execution_count": 28
    },
    {
     "output_type": "display_data",
     "data": {
      "image/png": "[encoded data removed]",
      "text/plain": [
       "<Figure size 640x480 with 1 Axes>"
      ]
     },
     "metadata": {}
    }
   ],
   "execution_count": null
  },
  {
   "metadata": {},
   "source": [
    "dataset[\"train\"].features"
   ],
   "cell_type": "code",
   "outputs": [
    {
     "output_type": "execute_result",
     "data": {
      "text/plain": [
       "{'text': Value(dtype='string', id=None),\n",
       " 'labels': Sequence(feature=ClassLabel(names=['admiration', 'amusement', 'anger', 'annoyance', 'approval', 'caring', 'confusion', 'curiosity', 'desire', 'disappointment', 'disapproval', 'disgust', 'embarrassment', 'excitement', 'fear', 'gratitude', 'grief', 'joy', 'love', 'nervousness', 'optimism', 'pride', 'realization', 'relief', 'remorse', 'sadness', 'surprise', 'neutral'], id=None), length=-1, id=None),\n",
       " 'id': Value(dtype='string', id=None),\n",
       " 'ru_text': Value(dtype='string', id=None)}"
      ]
     },
     "metadata": {},
     "execution_count": 21
    }
   ],
   "execution_count": null
  },
  {
   "metadata": {},
   "source": [
    "df = []\n",
    "for key, value in labels.items():\n",
    "    df.append(df_train[df_train[\"labels\"].isin([[key]])].sample(1).drop([\"labels\", \"id\", \"text\"], axis=1).values[0][0])\n",
    "df = pd.DataFrame(dict(zip(ru_labels, df)).items(), columns=[\"Эмоция\", \"Пример\"])\n",
    "\n",
    "df"
   ],
   "cell_type": "code",
   "outputs": [
    {
     "output_type": "execute_result",
     "data": {
      "text/html": [
       "<div>\n",
       "<style scoped>\n",
       "    .dataframe tbody tr th:only-of-type {\n",
       "        vertical-align: middle;\n",
       "    }\n",
       "\n",
       "    .dataframe tbody tr th {\n",
       "        vertical-align: top;\n",
       "    }\n",
       "\n",
       "    .dataframe thead th {\n",
       "        text-align: right;\n",
       "    }\n",
       "</style>\n",
       "<table border=\"1\" class=\"dataframe\">\n",
       "  <thead>\n",
       "    <tr style=\"text-align: right;\">\n",
       "      <th></th>\n",
       "      <th>Эмоция</th>\n",
       "      <th>Пример</th>\n",
       "    </tr>\n",
       "  </thead>\n",
       "  <tbody>\n",
       "    <tr>\n",
       "      <th>0</th>\n",
       "      <td>восхищение</td>\n",
       "      <td>Вау, это более чем увлекательно.</td>\n",
       "    </tr>\n",
       "    <tr>\n",
       "      <th>1</th>\n",
       "      <td>веселье</td>\n",
       "      <td>Ой ничего не могу сделать... нажми пройти так весело :) Еще не пройдены все 3 дорожки :)</td>\n",
       "    </tr>\n",
       "    <tr>\n",
       "      <th>2</th>\n",
       "      <td>злость</td>\n",
       "      <td>Оставь [ИМЯ] в покое.</td>\n",
       "    </tr>\n",
       "    <tr>\n",
       "      <th>3</th>\n",
       "      <td>раздражение</td>\n",
       "      <td>Фу, этот комментарий должен умереть. Прелюбодеяние — самый трусливый вариант, который вы когда-либо могли выбрать.</td>\n",
       "    </tr>\n",
       "    <tr>\n",
       "      <th>4</th>\n",
       "      <td>одобрение</td>\n",
       "      <td>Я чувствую с ним...</td>\n",
       "    </tr>\n",
       "    <tr>\n",
       "      <th>5</th>\n",
       "      <td>забота</td>\n",
       "      <td>Я молюсь, чтобы у вас хватило сил бороться за себя и отправиться в Северную Каролину.</td>\n",
       "    </tr>\n",
       "    <tr>\n",
       "      <th>6</th>\n",
       "      <td>непонимание</td>\n",
       "      <td>Все звуки возможны, кроме ключа, я не вижу, как его пропустили при первом поиске.</td>\n",
       "    </tr>\n",
       "    <tr>\n",
       "      <th>7</th>\n",
       "      <td>любопытство</td>\n",
       "      <td>блокирует запуск [ИМЯ]? Очень плохо</td>\n",
       "    </tr>\n",
       "    <tr>\n",
       "      <th>8</th>\n",
       "      <td>желание</td>\n",
       "      <td>Впервые за весь сезон я не в восторге от разговора [ИМЯ] после игры. Я бы хотел, чтобы он обратился к PP.</td>\n",
       "    </tr>\n",
       "    <tr>\n",
       "      <th>9</th>\n",
       "      <td>разочарование</td>\n",
       "      <td>Подождите, он действительно сделал это? Кажется, это было бы безумно неуважительно по отношению к вам, товарищи мастера.</td>\n",
       "    </tr>\n",
       "    <tr>\n",
       "      <th>10</th>\n",
       "      <td>неодобрение</td>\n",
       "      <td>Я видел, как по крайней мере один пользователь на этом форуме плохо отзывался о [ИМЯ] из-за отсутствия игрового времени.</td>\n",
       "    </tr>\n",
       "    <tr>\n",
       "      <th>11</th>\n",
       "      <td>отвращение</td>\n",
       "      <td>Интернет — странное место.</td>\n",
       "    </tr>\n",
       "    <tr>\n",
       "      <th>12</th>\n",
       "      <td>смущение</td>\n",
       "      <td>Никто не стыдит их за то, что они пытаются остановить 13-ю статью. Youtube стыдят за то, что они лицемерят.</td>\n",
       "    </tr>\n",
       "    <tr>\n",
       "      <th>13</th>\n",
       "      <td>возбуждение</td>\n",
       "      <td>Хм... Ванкувера нет в списке? Это интересно ...</td>\n",
       "    </tr>\n",
       "    <tr>\n",
       "      <th>14</th>\n",
       "      <td>страх</td>\n",
       "      <td>Ибо ночь темна и полна ужасов!</td>\n",
       "    </tr>\n",
       "    <tr>\n",
       "      <th>15</th>\n",
       "      <td>признательность</td>\n",
       "      <td>Ищу 3 тикса для Лифс 10 числа. Верхний или нижний. Спасибо!</td>\n",
       "    </tr>\n",
       "    <tr>\n",
       "      <th>16</th>\n",
       "      <td>горе</td>\n",
       "      <td>Сочувствую твоей утрате брат ❤️</td>\n",
       "    </tr>\n",
       "    <tr>\n",
       "      <th>17</th>\n",
       "      <td>радость</td>\n",
       "      <td>Поздравляем, идем пить пиво и смотреть игру Leaf в субботу! HNIC.</td>\n",
       "    </tr>\n",
       "    <tr>\n",
       "      <th>18</th>\n",
       "      <td>любовь</td>\n",
       "      <td>Всегда вниз для некоторой любви Ливерпуля</td>\n",
       "    </tr>\n",
       "    <tr>\n",
       "      <th>19</th>\n",
       "      <td>нервозность</td>\n",
       "      <td>В любом случае, это должно хорошо сочетаться с кратомом. Мне нужно просто устранить тревогу и не иметь тягу</td>\n",
       "    </tr>\n",
       "    <tr>\n",
       "      <th>20</th>\n",
       "      <td>оптимизм</td>\n",
       "      <td>Потому что он очень-очень надеялся, что люди, даже незнакомцы в Интернете, подумают, что он врач.</td>\n",
       "    </tr>\n",
       "    <tr>\n",
       "      <th>21</th>\n",
       "      <td>гордость</td>\n",
       "      <td>Мех, я до сих пор ношу свою майку Бернса с гордостью.</td>\n",
       "    </tr>\n",
       "    <tr>\n",
       "      <th>22</th>\n",
       "      <td>осознание</td>\n",
       "      <td>Это то, что недостаточно воспитано.</td>\n",
       "    </tr>\n",
       "    <tr>\n",
       "      <th>23</th>\n",
       "      <td>облегчение</td>\n",
       "      <td>Я подружусь. Не беспокойся.</td>\n",
       "    </tr>\n",
       "    <tr>\n",
       "      <th>24</th>\n",
       "      <td>раскаяние</td>\n",
       "      <td>КЛЯНУСЬ, Я НЕ ХОТЕЛ ОТВЕТИТЬ ЧЕРЕЗ 2 ЧАСА, ПРОСТИ МЕНЯ</td>\n",
       "    </tr>\n",
       "    <tr>\n",
       "      <th>25</th>\n",
       "      <td>грусть</td>\n",
       "      <td>К сожалению, это происходит случайно, и я не хотел бы кому-то врать за деньги, если бы мысли не появились.</td>\n",
       "    </tr>\n",
       "    <tr>\n",
       "      <th>26</th>\n",
       "      <td>удивление</td>\n",
       "      <td>Я всегда задавался вопросом, почему этого никогда не происходило с «мускулами из Брюсселя» ни в одном из его фильмов.</td>\n",
       "    </tr>\n",
       "    <tr>\n",
       "      <th>27</th>\n",
       "      <td>нейтральность</td>\n",
       "      <td>&gt; Я не думаю, что это намеренно. Вы были заблокированы в /r/conspiracy</td>\n",
       "    </tr>\n",
       "  </tbody>\n",
       "</table>\n",
       "</div>"
      ],
      "text/plain": [
       "             Эмоция  \\\n",
       "0        восхищение   \n",
       "1           веселье   \n",
       "2            злость   \n",
       "3       раздражение   \n",
       "4         одобрение   \n",
       "5            забота   \n",
       "6       непонимание   \n",
       "7       любопытство   \n",
       "8           желание   \n",
       "9     разочарование   \n",
       "10      неодобрение   \n",
       "11       отвращение   \n",
       "12         смущение   \n",
       "13      возбуждение   \n",
       "14            страх   \n",
       "15  признательность   \n",
       "16             горе   \n",
       "17          радость   \n",
       "18           любовь   \n",
       "19      нервозность   \n",
       "20         оптимизм   \n",
       "21         гордость   \n",
       "22        осознание   \n",
       "23       облегчение   \n",
       "24        раскаяние   \n",
       "25           грусть   \n",
       "26        удивление   \n",
       "27    нейтральность   \n",
       "\n",
       "                                                                                                                      Пример  \n",
       "0                                                                                           Вау, это более чем увлекательно.  \n",
       "1                                   Ой ничего не могу сделать... нажми пройти так весело :) Еще не пройдены все 3 дорожки :)  \n",
       "2                                                                                                      Оставь [ИМЯ] в покое.  \n",
       "3         Фу, этот комментарий должен умереть. Прелюбодеяние — самый трусливый вариант, который вы когда-либо могли выбрать.  \n",
       "4                                                                                                        Я чувствую с ним...  \n",
       "5                                      Я молюсь, чтобы у вас хватило сил бороться за себя и отправиться в Северную Каролину.  \n",
       "6                                          Все звуки возможны, кроме ключа, я не вижу, как его пропустили при первом поиске.  \n",
       "7                                                                                        блокирует запуск [ИМЯ]? Очень плохо  \n",
       "8                  Впервые за весь сезон я не в восторге от разговора [ИМЯ] после игры. Я бы хотел, чтобы он обратился к PP.  \n",
       "9   Подождите, он действительно сделал это? Кажется, это было бы безумно неуважительно по отношению к вам, товарищи мастера.  \n",
       "10  Я видел, как по крайней мере один пользователь на этом форуме плохо отзывался о [ИМЯ] из-за отсутствия игрового времени.  \n",
       "11                                                                                                Интернет — странное место.  \n",
       "12               Никто не стыдит их за то, что они пытаются остановить 13-ю статью. Youtube стыдят за то, что они лицемерят.  \n",
       "13                                                                           Хм... Ванкувера нет в списке? Это интересно ...  \n",
       "14                                                                                            Ибо ночь темна и полна ужасов!  \n",
       "15                                                               Ищу 3 тикса для Лифс 10 числа. Верхний или нижний. Спасибо!  \n",
       "16                                                                                           Сочувствую твоей утрате брат ❤️  \n",
       "17                                                         Поздравляем, идем пить пиво и смотреть игру Leaf в субботу! HNIC.  \n",
       "18                                                                                 Всегда вниз для некоторой любви Ливерпуля  \n",
       "19               В любом случае, это должно хорошо сочетаться с кратомом. Мне нужно просто устранить тревогу и не иметь тягу  \n",
       "20                         Потому что он очень-очень надеялся, что люди, даже незнакомцы в Интернете, подумают, что он врач.  \n",
       "21                                                                     Мех, я до сих пор ношу свою майку Бернса с гордостью.  \n",
       "22                                                                                       Это то, что недостаточно воспитано.  \n",
       "23                                                                                               Я подружусь. Не беспокойся.  \n",
       "24                                                                    КЛЯНУСЬ, Я НЕ ХОТЕЛ ОТВЕТИТЬ ЧЕРЕЗ 2 ЧАСА, ПРОСТИ МЕНЯ  \n",
       "25                К сожалению, это происходит случайно, и я не хотел бы кому-то врать за деньги, если бы мысли не появились.  \n",
       "26     Я всегда задавался вопросом, почему этого никогда не происходило с «мускулами из Брюсселя» ни в одном из его фильмов.  \n",
       "27                                                    > Я не думаю, что это намеренно. Вы были заблокированы в /r/conspiracy  "
      ]
     },
     "metadata": {},
     "execution_count": 37
    }
   ],
   "execution_count": null
  }
 ]
}

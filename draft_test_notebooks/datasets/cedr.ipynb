{
 "nbformat": 4,
 "nbformat_minor": 2,
 "metadata": {},
 "cells": [
  {
   "metadata": {},
   "source": [
    "import pandas as pd\n",
    "from datasets import load_dataset"
   ],
   "cell_type": "code",
   "outputs": [],
   "execution_count": null
  },
  {
   "metadata": {},
   "source": [
    "labels = {\n",
    "    0: \"no emotion\",\n",
    "    1: \"joy\",\n",
    "    2: \"sadness\",\n",
    "    3: \"surprise\",\n",
    "    4: \"fear\",\n",
    "    5: \"anger\",\n",
    "}\n",
    "ru_labels = [\"отсутствие эмоции\", \"радость\", \"грусть\", \"удивление\", \"страх\", \"злость\"]"
   ],
   "cell_type": "code",
   "outputs": [],
   "execution_count": null
  },
  {
   "metadata": {},
   "source": [
    "dataset = load_dataset(\"cedr\")"
   ],
   "cell_type": "code",
   "outputs": [
    {
     "output_type": "stream",
     "name": "stderr",
     "text": [
      "No config specified, defaulting to: cedr/main\n",
      "Found cached dataset cedr (/home/seara/.cache/huggingface/datasets/cedr/main/0.1.1/117570489cbabbdf8de619bd31918a1cd680a7f286b89d04af340d0691dc2d66)\n"
     ]
    },
    {
     "output_type": "display_data",
     "data": {
      "application/vnd.jupyter.widget-view+json": {
       "model_id": "7f50dfba13da4b958f4888dc531c6798",
       "version_major": 2,
       "version_minor": 0
      },
      "text/plain": [
       "  0%|          | 0/2 [00:00<?, ?it/s]"
      ]
     },
     "metadata": {}
    }
   ],
   "execution_count": null
  },
  {
   "metadata": {},
   "source": [
    "dataset"
   ],
   "cell_type": "code",
   "outputs": [
    {
     "output_type": "execute_result",
     "data": {
      "text/plain": [
       "DatasetDict({\n",
       "    train: Dataset({\n",
       "        features: ['text', 'labels', 'source'],\n",
       "        num_rows: 7528\n",
       "    })\n",
       "    test: Dataset({\n",
       "        features: ['text', 'labels', 'source'],\n",
       "        num_rows: 1882\n",
       "    })\n",
       "})"
      ]
     },
     "metadata": {},
     "execution_count": 4
    }
   ],
   "execution_count": null
  },
  {
   "metadata": {},
   "source": [
    "dataset[\"train\"].train_test_split(test_size=941)"
   ],
   "cell_type": "code",
   "outputs": [
    {
     "output_type": "execute_result",
     "data": {
      "text/plain": [
       "DatasetDict({\n",
       "    train: Dataset({\n",
       "        features: ['text', 'labels', 'source'],\n",
       "        num_rows: 6587\n",
       "    })\n",
       "    test: Dataset({\n",
       "        features: ['text', 'labels', 'source'],\n",
       "        num_rows: 941\n",
       "    })\n",
       "})"
      ]
     },
     "metadata": {},
     "execution_count": 5
    }
   ],
   "execution_count": null
  },
  {
   "metadata": {},
   "source": [
    "dataset[\"train\"].features"
   ],
   "cell_type": "code",
   "outputs": [
    {
     "output_type": "execute_result",
     "data": {
      "text/plain": [
       "{'text': Value(dtype='string', id=None),\n",
       " 'labels': Sequence(feature=ClassLabel(names=['joy', 'sadness', 'surprise', 'fear', 'anger'], id=None), length=-1, id=None),\n",
       " 'source': Value(dtype='string', id=None)}"
      ]
     },
     "metadata": {},
     "execution_count": 6
    }
   ],
   "execution_count": null
  },
  {
   "metadata": {},
   "source": [
    "df_cedr_train = pd.DataFrame(dataset[\"train\"])\n",
    "df_cedr_test = pd.DataFrame(dataset[\"test\"])\n",
    "print(\"train,\", \"размер\", df_cedr_train.shape)\n",
    "print(\"test,\", \"размер\", df_cedr_test.shape)\n",
    "display(df_cedr_train.head(5))\n",
    "# display(df_cedr_test.head(5))"
   ],
   "cell_type": "code",
   "outputs": [
    {
     "output_type": "stream",
     "name": "stdout",
     "text": [
      "train, размер (7528, 3)\n",
      "test, размер (1882, 3)\n"
     ]
    },
    {
     "output_type": "display_data",
     "data": {
      "text/html": [
       "<div>\n",
       "<style scoped>\n",
       "    .dataframe tbody tr th:only-of-type {\n",
       "        vertical-align: middle;\n",
       "    }\n",
       "\n",
       "    .dataframe tbody tr th {\n",
       "        vertical-align: top;\n",
       "    }\n",
       "\n",
       "    .dataframe thead th {\n",
       "        text-align: right;\n",
       "    }\n",
       "</style>\n",
       "<table border=\"1\" class=\"dataframe\">\n",
       "  <thead>\n",
       "    <tr style=\"text-align: right;\">\n",
       "      <th></th>\n",
       "      <th>text</th>\n",
       "      <th>labels</th>\n",
       "      <th>source</th>\n",
       "    </tr>\n",
       "  </thead>\n",
       "  <tbody>\n",
       "    <tr>\n",
       "      <th>0</th>\n",
       "      <td>Суровый гималайский медведь .</td>\n",
       "      <td>[]</td>\n",
       "      <td>lj</td>\n",
       "    </tr>\n",
       "    <tr>\n",
       "      <th>1</th>\n",
       "      <td>Так, обнаружено несколько проблем с дисплеем (...</td>\n",
       "      <td>[]</td>\n",
       "      <td>lenta</td>\n",
       "    </tr>\n",
       "    <tr>\n",
       "      <th>2</th>\n",
       "      <td>У меня остается только один вопрос - является ...</td>\n",
       "      <td>[2]</td>\n",
       "      <td>lj</td>\n",
       "    </tr>\n",
       "    <tr>\n",
       "      <th>3</th>\n",
       "      <td>Забавно как люди в возрасте удивляются входящи...</td>\n",
       "      <td>[0]</td>\n",
       "      <td>twitter</td>\n",
       "    </tr>\n",
       "    <tr>\n",
       "      <th>4</th>\n",
       "      <td>Издание The Register отмечает, что у владельце...</td>\n",
       "      <td>[]</td>\n",
       "      <td>lenta</td>\n",
       "    </tr>\n",
       "  </tbody>\n",
       "</table>\n",
       "</div>"
      ],
      "text/plain": [
       "                                                text labels   source\n",
       "0                      Суровый гималайский медведь .     []       lj\n",
       "1  Так, обнаружено несколько проблем с дисплеем (...     []    lenta\n",
       "2  У меня остается только один вопрос - является ...    [2]       lj\n",
       "3  Забавно как люди в возрасте удивляются входящи...    [0]  twitter\n",
       "4  Издание The Register отмечает, что у владельце...     []    lenta"
      ]
     },
     "metadata": {}
    }
   ],
   "execution_count": null
  },
  {
   "metadata": {},
   "source": [
    "df_cedr_train[\"Length words\"] = df_cedr_train[\"text\"].apply(lambda x: len(x.split()))\n",
    "df_cedr_train[\"Length\"] = df_cedr_train[\"text\"].apply(len)"
   ],
   "cell_type": "code",
   "outputs": [],
   "execution_count": null
  },
  {
   "metadata": {},
   "source": [
    "df_cedr_train[\"Length words\"].mean()"
   ],
   "cell_type": "code",
   "outputs": [
    {
     "output_type": "execute_result",
     "data": {
      "text/plain": [
       "14.815223166843783"
      ]
     },
     "metadata": {},
     "execution_count": 9
    }
   ],
   "execution_count": null
  },
  {
   "metadata": {},
   "source": [
    "df_cedr_train[\"Length\"].mean()"
   ],
   "cell_type": "code",
   "outputs": [
    {
     "output_type": "execute_result",
     "data": {
      "text/plain": [
       "92.63044633368757"
      ]
     },
     "metadata": {},
     "execution_count": 11
    }
   ],
   "execution_count": null
  },
  {
   "metadata": {},
   "source": [
    "pd.DataFrame(df_cedr_train[\"labels\"].value_counts())"
   ],
   "cell_type": "code",
   "outputs": [
    {
     "output_type": "execute_result",
     "data": {
      "text/html": [
       "<div>\n",
       "<style scoped>\n",
       "    .dataframe tbody tr th:only-of-type {\n",
       "        vertical-align: middle;\n",
       "    }\n",
       "\n",
       "    .dataframe tbody tr th {\n",
       "        vertical-align: top;\n",
       "    }\n",
       "\n",
       "    .dataframe thead th {\n",
       "        text-align: right;\n",
       "    }\n",
       "</style>\n",
       "<table border=\"1\" class=\"dataframe\">\n",
       "  <thead>\n",
       "    <tr style=\"text-align: right;\">\n",
       "      <th></th>\n",
       "      <th>labels</th>\n",
       "    </tr>\n",
       "  </thead>\n",
       "  <tbody>\n",
       "    <tr>\n",
       "      <th>[]</th>\n",
       "      <td>3043</td>\n",
       "    </tr>\n",
       "    <tr>\n",
       "      <th>[0]</th>\n",
       "      <td>1508</td>\n",
       "    </tr>\n",
       "    <tr>\n",
       "      <th>[1]</th>\n",
       "      <td>1365</td>\n",
       "    </tr>\n",
       "    <tr>\n",
       "      <th>[2]</th>\n",
       "      <td>568</td>\n",
       "    </tr>\n",
       "    <tr>\n",
       "      <th>[3]</th>\n",
       "      <td>553</td>\n",
       "    </tr>\n",
       "    <tr>\n",
       "      <th>[4]</th>\n",
       "      <td>384</td>\n",
       "    </tr>\n",
       "    <tr>\n",
       "      <th>[0, 2]</th>\n",
       "      <td>27</td>\n",
       "    </tr>\n",
       "    <tr>\n",
       "      <th>[1, 4]</th>\n",
       "      <td>13</td>\n",
       "    </tr>\n",
       "    <tr>\n",
       "      <th>[1, 3]</th>\n",
       "      <td>12</td>\n",
       "    </tr>\n",
       "    <tr>\n",
       "      <th>[1, 0]</th>\n",
       "      <td>9</td>\n",
       "    </tr>\n",
       "    <tr>\n",
       "      <th>[0, 3]</th>\n",
       "      <td>6</td>\n",
       "    </tr>\n",
       "    <tr>\n",
       "      <th>[3, 0]</th>\n",
       "      <td>6</td>\n",
       "    </tr>\n",
       "    <tr>\n",
       "      <th>[0, 1]</th>\n",
       "      <td>5</td>\n",
       "    </tr>\n",
       "    <tr>\n",
       "      <th>[3, 4]</th>\n",
       "      <td>4</td>\n",
       "    </tr>\n",
       "    <tr>\n",
       "      <th>[3, 1]</th>\n",
       "      <td>4</td>\n",
       "    </tr>\n",
       "    <tr>\n",
       "      <th>[3, 2]</th>\n",
       "      <td>3</td>\n",
       "    </tr>\n",
       "    <tr>\n",
       "      <th>[4, 0]</th>\n",
       "      <td>3</td>\n",
       "    </tr>\n",
       "    <tr>\n",
       "      <th>[4, 1]</th>\n",
       "      <td>3</td>\n",
       "    </tr>\n",
       "    <tr>\n",
       "      <th>[1, 2]</th>\n",
       "      <td>3</td>\n",
       "    </tr>\n",
       "    <tr>\n",
       "      <th>[2, 0]</th>\n",
       "      <td>2</td>\n",
       "    </tr>\n",
       "    <tr>\n",
       "      <th>[2, 1]</th>\n",
       "      <td>2</td>\n",
       "    </tr>\n",
       "    <tr>\n",
       "      <th>[0, 4]</th>\n",
       "      <td>2</td>\n",
       "    </tr>\n",
       "    <tr>\n",
       "      <th>[1, 4, 0]</th>\n",
       "      <td>1</td>\n",
       "    </tr>\n",
       "    <tr>\n",
       "      <th>[2, 3]</th>\n",
       "      <td>1</td>\n",
       "    </tr>\n",
       "    <tr>\n",
       "      <th>[2, 4]</th>\n",
       "      <td>1</td>\n",
       "    </tr>\n",
       "  </tbody>\n",
       "</table>\n",
       "</div>"
      ],
      "text/plain": [
       "           labels\n",
       "[]           3043\n",
       "[0]          1508\n",
       "[1]          1365\n",
       "[2]           568\n",
       "[3]           553\n",
       "[4]           384\n",
       "[0, 2]         27\n",
       "[1, 4]         13\n",
       "[1, 3]         12\n",
       "[1, 0]          9\n",
       "[0, 3]          6\n",
       "[3, 0]          6\n",
       "[0, 1]          5\n",
       "[3, 4]          4\n",
       "[3, 1]          4\n",
       "[3, 2]          3\n",
       "[4, 0]          3\n",
       "[4, 1]          3\n",
       "[1, 2]          3\n",
       "[2, 0]          2\n",
       "[2, 1]          2\n",
       "[0, 4]          2\n",
       "[1, 4, 0]       1\n",
       "[2, 3]          1\n",
       "[2, 4]          1"
      ]
     },
     "metadata": {},
     "execution_count": 27
    }
   ],
   "execution_count": null
  },
  {
   "metadata": {},
   "source": [
    "df_cedr_train[\"labels_processed\"] = df_cedr_train[\"labels\"].apply(lambda x: [i + 1 for i in x] if x else [0])\n",
    "df_cedr_train[\"labels_processed\"]"
   ],
   "cell_type": "code",
   "outputs": [
    {
     "output_type": "execute_result",
     "data": {
      "text/plain": [
       "0       [0]\n",
       "1       [0]\n",
       "2       [3]\n",
       "3       [1]\n",
       "4       [0]\n",
       "       ... \n",
       "7523    [5]\n",
       "7524    [1]\n",
       "7525    [2]\n",
       "7526    [0]\n",
       "7527    [3]\n",
       "Name: labels_processed, Length: 7528, dtype: object"
      ]
     },
     "metadata": {},
     "execution_count": 13
    }
   ],
   "execution_count": null
  },
  {
   "metadata": {},
   "source": [
    "frequency = pd.Series([ru_labels[x] for item in df_cedr_train[\"labels_processed\"] for x in item]).value_counts()\n",
    "frequency.plot.barh(xlabel=\"Количество элементов\", ylabel=\"Класс\")"
   ],
   "cell_type": "code",
   "outputs": [
    {
     "output_type": "execute_result",
     "data": {
      "text/plain": [
       "<AxesSubplot: xlabel='Количество элементов', ylabel='Класс'>"
      ]
     },
     "metadata": {},
     "execution_count": 16
    },
    {
     "output_type": "display_data",
     "data": {
      "image/png": "[encoded data removed]",
      "text/plain": [
       "<Figure size 640x480 with 1 Axes>"
      ]
     },
     "metadata": {}
    }
   ],
   "execution_count": null
  },
  {
   "metadata": {},
   "source": [
    "pd.DataFrame(df_cedr_train[\"source\"].value_counts())"
   ],
   "cell_type": "code",
   "outputs": [
    {
     "output_type": "execute_result",
     "data": {
      "text/html": [
       "<div>\n",
       "<style scoped>\n",
       "    .dataframe tbody tr th:only-of-type {\n",
       "        vertical-align: middle;\n",
       "    }\n",
       "\n",
       "    .dataframe tbody tr th {\n",
       "        vertical-align: top;\n",
       "    }\n",
       "\n",
       "    .dataframe thead th {\n",
       "        text-align: right;\n",
       "    }\n",
       "</style>\n",
       "<table border=\"1\" class=\"dataframe\">\n",
       "  <thead>\n",
       "    <tr style=\"text-align: right;\">\n",
       "      <th></th>\n",
       "      <th>source</th>\n",
       "    </tr>\n",
       "  </thead>\n",
       "  <tbody>\n",
       "    <tr>\n",
       "      <th>twitter</th>\n",
       "      <td>2787</td>\n",
       "    </tr>\n",
       "    <tr>\n",
       "      <th>lj</th>\n",
       "      <td>2446</td>\n",
       "    </tr>\n",
       "    <tr>\n",
       "      <th>lenta</th>\n",
       "      <td>2295</td>\n",
       "    </tr>\n",
       "  </tbody>\n",
       "</table>\n",
       "</div>"
      ],
      "text/plain": [
       "         source\n",
       "twitter    2787\n",
       "lj         2446\n",
       "lenta      2295"
      ]
     },
     "metadata": {},
     "execution_count": 19
    }
   ],
   "execution_count": null
  },
  {
   "metadata": {},
   "source": [
    "\n"
   ],
   "cell_type": "code",
   "outputs": [],
   "execution_count": null
  },
  {
   "metadata": {},
   "source": [
    "emotions = pd.DataFrame(labels.items(), columns=[\"Номер\", \"Эмоция\"])\n",
    "emotions[\"Перевод\"] = ru_labels\n",
    "emotions"
   ],
   "cell_type": "code",
   "outputs": [
    {
     "output_type": "execute_result",
     "data": {
      "text/html": [
       "<div>\n",
       "<style scoped>\n",
       "    .dataframe tbody tr th:only-of-type {\n",
       "        vertical-align: middle;\n",
       "    }\n",
       "\n",
       "    .dataframe tbody tr th {\n",
       "        vertical-align: top;\n",
       "    }\n",
       "\n",
       "    .dataframe thead th {\n",
       "        text-align: right;\n",
       "    }\n",
       "</style>\n",
       "<table border=\"1\" class=\"dataframe\">\n",
       "  <thead>\n",
       "    <tr style=\"text-align: right;\">\n",
       "      <th></th>\n",
       "      <th>Номер</th>\n",
       "      <th>Эмоция</th>\n",
       "      <th>Перевод</th>\n",
       "    </tr>\n",
       "  </thead>\n",
       "  <tbody>\n",
       "    <tr>\n",
       "      <th>0</th>\n",
       "      <td>0</td>\n",
       "      <td>no emotion</td>\n",
       "      <td>отсутствие эмоции</td>\n",
       "    </tr>\n",
       "    <tr>\n",
       "      <th>1</th>\n",
       "      <td>1</td>\n",
       "      <td>joy</td>\n",
       "      <td>радость</td>\n",
       "    </tr>\n",
       "    <tr>\n",
       "      <th>2</th>\n",
       "      <td>2</td>\n",
       "      <td>sadness</td>\n",
       "      <td>грусть</td>\n",
       "    </tr>\n",
       "    <tr>\n",
       "      <th>3</th>\n",
       "      <td>3</td>\n",
       "      <td>surprise</td>\n",
       "      <td>удивление</td>\n",
       "    </tr>\n",
       "    <tr>\n",
       "      <th>4</th>\n",
       "      <td>4</td>\n",
       "      <td>fear</td>\n",
       "      <td>страх</td>\n",
       "    </tr>\n",
       "    <tr>\n",
       "      <th>5</th>\n",
       "      <td>5</td>\n",
       "      <td>anger</td>\n",
       "      <td>злость</td>\n",
       "    </tr>\n",
       "  </tbody>\n",
       "</table>\n",
       "</div>"
      ],
      "text/plain": [
       "   Номер      Эмоция            Перевод\n",
       "0      0  no emotion  отсутствие эмоции\n",
       "1      1         joy            радость\n",
       "2      2     sadness             грусть\n",
       "3      3    surprise          удивление\n",
       "4      4        fear              страх\n",
       "5      5       anger             злость"
      ]
     },
     "metadata": {},
     "execution_count": 26
    }
   ],
   "execution_count": null
  },
  {
   "metadata": {},
   "source": [
    "df = []\n",
    "for key, value in labels.items():\n",
    "    if key == 0:\n",
    "        df.append(\n",
    "            df_cedr_train[df_cedr_train[\"labels\"].isin([[]])].sample(1).drop([\"labels\", \"source\"], axis=1).values[0][0]\n",
    "        )\n",
    "    else:\n",
    "        df.append(\n",
    "            df_cedr_train[df_cedr_train[\"labels\"].isin([[key - 1]])]\n",
    "            .sample(1)\n",
    "            .drop([\"labels\", \"source\"], axis=1)\n",
    "            .values[0][0]\n",
    "        )\n",
    "df = pd.DataFrame(dict(zip(ru_labels, df)).items(), columns=[\"Эмоция\", \"Пример\"])\n",
    "df"
   ],
   "cell_type": "code",
   "outputs": [
    {
     "output_type": "execute_result",
     "data": {
      "text/html": [
       "<div>\n",
       "<style scoped>\n",
       "    .dataframe tbody tr th:only-of-type {\n",
       "        vertical-align: middle;\n",
       "    }\n",
       "\n",
       "    .dataframe tbody tr th {\n",
       "        vertical-align: top;\n",
       "    }\n",
       "\n",
       "    .dataframe thead th {\n",
       "        text-align: right;\n",
       "    }\n",
       "</style>\n",
       "<table border=\"1\" class=\"dataframe\">\n",
       "  <thead>\n",
       "    <tr style=\"text-align: right;\">\n",
       "      <th></th>\n",
       "      <th>Эмоция</th>\n",
       "      <th>Пример</th>\n",
       "    </tr>\n",
       "  </thead>\n",
       "  <tbody>\n",
       "    <tr>\n",
       "      <th>0</th>\n",
       "      <td>отсутствие эмоции</td>\n",
       "      <td>Ну собственно это не удивительно.</td>\n",
       "    </tr>\n",
       "    <tr>\n",
       "      <th>1</th>\n",
       "      <td>радость</td>\n",
       "      <td>“ Новогодняя ёлка :) #radiorecord ” Ужас!</td>\n",
       "    </tr>\n",
       "    <tr>\n",
       "      <th>2</th>\n",
       "      <td>грусть</td>\n",
       "      <td>Сижу 20 часов в твиттере, чтобы сказать  чтоб он там завязывал злиться и обижаться на меня :(</td>\n",
       "    </tr>\n",
       "    <tr>\n",
       "      <th>3</th>\n",
       "      <td>удивление</td>\n",
       "      <td>«В Disney что, только что подтвердили, что Пиноккио мертв внутри?» — недоумевал @BrightRistar.</td>\n",
       "    </tr>\n",
       "    <tr>\n",
       "      <th>4</th>\n",
       "      <td>страх</td>\n",
       "      <td>То ужасное чувство, когда задача решается через дискриминант, а он меньше нуля.. :|</td>\n",
       "    </tr>\n",
       "    <tr>\n",
       "      <th>5</th>\n",
       "      <td>злость</td>\n",
       "      <td>Клинтон добавил, что его приводит в ярость политика президента США Дональда Трампа в области климата, а также он гневается на европейских лидеров, которые не приняли в свои страны мигрантов из Сирии.</td>\n",
       "    </tr>\n",
       "  </tbody>\n",
       "</table>\n",
       "</div>"
      ],
      "text/plain": [
       "              Эмоция  \\\n",
       "0  отсутствие эмоции   \n",
       "1            радость   \n",
       "2             грусть   \n",
       "3          удивление   \n",
       "4              страх   \n",
       "5             злость   \n",
       "\n",
       "                                                                                                                                                                                                    Пример  \n",
       "0                                                                                                                                                                        Ну собственно это не удивительно.  \n",
       "1                                                                                                                                                                “ Новогодняя ёлка :) #radiorecord ” Ужас!  \n",
       "2                                                                                                            Сижу 20 часов в твиттере, чтобы сказать  чтоб он там завязывал злиться и обижаться на меня :(  \n",
       "3                                                                                                           «В Disney что, только что подтвердили, что Пиноккио мертв внутри?» — недоумевал @BrightRistar.  \n",
       "4                                                                                                                      То ужасное чувство, когда задача решается через дискриминант, а он меньше нуля.. :|  \n",
       "5  Клинтон добавил, что его приводит в ярость политика президента США Дональда Трампа в области климата, а также он гневается на европейских лидеров, которые не приняли в свои страны мигрантов из Сирии.  "
      ]
     },
     "metadata": {},
     "execution_count": 68
    }
   ],
   "execution_count": null
  },
  {
   "metadata": {},
   "source": [
    "pd.set_option(\"display.max_columns\", 2)\n",
    "pd.set_option(\"display.expand_frame_repr\", True)\n",
    "pd.set_option(\"max_colwidth\", 200)"
   ],
   "cell_type": "code",
   "outputs": [],
   "execution_count": null
  }
 ]
}
